{
 "cells": [
  {
   "cell_type": "code",
   "execution_count": null,
   "id": "abd58bf8-045f-4d78-84e9-5328ea5dea4f",
   "metadata": {},
   "outputs": [],
   "source": [
    "!pip install numpy perceval-quandela qiskit"
   ]
  },
  {
   "cell_type": "code",
   "execution_count": null,
   "id": "e156d68cbc62a3bb",
   "metadata": {
    "collapsed": false
   },
   "outputs": [],
   "source": [
    "import numpy as np\n",
    "import perceval as pcvl"
   ]
  },
  {
   "cell_type": "markdown",
   "id": "178a84418c881be2",
   "metadata": {
    "collapsed": false
   },
   "source": [
    "# Challenge 1 : Découverte de l'encodage par \"rail\"\n",
    "\n",
    "![railway_meme.jpg](https://i.imgflip.com/8nfdum.jpg)\n",
    "\n",
    "## Encoder des qubits ?\n",
    "L'information quantique portée par un **qubit** peut être représentée de différentes manières. Nous utilisons ici le modèle d'ordinateur quantique photonique, c'est-à-dire, qui fonctionne avec **des photons** et **du matériel optique**. "
   ]
  },
  {
   "cell_type": "code",
   "execution_count": null,
   "id": "6706e4db218c5796",
   "metadata": {
    "collapsed": false
   },
   "outputs": [],
   "source": [
    "# Une magnifique porte \n",
    "x_gate = pcvl.PERM([1, 0])\n",
    "pcvl.pdisplay(x_gate)"
   ]
  },
  {
   "cell_type": "markdown",
   "id": "c0aec390bc1b0c9f",
   "metadata": {
    "collapsed": false
   },
   "source": [
    "*Travailler avec des photons comporte beaucoup d'avantages, toutes les opérations sont possibles, avec des applications directes dans les télécommunications notamment, la mise à l'échelle est facilitée et la consommation est moindre.*"
   ]
  },
  {
   "cell_type": "code",
   "execution_count": null,
   "id": "5150c9689952557a",
   "metadata": {
    "collapsed": false
   },
   "outputs": [],
   "source": [
    "# Une autre magnifique porte\n",
    "hadamard_gate = pcvl.BS.H()\n",
    "pcvl.pdisplay(hadamard_gate)"
   ]
  },
  {
   "cell_type": "markdown",
   "id": "da8286d4ac8b5468",
   "metadata": {
    "collapsed": false
   },
   "source": [
    "Plusieurs façons d'encoder des qubits avec des photons existent, nous avons choisi de nous concentrer sur l'encodage en **double rail**, car elle est plus facile à appréhender."
   ]
  },
  {
   "cell_type": "code",
   "execution_count": null,
   "id": "b567e1429c2584c3",
   "metadata": {
    "collapsed": false
   },
   "outputs": [],
   "source": [
    "qubits = {\n",
    "    \"0\": pcvl.BasicState([1, 0]),\n",
    "    \"1\": pcvl.BasicState([0, 1])\n",
    "}\n",
    "print(\"Le qbit 0 sur le premier rail :\", qubits[\"0\"])\n",
    "print(\"Le qbit 1 sur le second rail :\", qubits[\"1\"])"
   ]
  },
  {
   "cell_type": "markdown",
   "id": "397696279265cba3",
   "metadata": {
    "collapsed": false
   },
   "source": [
    "On peut alors effectuer des opérations sur ces rails pour simuler des **portes logiques**. Par exemple une porte *not* (`x_gate`) : "
   ]
  },
  {
   "cell_type": "code",
   "execution_count": null,
   "id": "3e82fbcf9632058b",
   "metadata": {
    "collapsed": false
   },
   "outputs": [],
   "source": [
    "# On crée une simulation de notre circuit : x_gate\n",
    "p = pcvl.Processor(\"Naive\", x_gate)\n",
    "\n",
    "# On analyse la sortie produite avec un qubit 0 à l'entrée\n",
    "analyser = pcvl.algorithm.Analyzer(p, [qubits[\"0\"]], '*')\n",
    "pcvl.pdisplay(analyser)"
   ]
  },
  {
   "cell_type": "markdown",
   "id": "ac530f9e-4cd5-4f4e-855b-eb9d18570997",
   "metadata": {},
   "source": [
    "On peut aussi essayer avec **plusieurs entrées** :"
   ]
  },
  {
   "cell_type": "code",
   "execution_count": null,
   "id": "5993db76-555d-45bf-b622-6a5d4558c914",
   "metadata": {},
   "outputs": [],
   "source": [
    "# Dictionnaire (inverse de qubit défini au dessus) servant à afficher directement les qubits lorsqu'on\n",
    "# utilise des fonctions comme l'ananlyseur. \n",
    "qubits_ = {qubits[k]: k for k in qubits}\n",
    "\n",
    "# Le '*' dans la définition précédente d'analyser servait à afficher toutes les sorties possible, ici,\n",
    "# j'ai précisé quelles sorties je voulais pour les avoir dans l'ordre que je souhaite. \n",
    "analyser = pcvl.algorithm.Analyzer(\n",
    "    p, \n",
    "    input_states=list(qubits.values()), \n",
    "    output_states=list(qubits.values()), \n",
    "    mapping=qubits_\n",
    ")\n",
    "pcvl.pdisplay(analyser)"
   ]
  },
  {
   "cell_type": "markdown",
   "id": "78c7f827-b6b2-4f54-89e1-f46dea448e46",
   "metadata": {},
   "source": [
    "Toutes les opérations peuvent se représenter par des **matrices unitaires**. Par exemples le circuit précédent peut se résumer par :"
   ]
  },
  {
   "cell_type": "code",
   "execution_count": null,
   "id": "708a3b33-19ee-4f9f-9d25-e35f7ec6bb57",
   "metadata": {},
   "outputs": [],
   "source": [
    "pcvl.pdisplay(x_gate.definition())"
   ]
  },
  {
   "cell_type": "markdown",
   "id": "9eaaa76c-de27-4f27-8d2d-1cd640405fc5",
   "metadata": {},
   "source": [
    "De manière générale : \n",
    "$$\n",
    "|\\phi\\rangle = U|\\psi\\rangle\n",
    "$$\n",
    "\n",
    "Et ici : \n",
    "$$\n",
    "|\\phi\\rangle = X|1\\rangle = \\begin{pmatrix} 0 & 1 \\\\ 1 & 0 \\end{pmatrix} \\begin{pmatrix} 0 \\\\ 1 \\end{pmatrix} = \\begin{pmatrix} 1 \\\\ 0 \\end{pmatrix} = |0\\rangle\n",
    "$$\n",
    "\n",
    "La **concaténation de circuits** se traduit par une simple **multiplication matricielle** : "
   ]
  },
  {
   "cell_type": "code",
   "execution_count": null,
   "id": "c32699e7-ea9f-4648-b5b6-0adaa491f04b",
   "metadata": {},
   "outputs": [],
   "source": [
    "super_circuit = x_gate // x_gate\n",
    "pcvl.pdisplay(super_circuit.compute_unitary()) # On ne peut plus faire appel directement à .definition()"
   ]
  },
  {
   "cell_type": "markdown",
   "id": "944538d3-1cb1-43f9-baef-57b2cd4d71f5",
   "metadata": {},
   "source": [
    "On peut essayer avec l'analyseur :"
   ]
  },
  {
   "cell_type": "code",
   "execution_count": null,
   "id": "a7ff9909-fe90-42d6-8321-84ec4aeeb8d4",
   "metadata": {},
   "outputs": [],
   "source": [
    "p = pcvl.Processor(\"Naive\", super_circuit)\n",
    "analyser = pcvl.algorithm.Analyzer(\n",
    "    p, \n",
    "    input_states=list(qubits.values()), \n",
    "    output_states=list(qubits.values()), \n",
    "    mapping=qubits_\n",
    ")\n",
    "pcvl.pdisplay(analyser)"
   ]
  },
  {
   "cell_type": "markdown",
   "id": "c272b7cd-e4e9-447c-bbe1-90e42f70edff",
   "metadata": {},
   "source": [
    "Sans le mapping :"
   ]
  },
  {
   "cell_type": "code",
   "execution_count": null,
   "id": "cafe1373-54d1-4b91-9f27-ec72c4d7a0e6",
   "metadata": {},
   "outputs": [],
   "source": [
    "analyser = pcvl.algorithm.Analyzer(\n",
    "    p, \n",
    "    input_states=list(qubits.values()), \n",
    "    output_states=list(qubits.values())\n",
    ")\n",
    "pcvl.pdisplay(analyser)"
   ]
  },
  {
   "cell_type": "markdown",
   "id": "5bd04d16-adb6-4029-9dd0-0a95647e911d",
   "metadata": {},
   "source": [
    "Ou même observer notre magnifique super circuit qui ne *sert à rien* : "
   ]
  },
  {
   "cell_type": "code",
   "execution_count": null,
   "id": "0e6b8079-32ec-4c7f-8b94-b8adc18b6257",
   "metadata": {},
   "outputs": [],
   "source": [
    "pcvl.pdisplay(super_circuit)"
   ]
  },
  {
   "cell_type": "markdown",
   "id": "d31abceb-bd22-4d0e-9ba2-f2eaf23e73cb",
   "metadata": {},
   "source": [
    "## Le début des problèmes...\n",
    "\n",
    "C'est bien gentil les portes *not*, mais on ne va pas faire grand-chose avec. Que ce passe-t-il donc si on essaye avec une *autre* porte ? "
   ]
  },
  {
   "cell_type": "code",
   "execution_count": null,
   "id": "6732f492-a9cd-43ff-80d3-67fc595b6653",
   "metadata": {},
   "outputs": [],
   "source": [
    "p = pcvl.Processor(\"Naive\", hadamard_gate)\n",
    "analyser = pcvl.algorithm.Analyzer(\n",
    "    p, \n",
    "    input_states=[qubits[\"0\"]], \n",
    "    output_states=list(qubits.values()), \n",
    "    mapping=qubits_\n",
    ")\n",
    "pcvl.pdisplay(analyser)"
   ]
  },
  {
   "cell_type": "markdown",
   "id": "565609d4-dda8-4084-88d2-18f9b1d0c26b",
   "metadata": {},
   "source": [
    "Que c'est-il passé ? On a utilisé la superstar des portes quantiques : **la porte d'Hadamard**. C'est la *porte d'entrée* vers le monde de la quantique, elle permet de préparer un qbit dans un état **superposé**, ici : \n",
    "\n",
    "\n",
    "$$\n",
    "H = \\frac{1}{\\sqrt{2}} \\begin{pmatrix} 1 & 1 \\\\ 1 & -1 \\end{pmatrix}\n",
    "$$\n",
    "\n",
    "Si on ajoute un $0$ en entrée : \n",
    "$$\n",
    "|\\phi\\rangle = H|0\\rangle = \\frac{1}{\\sqrt{2}} \\begin{pmatrix} 1 & 1 \\\\ 1 & -1 \\end{pmatrix} \\begin{pmatrix} 1 \\\\ 0 \\end{pmatrix} = \\frac{1}{\\sqrt{2}} \\begin{pmatrix} 1 \\\\ 1 \\end{pmatrix} \n",
    "$$\n",
    "\n",
    "Avec : \n",
    "$$\n",
    "\\frac{1}{\\sqrt{2}} \\begin{pmatrix} 1 \\\\ 1 \\end{pmatrix} = \\frac{1}{\\sqrt{2}} \\begin{pmatrix} 1 \\\\ 0 \\end{pmatrix} + \\frac{1}{\\sqrt{2}} \\begin{pmatrix} 0 \\\\ 1 \\end{pmatrix} = \\frac{1}{\\sqrt{2}} |0\\rangle + \\frac{1}{\\sqrt{2}}|1\\rangle\n",
    "$$\n",
    "\n",
    "*On peut créer une porte d'Hadamard avec une lame semi-réfléchissante !*"
   ]
  },
  {
   "cell_type": "code",
   "execution_count": null,
   "id": "1aae6869-a24c-4f1a-958e-80839dec7593",
   "metadata": {},
   "outputs": [],
   "source": [
    "pcvl.pdisplay(hadamard_gate)"
   ]
  },
  {
   "cell_type": "markdown",
   "id": "6201b8ec-2d73-4d7a-a310-905465bd7994",
   "metadata": {
    "ExecuteTime": {
     "end_time": "2024-03-28T06:00:47.569455Z",
     "start_time": "2024-03-28T06:00:47.567823Z"
    }
   },
   "source": [
    "Vous l'avez peut-être remarqué, mais la sortie de l'analyseur n'est pas la même que celle des équations. En effet, $|\\phi\\rangle$ est un état quantique, qui peut être **complexe** : $|\\phi\\rangle = \\frac{i}{\\sqrt{2}} |0\\rangle - \\frac{i}{\\sqrt{2}} |1\\rangle$, alors que les probabilités d'observer un état plutôt qu'un autre sont bien réelles ! Pour passer aux probabilités, il suffit de **prendre le carré**. Par exemple pour l'exemple précédent : $\\Pr(|0\\rangle) = \\left|\\frac{1}{\\sqrt{2}}\\right|^2 = \\frac{1}{2}$. Ce qui correspond bien à la sortie de notre analyseur. \n",
    "\n",
    "Pour obtenir les amplitudes complexes, on peut utiliser un *backend* : "
   ]
  },
  {
   "cell_type": "code",
   "execution_count": null,
   "id": "0827a191-607e-48b5-aa23-747f9bbbf6ec",
   "metadata": {},
   "outputs": [],
   "source": [
    "backend = pcvl.BackendFactory.get_backend(\"Naive\")\n",
    "backend.set_circuit(hadamard_gate)\n",
    "backend.set_input_state(qubits[\"0\"])\n",
    "ampl0, ampl1 = backend.prob_amplitude(qubits[\"0\"]), backend.prob_amplitude(qubits[\"1\"])\n",
    "print(f\"|phi> = {ampl0} |0> + {ampl1} |1>\")"
   ]
  },
  {
   "cell_type": "markdown",
   "id": "84a62735-0e0d-4196-ab3f-ece1f4f9a283",
   "metadata": {},
   "source": [
    "On retrouve bien le résultat des équations : \n",
    "$$\n",
    "|\\phi\\rangle = \\frac{1}{\\sqrt{2}} |0\\rangle + \\frac{1}{\\sqrt{2}}|1\\rangle\n",
    "$$\n",
    "\n",
    "\n",
    "\n",
    "*Cette suite de challenge ne vise pas à entrer dans les détails théoriques, mais à découvrir l'écosystème des ordinateurs quantiques en pratiquant. Si vous souhaitez en apprendre plus, je vais essayer de mettre des ressources progressives dans chaque challenge. Voici déjà une belle introduction faite par Science Étonnante : https://youtu.be/bayTbt_8aNc*."
   ]
  },
  {
   "cell_type": "markdown",
   "id": "f7b98e06-4de6-4d67-968c-783c13ec2f74",
   "metadata": {},
   "source": [
    "## Un nouveau challenger : le déphaseur\n",
    "\n",
    "En plus d'avoir des amplitudes complexes, on peut les manipuler grâce à un outil très puissant : le **déphaseur**. Il s'applique à **un rail** et effectue l'opération : $e^{i\\theta}$."
   ]
  },
  {
   "cell_type": "code",
   "execution_count": null,
   "id": "79a8a80b-9161-4c2c-a9e9-62d724bbed9d",
   "metadata": {},
   "outputs": [],
   "source": [
    "phase_shifter = pcvl.PS(np.pi/3)\n",
    "pcvl.pdisplay(phase_shifter)"
   ]
  },
  {
   "cell_type": "markdown",
   "id": "cc5802a9-3b4a-46e6-93e8-c1a3a917fa0c",
   "metadata": {},
   "source": [
    "Dans un circuit cela donne : "
   ]
  },
  {
   "cell_type": "code",
   "execution_count": null,
   "id": "8640dbaa-9127-4605-96cf-13370095406c",
   "metadata": {},
   "outputs": [],
   "source": [
    "circuit_ps = pcvl.Circuit(2) // (0, phase_shifter)  # Le 0 correspond au numéro du rail où est positionné \n",
    "                                                    # notre composant \n",
    "pcvl.pdisplay(circuit_ps)"
   ]
  },
  {
   "cell_type": "markdown",
   "id": "3ab226c4-c837-4c7f-b624-f7a883f21929",
   "metadata": {},
   "source": [
    "Avec sa **matrice unitaire** associée :"
   ]
  },
  {
   "cell_type": "code",
   "execution_count": null,
   "id": "24619349-f5f0-4dd0-ac3f-fcae98621df3",
   "metadata": {},
   "outputs": [],
   "source": [
    "pcvl.pdisplay(circuit_ps.compute_unitary())"
   ]
  },
  {
   "cell_type": "markdown",
   "id": "c87123db-2023-418a-b306-75b6c5b07618",
   "metadata": {},
   "source": [
    "Il est aussi possible de regarder directement ce que donnent les **amplitudes** : "
   ]
  },
  {
   "cell_type": "code",
   "execution_count": null,
   "id": "51793b16-9d59-4539-b888-aa30f998fe7f",
   "metadata": {},
   "outputs": [],
   "source": [
    "backend_ps = pcvl.BackendFactory.get_backend(\"Naive\")\n",
    "backend_ps.set_circuit(circuit_ps)\n",
    "backend_ps.set_input_state(qubits[\"0\"])\n",
    "ampl0, ampl1 = backend_ps.prob_amplitude(qubits[\"0\"]), backend_ps.prob_amplitude(qubits[\"1\"])\n",
    "print(f\"|phi> = {ampl0} |0> + {ampl1} |1>\")"
   ]
  },
  {
   "cell_type": "markdown",
   "id": "5ee23c26-2689-4bdc-991e-61a2f043a092",
   "metadata": {},
   "source": [
    "On peut s'amuser à reproduire des portes connues, comme la porte *not* :"
   ]
  },
  {
   "cell_type": "code",
   "execution_count": null,
   "id": "5f0633c1-b887-4a75-b7fd-dd9a7dc086ae",
   "metadata": {},
   "outputs": [],
   "source": [
    "super_not = hadamard_gate // (1, pcvl.PS(np.pi)) // hadamard_gate\n",
    "pcvl.pdisplay(super_not)"
   ]
  },
  {
   "cell_type": "code",
   "execution_count": null,
   "id": "8f894007-6293-43d4-ad49-dc9d30f43626",
   "metadata": {},
   "outputs": [],
   "source": [
    "p = pcvl.Processor(\"Naive\", super_not)\n",
    "analyser = pcvl.algorithm.Analyzer(\n",
    "    p, \n",
    "    input_states=list(qubits.values()), \n",
    "    output_states=list(qubits.values()), \n",
    "    mapping=qubits_\n",
    ")\n",
    "pcvl.pdisplay(analyser)"
   ]
  },
  {
   "cell_type": "markdown",
   "id": "dbccc0b7-e6f3-48f1-b09d-22af70126531",
   "metadata": {},
   "source": [
    "*Que s'est-il passé ? Dans la base canonique $\\left(|0\\rangle = \\begin{pmatrix} 1 \\\\ 0 \\end{pmatrix}, |1\\rangle = \\begin{pmatrix} 0 \\\\ 1 \\end{pmatrix}\\right)$, appliquer un changement de phase sur l'un des deux rails n'aurait rien changé. Par contre, en passant dans une autre base :* \n",
    "$$\n",
    "H|0\\rangle = H \\begin{pmatrix} 1 \\\\ 0 \\end{pmatrix} = \\frac{1}{\\sqrt{2}} \\begin{pmatrix} 1 \\\\ 1 \\end{pmatrix} = |+\\rangle \n",
    "$$\n",
    "\n",
    "$$\n",
    "H|1\\rangle = H \\begin{pmatrix} 0 \\\\ 1 \\end{pmatrix} = \\frac{1}{\\sqrt{2}} \\begin{pmatrix} 1 \\\\ -1 \\end{pmatrix} = |-\\rangle\n",
    "$$\n",
    "\n",
    "*On remarque que \"0\" et \"1\" diffèrent uniquement d'un changement de phase, ici un décalage de $e^{i\\pi}$ sur le deuxième rail. Il suffit donc de passer dans la nouvelle base, déphaser le deuxième rail, et revenir dans la base canonique ($H$ est sa propre inverse, donc facile).*"
   ]
  },
  {
   "cell_type": "markdown",
   "id": "0be0f2d2-025e-49c5-ba45-4ae758751b5c",
   "metadata": {},
   "source": [
    "## À vous de jouer ! \n",
    "\n",
    "Pour cette partie, nous allons utiliser la généralisation de la porte d'Hadamard : un *Beam Splitter*. Voici ses paramètres : "
   ]
  },
  {
   "cell_type": "code",
   "execution_count": null,
   "id": "690a40b0-d839-435f-b8dd-676f965ee59c",
   "metadata": {},
   "outputs": [],
   "source": [
    "# On peut définir des variables symboliques : \n",
    "symbolic_alpha = pcvl.P('α')\n",
    "simple_bs = pcvl.BS(theta=symbolic_alpha)\n",
    "pcvl.pdisplay(simple_bs.U)"
   ]
  },
  {
   "cell_type": "code",
   "execution_count": null,
   "id": "de2cf8e8-0f08-4e65-ac65-79c1e4e91c17",
   "metadata": {},
   "outputs": [],
   "source": [
    "# Puis leur assigner une valeur : \n",
    "simple_bs.assign({'α': np.pi/2})\n",
    "pcvl.pdisplay(simple_bs.compute_unitary())"
   ]
  },
  {
   "cell_type": "code",
   "execution_count": null,
   "id": "12578527-e893-4ec3-bf47-04f6991dd0fb",
   "metadata": {},
   "outputs": [],
   "source": [
    "# Ou changer ensuite de valeur : \n",
    "symbolic_alpha.set_value(np.pi)\n",
    "pcvl.pdisplay(simple_bs.compute_unitary())"
   ]
  },
  {
   "cell_type": "markdown",
   "id": "005e7295-720e-475a-8ee1-c8995405a6d2",
   "metadata": {},
   "source": [
    "### Étape 1\n",
    "\n",
    "Considérant le circuit suivant (qui correspond à la définition du *Beam Splitter* d'au-dessus) : "
   ]
  },
  {
   "cell_type": "code",
   "execution_count": null,
   "id": "56b004f0-b492-4432-a079-87603f193705",
   "metadata": {},
   "outputs": [],
   "source": [
    "step_one = simple_bs\n",
    "pcvl.pdisplay(step_one)"
   ]
  },
  {
   "cell_type": "markdown",
   "id": "99990002-5f9e-4a3f-93ab-d30b5a695659",
   "metadata": {},
   "source": [
    "Et une valeur d'entrée : $|0\\rangle$, \n",
    "\n",
    "Quelle valeur de $\\alpha$ prendre pour avoir une probabilité de 0.9 d'avoir $|1\\rangle$ ?"
   ]
  },
  {
   "cell_type": "code",
   "execution_count": null,
   "id": "85360ec3-9512-4f30-8651-515588e721e2",
   "metadata": {},
   "outputs": [],
   "source": [
    "alpha = ...\n",
    "raise NotImplementedError"
   ]
  },
  {
   "cell_type": "code",
   "execution_count": null,
   "id": "b6b45507-b041-43bd-8b09-fe96ee791766",
   "metadata": {},
   "outputs": [],
   "source": [
    "step_one.assign({'α': alpha})\n",
    "pcvl.pdisplay(step_one)"
   ]
  },
  {
   "cell_type": "code",
   "execution_count": null,
   "id": "2936ce07-6bc5-484d-a6f8-43ce5edc1ebf",
   "metadata": {},
   "outputs": [],
   "source": [
    "p_step_one = pcvl.Processor(\"Naive\", step_one)\n",
    "a_step_one = pcvl.algorithm.Analyzer(\n",
    "    p_step_one, \n",
    "    input_states=[qubits[\"0\"]], \n",
    "    output_states=list(qubits.values()),             \n",
    "    mapping=qubits_\n",
    ")\n",
    "\n",
    "print(\"L'analyser doit renvoyer : 1/10 pour 0 et 9/10 pour 1\")\n",
    "pcvl.pdisplay(a_step_one)\n",
    "# assert np.isclose(a_step_one.distribution[0][1].real, 0.9) "
   ]
  },
  {
   "cell_type": "markdown",
   "id": "d3f55d5f-480a-4f90-a2c6-dc284ba750c8",
   "metadata": {
    "ExecuteTime": {
     "end_time": "2024-03-30T06:23:55.276250Z",
     "start_time": "2024-03-30T06:23:55.274172Z"
    }
   },
   "source": [
    "### Étape 2\n",
    "\n",
    "En considérant le circuit suivant, ainsi qu'une valeur d'entrée de $|0\\rangle$, trouvez les valeurs de $\\beta$ et $\\gamma$ pour préparer un qbit dans l'état :\n",
    "$$\n",
    "|\\psi\\rangle = \\frac{\\sqrt{3}}{2} |0\\rangle + \\left(\\frac{\\sqrt{3}}{4} - \\frac{i}{4} \\right)|1\\rangle \n",
    "$$"
   ]
  },
  {
   "cell_type": "code",
   "execution_count": null,
   "id": "733cd719-d51a-4404-8ae3-c816d49460de",
   "metadata": {},
   "outputs": [],
   "source": [
    "symbolic_beta = pcvl.P(\"β\")\n",
    "symbolic_gamma = pcvl.P(\"γ\")\n",
    "step_two = pcvl.BS(theta=symbolic_beta) // (1, pcvl.PS(phi=symbolic_gamma))\n",
    "pcvl.pdisplay(step_two)"
   ]
  },
  {
   "cell_type": "code",
   "execution_count": null,
   "id": "643ab2bf-6f47-45bc-a997-99ec02bc6433",
   "metadata": {},
   "outputs": [],
   "source": [
    "beta = ...\n",
    "gamma = ...\n",
    "raise NotImplementedError"
   ]
  },
  {
   "cell_type": "code",
   "execution_count": null,
   "id": "446b475e-8d22-4d9a-b6b9-560d07eabafb",
   "metadata": {},
   "outputs": [],
   "source": [
    "step_two.assign({\"β\": beta, \"γ\": gamma})\n",
    "\n",
    "b_step_two = pcvl.BackendFactory.get_backend(\"Naive\")\n",
    "b_step_two.set_circuit(step_two)\n",
    "b_step_two.set_input_state(qubits[\"0\"])\n",
    "\n",
    "ampl0, ampl1 = b_step_two.prob_amplitude(qubits[\"0\"]), b_step_two.prob_amplitude(qubits[\"1\"])\n",
    "\n",
    "res = f\"|φ> = {np.round(ampl0, 2)} |0> + {np.round(ampl1, 2)} |1>\"\n",
    "sol = f\"|φ> = {np.round(np.sqrt(3) / 2 + 0j, 2)} |0> + {np.round(np.sqrt(3) / 4 - 1j / 4, 2)} |1>\"\n",
    "\n",
    "print(f\"Résultat : {res}\")\n",
    "print(f\"Solution : {sol}\")\n",
    "\n",
    "# On s'assure que la réponse est bien égale à la solution : \n",
    "# assert res == sol"
   ]
  },
  {
   "cell_type": "markdown",
   "id": "0526ad2e-5d4b-4941-bf02-385ddf575cbd",
   "metadata": {},
   "source": [
    "### Un dernier outil pour la route : la sphère de Bloch \n",
    "\n",
    "Il se trouve que les deux résultats précédents peuvent être généralisés. Avec le circuit suivant, il est possible de préparer **n'importe quel état.** *(https://perceval.quandela.net/docs/components.html#beam-splitter)*"
   ]
  },
  {
   "cell_type": "code",
   "execution_count": null,
   "id": "9c172d5d-5743-42b3-b07f-61d2976edefa",
   "metadata": {},
   "outputs": [],
   "source": [
    "super_preparator = pcvl.BS()\n",
    "pcvl.pdisplay(super_preparator)"
   ]
  },
  {
   "cell_type": "markdown",
   "id": "db366fee-62cf-478e-aeab-008c4a5afca2",
   "metadata": {},
   "source": [
    "La définition est en fait bien plus générale que ce qu'on a utilisé précédemment : "
   ]
  },
  {
   "cell_type": "code",
   "execution_count": null,
   "id": "15eabe55-3dbe-429b-8fe8-8946ca80d619",
   "metadata": {},
   "outputs": [],
   "source": [
    "pcvl.pdisplay(super_preparator.definition())"
   ]
  },
  {
   "cell_type": "markdown",
   "id": "d9f5ff9d-9929-4648-8c4c-f932ce5b4930",
   "metadata": {},
   "source": [
    "Par exemple, avec des valeurs aléatoires : "
   ]
  },
  {
   "cell_type": "code",
   "execution_count": null,
   "id": "268f11d7-2c1e-40ca-9b0e-b8cc8ca696c7",
   "metadata": {},
   "outputs": [],
   "source": [
    "import random\n",
    "phi_tl, phi_tr, phi_bl, phi_br, theta_ = [round(random.uniform(0, np.pi), 2) for _ in range(5)]\n",
    "super_preparator = pcvl.BS(phi_tl=phi_tl, phi_tr=phi_tr, phi_bl=phi_bl, phi_br=phi_br, theta=theta_)\n",
    "pcvl.pdisplay(super_preparator.U)"
   ]
  },
  {
   "cell_type": "markdown",
   "id": "4e2acf9c-d765-4334-84cc-e3cad2e10adf",
   "metadata": {},
   "source": [
    "Ce qui nous permet de préparer : "
   ]
  },
  {
   "cell_type": "code",
   "execution_count": null,
   "id": "e2168751-9c38-4771-900e-592ec4a7c790",
   "metadata": {},
   "outputs": [],
   "source": [
    "backend = pcvl.BackendFactory.get_backend(\"Naive\")\n",
    "backend.set_circuit(super_preparator)\n",
    "backend.set_input_state(qubits[\"0\"])\n",
    "\n",
    "ampl0, ampl1 = backend.prob_amplitude(qubits[\"0\"]), backend.prob_amplitude(qubits[\"1\"])\n",
    "\n",
    "print(f\"|φ> = {np.round(ampl0, 2)} |0> + {np.round(ampl1, 2)} |1>\")"
   ]
  },
  {
   "cell_type": "markdown",
   "id": "1cf3057d-6061-4308-87ca-de1311c3146d",
   "metadata": {},
   "source": [
    "Pour représenter un qubit, il est possible d'utiliser la **sphère de Bloch**. \n",
    "\n",
    "<img src=\"https://upload.wikimedia.org/wikipedia/commons/thumb/6/6b/Bloch_sphere.svg/800px-Bloch_sphere.svg.png\" alt=\"bloch_sphere_wikipedia.png\" width=\"200\" height=\"200\">\n",
    "\n",
    "L'axe $Z$ correspond aux états $|0\\rangle$ et $|1\\rangle$, l'axe $X$ correspond aux états $|+\\rangle$ et $|-\\rangle$ rencontrés précédemment, et l'axe $Y$ correspond aux états $|i\\rangle$ et $|-i\\rangle$. \n",
    "\n",
    "On peut facilement visualiser un état avec la librairie Qiskit :"
   ]
  },
  {
   "cell_type": "code",
   "execution_count": null,
   "id": "03719bea-6d9d-4fd9-ba26-4c5a11b08721",
   "metadata": {},
   "outputs": [],
   "source": [
    "from qiskit.visualization import plot_bloch_multivector\n",
    "from qiskit.quantum_info import Statevector\n",
    "\n",
    "state_vector = Statevector([ampl0, ampl1])  # À ne pas confondre avec StateVector de Perceval\n",
    "plot_bloch_multivector(state_vector)"
   ]
  },
  {
   "cell_type": "markdown",
   "id": "c670bb25-555a-41b1-87a9-bef1a2456851",
   "metadata": {},
   "source": [
    "Un simple $|0\\rangle$ : "
   ]
  },
  {
   "cell_type": "code",
   "execution_count": null,
   "id": "4c6c37d9-02cc-4a1d-8124-d1be002dd883",
   "metadata": {},
   "outputs": [],
   "source": [
    "plot_bloch_multivector(np.array(qubits[\"0\"]))  # Même chose que plot_bloch_multivector([1, 0])"
   ]
  },
  {
   "cell_type": "markdown",
   "id": "4b03e9cd-e1dc-4d38-9feb-181981b4b149",
   "metadata": {},
   "source": [
    "Petit utilitaire pour la suite : "
   ]
  },
  {
   "cell_type": "code",
   "execution_count": null,
   "id": "8cabfdf2-3e38-4703-a8de-4fb4e734770f",
   "metadata": {},
   "outputs": [],
   "source": [
    "def circuit_to_state_vector(circuit):\n",
    "    backend = pcvl.BackendFactory.get_backend(\"Naive\")\n",
    "    backend.set_circuit(circuit)\n",
    "    backend.set_input_state(qubits[\"0\"])\n",
    "    ampl0, ampl1 = backend.prob_amplitude(qubits[\"0\"]), backend.prob_amplitude(qubits[\"1\"])\n",
    "    return Statevector([ampl0, ampl1])\n",
    "plot_bloch = lambda circuit: plot_bloch_multivector(circuit_to_state_vector(circuit))"
   ]
  },
  {
   "cell_type": "markdown",
   "id": "1992ac43-3722-46d9-939e-b04905f7d2c9",
   "metadata": {},
   "source": [
    "Notre état $|+\\rangle$, fabriqué en appliquant une porte d'Hadamard sur $|0\\rangle$ $\\left(|+\\rangle = H|0\\rangle\\right)$ :"
   ]
  },
  {
   "cell_type": "code",
   "execution_count": null,
   "id": "fc9fb535-254f-4ae5-bcd6-5e480fcc0cf9",
   "metadata": {},
   "outputs": [],
   "source": [
    "plot_bloch(hadamard_gate)"
   ]
  },
  {
   "cell_type": "markdown",
   "id": "eeee2b58-8fbc-4641-9f97-9a8e37f90bc2",
   "metadata": {},
   "source": [
    "Étant donné que la mesure est une projection, dans notre cas, sur la base $\\left\\{|0\\rangle, |1\\rangle\\right\\}$, il est plus facile de voir avec cette représentation que l'état $|+\\rangle$, quand il est mesuré, a autant de chance de donner $0$ que de donner $1$. Il est aussi simple de voir que la phase globale (une rotation sur l'axe $Z$), n'aura pas d'influence sur la mesure. Cela se retrouve par le calcul, pour $|\\psi\\rangle = e^{i\\theta} \\alpha |0\\rangle + e^{i\\theta} \\beta |1\\rangle$ : \n",
    "$$\n",
    "\\Pr(0) = \\left|e^{i\\theta}\\alpha\\right|^2 = |\\alpha|^2\n",
    "$$\n",
    "$$\n",
    "\\Pr(1) = \\left|e^{i\\theta}\\beta\\right|^2 = |\\beta|^2\n",
    "$$\n",
    "\n",
    "Par ailleurs, on peut aussi comprendre pourquoi la porte *not* s'appelle une porte $X$ : Une rotation de $\\pi$ autour de l'axe $X$, fait passer l'état $|0\\rangle$ à l'état $|1\\rangle$, et inversement. "
   ]
  },
  {
   "cell_type": "markdown",
   "id": "0a32e8ef-85cf-4e8a-ac9d-27ebe1c1d6ab",
   "metadata": {},
   "source": [
    "### Étape finale"
   ]
  },
  {
   "cell_type": "markdown",
   "id": "d4599ef4-c50b-4843-ac76-720940e55c9a",
   "metadata": {},
   "source": [
    "De nouveau, quelques fonctions utilitaires. Comme leurs noms l'indiquent, ces fonctions permettent d'effectuer des rotations selon les différents axes avec un angle choisi. Pour les combiner, il suffit d'utiliser l'opérateur //. \n",
    "\n",
    "*(PS : Rappelez vous de la règle de la main :)*"
   ]
  },
  {
   "cell_type": "code",
   "execution_count": null,
   "id": "2c33df13-bf92-4ed0-badb-cd76fdca18f9",
   "metadata": {},
   "outputs": [],
   "source": [
    "x_rot = lambda x: pcvl.Circuit(2) // (0, pcvl.PS(np.pi)) // pcvl.BS.Rx(theta=x) // (0, pcvl.PS(np.pi)) \n",
    "y_rot = lambda x: pcvl.BS.Ry(theta=x)\n",
    "z_rot = lambda x: pcvl.BS.H() // x_rot(x) // pcvl.BS.H() "
   ]
  },
  {
   "cell_type": "markdown",
   "id": "a85856ea-2716-4c0f-8cc8-ab32881c59b7",
   "metadata": {},
   "source": [
    "Se déplacer sur la sphère devient alors trivial !"
   ]
  },
  {
   "cell_type": "code",
   "execution_count": null,
   "id": "5392496d-09d8-4a9c-a161-7dde22930b32",
   "metadata": {},
   "outputs": [],
   "source": [
    "# (Tous les chemins partent de |0> avec les fontions que j'ai écrites)\n",
    "the_way = x_rot(-np.pi/4) // z_rot(-np.pi/4)\n",
    "plot_bloch(the_way)"
   ]
  },
  {
   "cell_type": "code",
   "execution_count": null,
   "id": "f33c2ff3-0265-44b3-8dfc-f816bc887b1d",
   "metadata": {},
   "outputs": [],
   "source": [
    "pcvl.pdisplay(the_way)"
   ]
  },
  {
   "cell_type": "markdown",
   "id": "79db2ddd-4b7b-4af9-98bc-d40ab6e8661e",
   "metadata": {},
   "source": [
    "Effectuez le chemin suivant : \n",
    "\n",
    "Point de départ : \n",
    "$$\n",
    "|\\phi_{start}\\rangle = \\frac{\\sqrt{2+\\sqrt{2}}}{2} |0\\rangle + \\frac{\\sqrt{2-\\sqrt{2}}}{2} e^{-i\\frac{\\pi}{4}} |1\\rangle\n",
    "$$\n",
    "\n",
    "Étape : \n",
    "$$\n",
    "|\\phi_{step}\\rangle = |-\\rangle\n",
    "$$\n",
    "\n",
    "Point d'arrivée : \n",
    "$$\n",
    "|\\phi_{finish}\\rangle = \\frac{\\sqrt{2-\\sqrt{2}}}{2} |0\\rangle + \\frac{\\sqrt{2+\\sqrt{2}}}{2} e^{i\\frac{\\pi}{4}} |1\\rangle\n",
    "$$\n",
    "\n",
    "Coordonnées du point de départ : "
   ]
  },
  {
   "cell_type": "code",
   "execution_count": null,
   "id": "3c6a942d-aa46-4333-bb39-3cd70e7f7818",
   "metadata": {},
   "outputs": [],
   "source": [
    "start_state = np.array([np.sqrt(2+np.sqrt(2))/2, np.sqrt(2-np.sqrt(2))/2 * (np.sqrt(2)/2 - 1j * np.sqrt(2)/2)])\n",
    "plot_bloch_multivector(start_state)"
   ]
  },
  {
   "cell_type": "markdown",
   "id": "3f1040ea-8d28-432e-ada0-2efcc9b3bc3b",
   "metadata": {},
   "source": [
    "Coordonnées de l'étape : "
   ]
  },
  {
   "cell_type": "code",
   "execution_count": null,
   "id": "59a22c75-595d-4afa-bd1e-a12a43e85884",
   "metadata": {},
   "outputs": [],
   "source": [
    "step_state = np.array([np.sqrt(2)/2, -np.sqrt(2)/2])\n",
    "plot_bloch_multivector(step_state)"
   ]
  },
  {
   "cell_type": "markdown",
   "id": "a888510a-efa5-4ac6-a049-07c439fbbc49",
   "metadata": {},
   "source": [
    "Coordonnées de l'arrivée : "
   ]
  },
  {
   "cell_type": "code",
   "execution_count": null,
   "id": "bcbf060d-9d12-48a9-b074-b4f0b3a6ed4f",
   "metadata": {},
   "outputs": [],
   "source": [
    "finish_state = np.array([np.sqrt(2-np.sqrt(2))/2, np.sqrt(2+np.sqrt(2))/2 * (np.sqrt(2)/2 + 1j * np.sqrt(2)/2)])\n",
    "plot_bloch_multivector(finish_state)"
   ]
  },
  {
   "cell_type": "code",
   "execution_count": null,
   "id": "20bcda1a-008f-400c-aca7-844251aa8a97",
   "metadata": {},
   "outputs": [],
   "source": [
    "start = y_rot(np.pi/4) // z_rot(-np.pi/4)  # Pour se placer sur le départ\n",
    "\n",
    "delta = ...\n",
    "epsilon = ...\n",
    "zeta = ...\n",
    "eta = ... \n",
    "raise NotImplementedError\n",
    "\n",
    "# Une autre façon d'enchaîner les portes \n",
    "final_step = (start\n",
    "                .add(0, z_rot(delta))\n",
    "                .add(0, y_rot(epsilon))  # Arrivé à l'étape Hadamard\n",
    "                .add(0, y_rot(zeta))\n",
    "                .add(0, z_rot(eta))  # Fin du parcours !\n",
    "             )\n",
    "plot_bloch(final_step)"
   ]
  },
  {
   "cell_type": "markdown",
   "id": "395b26552e8ebea3",
   "metadata": {
    "collapsed": false
   },
   "source": [
    "## Avez-vous remarqué ? \n",
    "***Ceci est un point physique non important pour la validation du challenge, je le mentionne juste pour ceux qui se posent la question***.\n",
    "\n",
    "Les amplitudes de `start` et de `start_state` ne sont pas les mêmes !\n",
    "\n",
    "En effet, il s'agit là d'un point que je n'ai pas abordé : les **phases globales** et les **phases relatives**. Une phase globale est une phase du type $e^{i\\theta}|\\phi\\rangle$, elle ne change rien dans nos calculs, car elle ne permet pas de différencier $|0\\rangle$ de $|1\\rangle$. Elle **n'est pas visible sur la sphère de Bloch, mais l'est en calculant les amplitudes**\n",
    "\n",
    "Par contre, la phase relative, une phase de type $|\\psi\\rangle = \\alpha|0\\rangle +\\beta e^{i\\theta}|1\\rangle$, pourra avoir un impact en fonction des calculs suivants (*voir par exemple la technique du **retour de phase**, central dans l'algorithme de Shor)*. Elle **est visible sur la sphère de Bloch et en calculant les amplitudes**. \n",
    "\n",
    "Du coup, quand j'ai défini : \n",
    "```python\n",
    "start_state = np.array([np.sqrt(2+np.sqrt(2))/2, np.sqrt(2-np.sqrt(2))/2 * (np.sqrt(2)/2 - 1j * np.sqrt(2)/2)])\n",
    "``` \n",
    "Les amplitudes sont : $0.92|0\\rangle + (0.27 - 0.27i)|1\\rangle$. Soit : \n",
    "$$\n",
    "|\\phi_{start}\\rangle = \\frac{\\sqrt{2+\\sqrt{2}}}{2} |0\\rangle + \\frac{\\sqrt{2-\\sqrt{2}}}{2} e^{-i\\frac{\\pi}{4}} |1\\rangle\n",
    "$$\n",
    "\n",
    "Alors que quand j'ai défini : \n",
    "```python \n",
    "start = y_rot(np.pi/4) // z_rot(-np.pi/4) \n",
    "```\n",
    "Les amplitudes sont : $(-0.35+0.15i)|0\\rangle+ (-0.85-0.35i)|1\\rangle$. Soit : \n",
    "$$\n",
    "|\\phi_{start}'\\rangle = \\frac{\\sqrt{2+\\sqrt{2}}}{2} e^{i\\frac{\\pi}{8}} |0\\rangle + \\frac{\\sqrt{2-\\sqrt{2}}}{2} e^{-i\\frac{\\pi}{8}} |1\\rangle\n",
    "$$\n",
    "\n",
    "On remarque que $|\\phi_{start}\\rangle$ et $|\\phi_{start}'\\rangle$ ne diffèrent que d'une phase globale : \n",
    "\n",
    "$$\n",
    "|\\phi_{start}'\\rangle = e^{i\\frac{\\pi}{8}} |\\phi_{start}\\rangle\n",
    "$$\n",
    "\n",
    "\n",
    "Dans mon exemple de `super_not` plus haut, j'ai utilisé une phase relative, tandis que lorsque j'ai expliqué les rotations $X$ et $Z$ juste avant l'étape finale, je parlais de phase globale ! "
   ]
  },
  {
   "cell_type": "markdown",
   "id": "70ceea6f-d339-4bb1-b08e-023ca762af27",
   "metadata": {},
   "source": [
    "## Récupération du drapeau \n",
    "\n",
    "Lancez la cellule ci-dessous en indiquant l'*URL* donné dans l'énoncé. Les tests effectués sont les mêmes que dans ce *notebook*, mais il peut y avoir des problèmes si vous avez lancé les cellules plusieurs fois. **N'hésitez pas à relancer tout le *notebook* d'un coup.** "
   ]
  },
  {
   "cell_type": "code",
   "execution_count": null,
   "id": "7a4737eb-c1bb-4741-a405-e71a07a7068b",
   "metadata": {},
   "outputs": [],
   "source": [
    "import requests as rq\n",
    "\n",
    "def circuit_to_list(circuit):\n",
    "    return [[(x.real, x.imag) for x in l] for l in np.array(circuit.compute_unitary())]\n",
    "    \n",
    "d = {\n",
    "    \"step_one\": circuit_to_list(step_one),\n",
    "    \"step_two\": circuit_to_list(step_two),\n",
    "    \"final_step\": circuit_to_list(final_step)\n",
    "}\n",
    "\n",
    "URL = ...\n",
    "# URL = \"https://perceval.challenges.404ctf.fr\"\n",
    "rq.get(URL + \"/healthcheck\").json()"
   ]
  },
  {
   "cell_type": "code",
   "execution_count": null,
   "id": "9a00a10057d77566",
   "metadata": {
    "collapsed": false
   },
   "outputs": [],
   "source": [
    "rq.post(URL + \"/challenges/1\", json=d).json()"
   ]
  }
 ],
 "metadata": {
  "kernelspec": {
   "display_name": "Python (Perceval)",
   "language": "python",
   "name": "perceval"
  },
  "language_info": {
   "codemirror_mode": {
    "name": "ipython",
    "version": 3
   },
   "file_extension": ".py",
   "mimetype": "text/x-python",
   "name": "python",
   "nbconvert_exporter": "python",
   "pygments_lexer": "ipython3",
   "version": "3.11.8"
  }
 },
 "nbformat": 4,
 "nbformat_minor": 5
}
