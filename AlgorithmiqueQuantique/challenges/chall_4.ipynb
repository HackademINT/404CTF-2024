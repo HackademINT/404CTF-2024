{
 "cells": [
  {
   "cell_type": "code",
   "execution_count": null,
   "id": "initial_id",
   "metadata": {
    "collapsed": true
   },
   "outputs": [],
   "source": [
    "import perceval as pcvl\n",
    "from perceval import BS, catalog, PERM, Circuit, Processor, pdisplay, PS, BasicState\n",
    "from perceval.rendering.circuit import SymbSkin, DisplayConfig\n",
    "from exqalibur import FockState\n",
    "\n",
    "import numpy as np\n",
    "from numpy import pi\n",
    "from typing import Optional, Dict, List, Tuple \n",
    "\n",
    "DisplayConfig.select_skin(SymbSkin)"
   ]
  },
  {
   "cell_type": "markdown",
   "source": [
    "## Avant de commencer..."
   ],
   "metadata": {
    "collapsed": false
   },
   "id": "f1f06308e517d631"
  },
  {
   "cell_type": "code",
   "outputs": [],
   "source": [
    "qubits = {\n",
    "    \"00\": BasicState([1, 0, 1, 0]),\n",
    "}\n",
    "\n",
    "def measure2p(processor: Processor, input_state: Optional[FockState] = None) -> Dict[FockState, float]:\n",
    "    \"\"\"\n",
    "    Mesure le circuit directement sous forme de Processeur. Cela permet d'automatiser la gestion des \"ancilla states\" et\n",
    "    des \"heralded gates\".\n",
    "\n",
    "    :param processor:\n",
    "    :param input_state:\n",
    "    :return:\n",
    "    \"\"\"\n",
    "    if input_state is None:\n",
    "        input_state = qubits[\"00\"]\n",
    "\n",
    "    # On force la règle : la somme des photons par paire de rail doit être égale à 1.\n",
    "    processor.set_postselection(pcvl.utils.PostSelect(\"[0,1]==1 & [2,3]==1\"))\n",
    "    processor.min_detected_photons_filter(0)\n",
    "\n",
    "    # On fait finalement la mesure :\n",
    "    processor.with_input(input_state)\n",
    "    measure2p_s = pcvl.algorithm.Sampler(processor)\n",
    "\n",
    "    return measure2p_s.probs()[\"results\"]\n",
    "\n",
    "H = BS.H()\n",
    "RX = BS.Rx\n",
    "RY = BS.Ry\n",
    "CNOT = catalog[\"klm cnot\"].build_processor()\n",
    "NOT = PERM([1, 0])\n",
    "HP = Circuit(2, \"HP\") // H // (1, PS(-pi/2))\n",
    "q = lambda x: [2*x, 2*x+1]\n",
    "theta = pi/3\n",
    "gamma = pi/5"
   ],
   "metadata": {
    "collapsed": false
   },
   "id": "cbcfd3b9dffa619d",
   "execution_count": null
  },
  {
   "cell_type": "markdown",
   "source": [
    "# Challenge 4 : De l'inversion\n",
    "\n",
    "Il est temps de finir cette série épouvantable de challenges. Cette fois, pas de nouvelle notion. Seulement deux circuits, et un objectif : rajouter les deux parties manquantes pour obtenir les résultats attendus. Bonne chance... que le sort vous soit favorable..."
   ],
   "metadata": {
    "collapsed": false
   },
   "id": "ddc37bdf22c76395"
  },
  {
   "cell_type": "code",
   "outputs": [],
   "source": [
    "step_one = Circuit(2, \"S1\") \n",
    "p_step_one = Processor(\"SLOS\", 4)\n",
    "p_step_one.add(q(0), H)\n",
    "p_step_one.add(q(1), step_one)\n",
    "p_step_one.add(q(1), RX(-gamma))\n",
    "p_step_one.add(q(0) + q(1), CNOT)\n",
    "p_step_one.add([2], PS(theta))\n",
    "p_step_one.add(q(0) + q(1), CNOT)\n",
    "p_step_one.add(q(0), H)\n",
    "p_step_one.add(q(0), RX(theta))\n",
    "pdisplay(p_step_one)"
   ],
   "metadata": {
    "collapsed": false
   },
   "id": "6b44615dc556b30",
   "execution_count": null
  },
  {
   "cell_type": "code",
   "outputs": [],
   "source": [
    "print(\"On attend : {|1,0,0,1>: 1.0}\")\n",
    "measure2p(p_step_one, input_state=qubits[\"00\"])"
   ],
   "metadata": {
    "collapsed": false
   },
   "id": "ca269cb81ffcfe56",
   "execution_count": null
  },
  {
   "cell_type": "code",
   "outputs": [],
   "source": [
    "step_two = Circuit(2, \"S2\")\n",
    "p_step_two = Processor(\"SLOS\", 4)\n",
    "p_step_two.add(q(0), H)\n",
    "p_step_two.add(q(1), HP)\n",
    "p_step_two.add(q(1), RY(theta))\n",
    "p_step_two.add(q(0) + q(1), CNOT)\n",
    "p_step_two.add(q(1), RY(-theta))\n",
    "p_step_two.add(q(0), H)\n",
    "p_step_two.add(q(1) + q(0), CNOT)\n",
    "p_step_two.add(q(1), step_two)\n",
    "pdisplay(p_step_two)"
   ],
   "metadata": {
    "collapsed": false
   },
   "id": "84dae4841f17180f",
   "execution_count": null
  },
  {
   "cell_type": "code",
   "outputs": [],
   "source": [
    "print(\"On attend : {|1,0,0,1>: 0.93, |0,1,0,1>: 0.07})\")\n",
    "measure2p(p_step_two, input_state=qubits[\"00\"])"
   ],
   "metadata": {
    "collapsed": false
   },
   "id": "ce01dfbadab95139",
   "execution_count": null
  },
  {
   "cell_type": "markdown",
   "source": [
    "## Récupération du drapeau "
   ],
   "metadata": {
    "collapsed": false
   },
   "id": "24b60c38d0705836"
  },
  {
   "cell_type": "code",
   "outputs": [],
   "source": [
    "import requests as rq\n",
    "\n",
    "def circuit_to_list(circuit: Circuit) -> List[List[Tuple[float, float]]]:\n",
    "    return [[(x.real, x.imag) for x in l] for l in np.array(circuit.compute_unitary())]\n",
    "\n",
    "\n",
    "d = {\n",
    "    \"step_one\": circuit_to_list(step_one),\n",
    "    \"step_two\": circuit_to_list(step_two),\n",
    "}\n",
    "\n",
    "URL = \"https://perceval.challenges.404ctf.fr\"\n",
    "rq.get(URL + \"/healthcheck\").json()"
   ],
   "metadata": {
    "collapsed": false
   },
   "id": "3acc9fd2c5089e28",
   "execution_count": null
  },
  {
   "cell_type": "code",
   "outputs": [],
   "source": [
    "rq.post(URL + \"/challenges/4\", json=d).json()"
   ],
   "metadata": {
    "collapsed": false
   },
   "id": "687e2ac15d8bb38f",
   "execution_count": null
  }
 ],
 "metadata": {
  "kernelspec": {
   "name": "perceval",
   "language": "python",
   "display_name": "Python (Perceval)"
  },
  "language_info": {
   "codemirror_mode": {
    "name": "ipython",
    "version": 2
   },
   "file_extension": ".py",
   "mimetype": "text/x-python",
   "name": "python",
   "nbconvert_exporter": "python",
   "pygments_lexer": "ipython2",
   "version": "2.7.6"
  }
 },
 "nbformat": 4,
 "nbformat_minor": 5
}
