{
 "cells": [
  {
   "cell_type": "code",
   "execution_count": 1,
   "id": "initial_id",
   "metadata": {
    "ExecuteTime": {
     "end_time": "2024-05-22T08:19:58.410114Z",
     "start_time": "2024-05-22T08:19:56.955364Z"
    }
   },
   "outputs": [],
   "source": [
    "import perceval as pcvl\n",
    "from perceval import BS, catalog, PERM, Circuit, Processor, pdisplay, PS, BasicState, BackendFactory\n",
    "from perceval.rendering.circuit import SymbSkin, DisplayConfig\n",
    "from exqalibur import FockState\n",
    "\n",
    "import numpy as np\n",
    "from numpy import pi\n",
    "from typing import Optional, Dict, List, Tuple\n",
    "\n",
    "DisplayConfig.select_skin(SymbSkin)"
   ]
  },
  {
   "cell_type": "markdown",
   "id": "f1f06308e517d631",
   "metadata": {
    "collapsed": false,
    "jupyter": {
     "outputs_hidden": false
    }
   },
   "source": [
    "## Avant de commencer..."
   ]
  },
  {
   "cell_type": "code",
   "execution_count": 2,
   "id": "cbcfd3b9dffa619d",
   "metadata": {
    "ExecuteTime": {
     "end_time": "2024-05-21T08:10:52.989653Z",
     "start_time": "2024-05-21T08:10:52.971660Z"
    },
    "collapsed": false,
    "jupyter": {
     "outputs_hidden": false
    }
   },
   "outputs": [],
   "source": [
    "qubits = {\n",
    "    \"0\": BasicState([1, 0]),\n",
    "    \"1\": BasicState([0, 1]),\n",
    "    \"00\": BasicState([1, 0, 1, 0]),\n",
    "    \"01\": BasicState([1, 0, 0, 1]),\n",
    "    \"10\": BasicState([0, 1, 1, 0]),\n",
    "    \"11\": BasicState([0, 1, 0, 1])\n",
    "}\n",
    "qubits_ = {qubits[k]: k for k in qubits}\n",
    "sqlist = [qubits[\"0\"], qubits[\"1\"]]\n",
    "mqlist = [qubits[\"00\"], qubits[\"01\"], qubits[\"10\"], qubits[\"11\"]]\n",
    "\n",
    "def measure2p(processor: Processor, input_state: Optional[FockState] = None) -> Dict[FockState, float]:\n",
    "    \"\"\"\n",
    "    Mesure le circuit directement sous forme de Processeur. Cela permet d'automatiser la gestion des \"ancilla states\" et\n",
    "    des \"heralded gates\".\n",
    "\n",
    "    :param processor:\n",
    "    :param input_state:\n",
    "    :return:\n",
    "    \"\"\"\n",
    "    if input_state is None:\n",
    "        input_state = qubits[\"00\"]\n",
    "\n",
    "    # On force la règle : la somme des photons par paire de rail doit être égale à 1.\n",
    "    processor.set_postselection(pcvl.utils.PostSelect(\"[0,1]==1 & [2,3]==1\"))\n",
    "    processor.min_detected_photons_filter(0)\n",
    "\n",
    "    # On fait finalement la mesure :\n",
    "    processor.with_input(input_state)\n",
    "    measure2p_s = pcvl.algorithm.Sampler(processor)\n",
    "\n",
    "    return measure2p_s.probs()[\"results\"]\n",
    "\n",
    "def amplitudes(circuit):\n",
    "    input_state = qubits[\"00\"]\n",
    "    output_states = mqlist\n",
    "    b = BackendFactory.get_backend(\"Naive\")\n",
    "    b.set_circuit(circuit)\n",
    "    b.set_input_state(input_state)\n",
    "    return {qubits_[k]: roundc(b.prob_amplitude(k)) for k in output_states}\n",
    "\n",
    "def roundc(c, decimals = 2):\n",
    "    return round(c.real, decimals) + round(c.imag, decimals) * 1j\n",
    "\n",
    "H = BS.H()\n",
    "RX = BS.Rx\n",
    "RY = BS.Ry\n",
    "CNOT = catalog[\"klm cnot\"].build_processor()\n",
    "NOT = PERM([1, 0])\n",
    "HP = Circuit(2, \"HP\") // H // (1, PS(-pi/2))\n",
    "q = lambda x: [2*x, 2*x+1]\n",
    "theta = pi/3\n",
    "gamma = pi/5"
   ]
  },
  {
   "cell_type": "markdown",
   "id": "ddc37bdf22c76395",
   "metadata": {
    "collapsed": false,
    "jupyter": {
     "outputs_hidden": false
    }
   },
   "source": [
    "# Challenge 4 : De l'inversion\n",
    "\n",
    "Il est temps de finir cette série épouvantable de challenges. Cette fois, pas de nouvelle notion. Seulement deux circuits, et un objectif : rajouter les deux parties manquantes pour obtenir les résultats attendus. Bonne chance... que le sort vous soit favorable..."
   ]
  },
  {
   "cell_type": "code",
   "execution_count": 3,
   "id": "6b44615dc556b30",
   "metadata": {
    "ExecuteTime": {
     "end_time": "2024-05-21T08:10:53.126641Z",
     "start_time": "2024-05-21T08:10:52.991488Z"
    },
    "collapsed": false,
    "jupyter": {
     "outputs_hidden": false
    }
   },
   "outputs": [
    {
     "data": {
      "image/svg+xml": [
       "<?xml version=\"1.0\" encoding=\"UTF-8\"?>\n",
       "<svg xmlns=\"http://www.w3.org/2000/svg\" xmlns:xlink=\"http://www.w3.org/1999/xlink\"\n",
       "     width=\"775.0\" height=\"656.25\" viewBox=\"-25 0 620.0 525.0\">\n",
       "<defs>\n",
       "</defs>\n",
       "<path d=\"M10,25 L25,25\" stroke-width=\"1\" stroke=\"black\" stroke-linejoin=\"miter\" fill=\"none\" />\n",
       "<path d=\"M10,75 L25,75\" stroke-width=\"1\" stroke=\"black\" stroke-linejoin=\"miter\" fill=\"none\" />\n",
       "<path d=\"M10,125 L25,125\" stroke-width=\"1\" stroke=\"black\" stroke-linejoin=\"miter\" fill=\"none\" />\n",
       "<path d=\"M10,175 L25,175\" stroke-width=\"1\" stroke=\"black\" stroke-linejoin=\"miter\" fill=\"none\" />\n",
       "<path d=\"M37.9442,25.0002 C51.653800000000004,25.0002,51.5923,50.0,65.3019,50.0 M65.3038,50.0 C51.59219999999999,50.0,51.6538,74.9998,37.94409999999999,74.9998 M65.3038,49.99999999999999 L87.1884,49.99999999999999 M87.1884,49.99999999999999 C100.9,49.99999999999999,100.83840000000001,25.000199999999992,114.5481,25.000199999999992 M87.1884,49.99999999999999 C100.9,49.99999999999999,100.83840000000001,74.9998,114.5481,74.9998 M25.0,24.999999999999993 L38.0,24.999999999999993 M38.0019,74.9998 L25.0,74.9998 M112.6453,74.9998 L125.0,74.9998 M112.1944,24.999799999999993 L125.0,24.999799999999993\" stroke-width=\"1\" stroke=\"black\" stroke-linejoin=\"miter\" fill=\"none\" />\n",
       "<text x=\"75\" y=\"38\" font-size=\"7\" text-anchor=\"middle\"></text>\n",
       "<path d=\"M97,53 L107,53 L107,63 L97,63 Z\" stroke=\"black\" fill=\"aquamarine\" stroke-linejoin=\"miter\" />\n",
       "<text x=\"102\" y=\"60\" font-size=\"6\" text-anchor=\"middle\">H</text>\n",
       "<path d=\"M37.9442,125.0002 C51.653800000000004,125.0002,51.5923,150.0,65.3019,150.0 M65.3038,150.0 C51.59219999999999,150.0,51.6538,174.9998,37.94409999999999,174.9998 M65.3038,150.0 L87.1884,150.0 M87.1884,150.0 C100.9,150.0,100.83840000000001,125.0002,114.5481,125.0002 M87.1884,150.0 C100.9,150.0,100.83840000000001,174.9998,114.5481,174.9998 M25.0,125.0 L38.0,125.0 M38.0019,174.9998 L25.0,174.9998 M112.6453,174.9998 L125.0,174.9998 M112.1944,124.9998 L125.0,124.9998\" stroke-width=\"1\" stroke=\"black\" stroke-linejoin=\"miter\" fill=\"none\" />\n",
       "<text x=\"75\" y=\"138\" font-size=\"7\" text-anchor=\"middle\">Θ=19*pi/5</text>\n",
       "<path d=\"M97,153 L107,153 L107,163 L97,163 Z\" stroke=\"black\" fill=\"thistle\" stroke-linejoin=\"miter\" />\n",
       "<text x=\"102\" y=\"160\" font-size=\"6\" text-anchor=\"middle\">Rx</text>\n",
       "<path d=\"M125,25 L175,25\" stroke=\"black\" stroke-width=\"1\" fill=\"none\" />\n",
       "<path d=\"M125,75 L175,75\" stroke=\"black\" stroke-width=\"1\" fill=\"none\" />\n",
       "<path d=\"M125,125 L175,125\" stroke=\"black\" stroke-width=\"1\" fill=\"none\" />\n",
       "<path d=\"M125,175 L175,175\" stroke=\"black\" stroke-width=\"1\" fill=\"none\" />\n",
       "<path d=\"M125,225 L175,225\" stroke=\"black\" stroke-width=\"1\" fill=\"none\" />\n",
       "<path d=\"M125,275 L175,275\" stroke=\"black\" stroke-width=\"1\" fill=\"none\" />\n",
       "<path d=\"M125,325 L175,325\" stroke=\"black\" stroke-width=\"1\" fill=\"none\" />\n",
       "<path d=\"M125,375 L175,375\" stroke=\"black\" stroke-width=\"1\" fill=\"none\" />\n",
       "<path d=\"M127.5,2.5 L172.5,2.5 L172.5,397.5 L127.5,397.5 Z\" stroke=\"black\" fill=\"white\" stroke-linejoin=\"miter\" />\n",
       "<text x=\"135\" y=\"24\" font-size=\"8\" text-anchor=\"start\" font-weight=\"bold\"><tspan x=\"135\" dy=\"0em\">HERALDED</tspan><tspan x=\"135\" dy=\"1em\">CNOT</tspan></text>\n",
       "<path d=\"M175,125 L195,125 M205,125 L225,125\" stroke-width=\"1\" stroke=\"black\" stroke-linejoin=\"miter\" fill=\"none\" />\n",
       "<path d=\"M190,135 L210,135 L210,115 L190,115 L190,135\" stroke-width=\"1\" stroke=\"black\" stroke-linejoin=\"miter\" fill=\"lightgray\" />\n",
       "<text x=\"200\" y=\"144\" font-size=\"7\" text-anchor=\"middle\">Φ=pi/3</text>\n",
       "<path d=\"M175,25 L225,25\" stroke=\"black\" stroke-width=\"1\" fill=\"none\" />\n",
       "<path d=\"M175,75 L225,75\" stroke=\"black\" stroke-width=\"1\" fill=\"none\" />\n",
       "<path d=\"M175,175 L225,175\" stroke=\"black\" stroke-width=\"1\" fill=\"none\" />\n",
       "<path d=\"M225,25 L275,25\" stroke=\"black\" stroke-width=\"1\" fill=\"none\" />\n",
       "<path d=\"M225,75 L275,75\" stroke=\"black\" stroke-width=\"1\" fill=\"none\" />\n",
       "<path d=\"M225,125 L275,125\" stroke=\"black\" stroke-width=\"1\" fill=\"none\" />\n",
       "<path d=\"M225,175 L275,175\" stroke=\"black\" stroke-width=\"1\" fill=\"none\" />\n",
       "<path d=\"M225,225 L275,225\" stroke=\"black\" stroke-width=\"1\" fill=\"none\" />\n",
       "<path d=\"M225,275 L275,275\" stroke=\"black\" stroke-width=\"1\" fill=\"none\" />\n",
       "<path d=\"M225,325 L275,325\" stroke=\"black\" stroke-width=\"1\" fill=\"none\" />\n",
       "<path d=\"M225,375 L275,375\" stroke=\"black\" stroke-width=\"1\" fill=\"none\" />\n",
       "<path d=\"M227.5,2.5 L272.5,2.5 L272.5,397.5 L227.5,397.5 Z\" stroke=\"black\" fill=\"white\" stroke-linejoin=\"miter\" />\n",
       "<text x=\"235\" y=\"24\" font-size=\"8\" text-anchor=\"start\" font-weight=\"bold\"><tspan x=\"235\" dy=\"0em\">HERALDED</tspan><tspan x=\"235\" dy=\"1em\">CNOT</tspan></text>\n",
       "<path d=\"M275,25 L325,25\" stroke=\"black\" stroke-width=\"1\" fill=\"none\" />\n",
       "<path d=\"M275,75 L325,75\" stroke=\"black\" stroke-width=\"1\" fill=\"none\" />\n",
       "<path d=\"M275,125 L325,125\" stroke=\"black\" stroke-width=\"1\" fill=\"none\" />\n",
       "<path d=\"M275,175 L325,175\" stroke=\"black\" stroke-width=\"1\" fill=\"none\" />\n",
       "<path d=\"M337.9442,25.0002 C351.65380000000005,25.0002,351.5923,50.0,365.30190000000005,50.0 M365.3038,50.0 C351.59220000000005,50.0,351.65380000000005,74.9998,337.94410000000005,74.9998 M365.3038,49.99999999999999 L387.1884,49.99999999999999 M387.1884,49.99999999999999 C400.9,49.99999999999999,400.8384,25.000199999999992,414.5481,25.000199999999992 M387.1884,49.99999999999999 C400.9,49.99999999999999,400.8384,74.9998,414.5481,74.9998 M325.0,24.999999999999993 L338.0,24.999999999999993 M338.0019,74.9998 L325.0,74.9998 M412.6453,74.9998 L425.0,74.9998 M412.1944,24.999799999999993 L425.0,24.999799999999993\" stroke-width=\"1\" stroke=\"black\" stroke-linejoin=\"miter\" fill=\"none\" />\n",
       "<text x=\"375\" y=\"38\" font-size=\"7\" text-anchor=\"middle\"></text>\n",
       "<path d=\"M397,53 L407,53 L407,63 L397,63 Z\" stroke=\"black\" fill=\"aquamarine\" stroke-linejoin=\"miter\" />\n",
       "<text x=\"402\" y=\"60\" font-size=\"6\" text-anchor=\"middle\">H</text>\n",
       "<path d=\"M437.9442,25.0002 C451.65380000000005,25.0002,451.5923,50.0,465.30190000000005,50.0 M465.3038,50.0 C451.59220000000005,50.0,451.65380000000005,74.9998,437.94410000000005,74.9998 M465.3038,49.99999999999999 L487.1884,49.99999999999999 M487.1884,49.99999999999999 C500.9,49.99999999999999,500.8384,25.000199999999992,514.5481,25.000199999999992 M487.1884,49.99999999999999 C500.9,49.99999999999999,500.8384,74.9998,514.5481,74.9998 M425.0,24.999999999999993 L438.0,24.999999999999993 M438.0019,74.9998 L425.0,74.9998 M512.6453,74.9998 L525.0,74.9998 M512.1944,24.999799999999993 L525.0,24.999799999999993\" stroke-width=\"1\" stroke=\"black\" stroke-linejoin=\"miter\" fill=\"none\" />\n",
       "<text x=\"475\" y=\"38\" font-size=\"7\" text-anchor=\"middle\">Θ=pi/3</text>\n",
       "<path d=\"M497,53 L507,53 L507,63 L497,63 Z\" stroke=\"black\" fill=\"thistle\" stroke-linejoin=\"miter\" />\n",
       "<text x=\"502\" y=\"60\" font-size=\"6\" text-anchor=\"middle\">Rx</text>\n",
       "<path d=\"M325,125 L525,125\" stroke=\"black\" stroke-width=\"1\" fill=\"none\" />\n",
       "<path d=\"M325,175 L525,175\" stroke=\"black\" stroke-width=\"1\" fill=\"none\" />\n",
       "<path d=\"M525,25 L540,25\" stroke-width=\"1\" stroke=\"black\" stroke-linejoin=\"miter\" fill=\"none\" />\n",
       "<path d=\"M525,75 L540,75\" stroke-width=\"1\" stroke=\"black\" stroke-linejoin=\"miter\" fill=\"none\" />\n",
       "<path d=\"M525,125 L540,125\" stroke-width=\"1\" stroke=\"black\" stroke-linejoin=\"miter\" fill=\"none\" />\n",
       "<path d=\"M525,175 L540,175\" stroke-width=\"1\" stroke=\"black\" stroke-linejoin=\"miter\" fill=\"none\" />\n",
       "<path d=\"M107,225 C107,225,107,215,117,215 L125,215 L125,235 L117,235 C107,235,107,225,107,225 L107,225\" stroke-width=\"1\" stroke=\"black\" stroke-linejoin=\"miter\" fill=\"white\" />\n",
       "<text x=\"113\" y=\"241\" font-size=\"6\" text-anchor=\"middle\" font-style=\"italic\">[herald0]</text>\n",
       "<text x=\"117\" y=\"228\" font-size=\"7\" text-anchor=\"middle\">0</text>\n",
       "<path d=\"M107,275 C107,275,107,265,117,265 L125,265 L125,285 L117,285 C107,285,107,275,107,275 L107,275\" stroke-width=\"1\" stroke=\"black\" stroke-linejoin=\"miter\" fill=\"white\" />\n",
       "<text x=\"113\" y=\"291\" font-size=\"6\" text-anchor=\"middle\" font-style=\"italic\">[herald1]</text>\n",
       "<text x=\"117\" y=\"278\" font-size=\"7\" text-anchor=\"middle\">1</text>\n",
       "<path d=\"M107,325 C107,325,107,315,117,315 L125,315 L125,335 L117,335 C107,335,107,325,107,325 L107,325\" stroke-width=\"1\" stroke=\"black\" stroke-linejoin=\"miter\" fill=\"white\" />\n",
       "<text x=\"113\" y=\"341\" font-size=\"6\" text-anchor=\"middle\" font-style=\"italic\">[herald2]</text>\n",
       "<text x=\"117\" y=\"328\" font-size=\"7\" text-anchor=\"middle\">0</text>\n",
       "<path d=\"M107,375 C107,375,107,365,117,365 L125,365 L125,385 L117,385 C107,385,107,375,107,375 L107,375\" stroke-width=\"1\" stroke=\"black\" stroke-linejoin=\"miter\" fill=\"white\" />\n",
       "<text x=\"113\" y=\"391\" font-size=\"6\" text-anchor=\"middle\" font-style=\"italic\">[herald3]</text>\n",
       "<text x=\"117\" y=\"378\" font-size=\"7\" text-anchor=\"middle\">1</text>\n",
       "<path d=\"M207,225 C207,225,207,215,217,215 L225,215 L225,235 L217,235 C207,235,207,225,207,225 L207,225\" stroke-width=\"1\" stroke=\"black\" stroke-linejoin=\"miter\" fill=\"white\" />\n",
       "<text x=\"213\" y=\"241\" font-size=\"6\" text-anchor=\"middle\" font-style=\"italic\">[herald4]</text>\n",
       "<text x=\"217\" y=\"228\" font-size=\"7\" text-anchor=\"middle\">0</text>\n",
       "<path d=\"M207,275 C207,275,207,265,217,265 L225,265 L225,285 L217,285 C207,285,207,275,207,275 L207,275\" stroke-width=\"1\" stroke=\"black\" stroke-linejoin=\"miter\" fill=\"white\" />\n",
       "<text x=\"213\" y=\"291\" font-size=\"6\" text-anchor=\"middle\" font-style=\"italic\">[herald5]</text>\n",
       "<text x=\"217\" y=\"278\" font-size=\"7\" text-anchor=\"middle\">1</text>\n",
       "<path d=\"M207,325 C207,325,207,315,217,315 L225,315 L225,335 L217,335 C207,335,207,325,207,325 L207,325\" stroke-width=\"1\" stroke=\"black\" stroke-linejoin=\"miter\" fill=\"white\" />\n",
       "<text x=\"213\" y=\"341\" font-size=\"6\" text-anchor=\"middle\" font-style=\"italic\">[herald6]</text>\n",
       "<text x=\"217\" y=\"328\" font-size=\"7\" text-anchor=\"middle\">0</text>\n",
       "<path d=\"M207,375 C207,375,207,365,217,365 L225,365 L225,385 L217,385 C207,385,207,375,207,375 L207,375\" stroke-width=\"1\" stroke=\"black\" stroke-linejoin=\"miter\" fill=\"white\" />\n",
       "<text x=\"213\" y=\"391\" font-size=\"6\" text-anchor=\"middle\" font-style=\"italic\">[herald7]</text>\n",
       "<text x=\"217\" y=\"378\" font-size=\"7\" text-anchor=\"middle\">1</text>\n",
       "<path d=\"M540,15 L552,15 L552,85 L540,85 Z\" stroke=\"black\" fill=\"white\" stroke-linejoin=\"miter\" />\n",
       "<text x=\"546\" y=\"27\" font-size=\"7\" text-anchor=\"middle\">0</text>\n",
       "<text x=\"546\" y=\"77\" font-size=\"7\" text-anchor=\"middle\">1</text>\n",
       "<text x=\"552\" y=\"91\" font-size=\"6\" text-anchor=\"end\" font-style=\"italic\">[ctrl]</text>\n",
       "<path d=\"M540,115 L552,115 L552,185 L540,185 Z\" stroke=\"black\" fill=\"white\" stroke-linejoin=\"miter\" />\n",
       "<text x=\"546\" y=\"127\" font-size=\"7\" text-anchor=\"middle\">2</text>\n",
       "<text x=\"546\" y=\"177\" font-size=\"7\" text-anchor=\"middle\">3</text>\n",
       "<text x=\"552\" y=\"191\" font-size=\"6\" text-anchor=\"end\" font-style=\"italic\">[data]</text>\n",
       "<path d=\"M183,235 L175,235 L175,215 L183,215 C183,215,193,215,193,225 C193,235,183,235,183,235 L183,235\" stroke-width=\"1\" stroke=\"black\" stroke-linejoin=\"miter\" fill=\"white\" />\n",
       "<text x=\"188\" y=\"241\" font-size=\"6\" text-anchor=\"middle\" font-style=\"italic\">[herald0]</text>\n",
       "<text x=\"183\" y=\"228\" font-size=\"7\" text-anchor=\"middle\">0</text>\n",
       "<path d=\"M183,285 L175,285 L175,265 L183,265 C183,265,193,265,193,275 C193,285,183,285,183,285 L183,285\" stroke-width=\"1\" stroke=\"black\" stroke-linejoin=\"miter\" fill=\"white\" />\n",
       "<text x=\"188\" y=\"291\" font-size=\"6\" text-anchor=\"middle\" font-style=\"italic\">[herald1]</text>\n",
       "<text x=\"183\" y=\"278\" font-size=\"7\" text-anchor=\"middle\">1</text>\n",
       "<path d=\"M183,335 L175,335 L175,315 L183,315 C183,315,193,315,193,325 C193,335,183,335,183,335 L183,335\" stroke-width=\"1\" stroke=\"black\" stroke-linejoin=\"miter\" fill=\"white\" />\n",
       "<text x=\"188\" y=\"341\" font-size=\"6\" text-anchor=\"middle\" font-style=\"italic\">[herald2]</text>\n",
       "<text x=\"183\" y=\"328\" font-size=\"7\" text-anchor=\"middle\">0</text>\n",
       "<path d=\"M183,385 L175,385 L175,365 L183,365 C183,365,193,365,193,375 C193,385,183,385,183,385 L183,385\" stroke-width=\"1\" stroke=\"black\" stroke-linejoin=\"miter\" fill=\"white\" />\n",
       "<text x=\"188\" y=\"391\" font-size=\"6\" text-anchor=\"middle\" font-style=\"italic\">[herald3]</text>\n",
       "<text x=\"183\" y=\"378\" font-size=\"7\" text-anchor=\"middle\">1</text>\n",
       "<path d=\"M283,235 L275,235 L275,215 L283,215 C283,215,293,215,293,225 C293,235,283,235,283,235 L283,235\" stroke-width=\"1\" stroke=\"black\" stroke-linejoin=\"miter\" fill=\"white\" />\n",
       "<text x=\"288\" y=\"241\" font-size=\"6\" text-anchor=\"middle\" font-style=\"italic\">[herald4]</text>\n",
       "<text x=\"283\" y=\"228\" font-size=\"7\" text-anchor=\"middle\">0</text>\n",
       "<path d=\"M283,285 L275,285 L275,265 L283,265 C283,265,293,265,293,275 C293,285,283,285,283,285 L283,285\" stroke-width=\"1\" stroke=\"black\" stroke-linejoin=\"miter\" fill=\"white\" />\n",
       "<text x=\"288\" y=\"291\" font-size=\"6\" text-anchor=\"middle\" font-style=\"italic\">[herald5]</text>\n",
       "<text x=\"283\" y=\"278\" font-size=\"7\" text-anchor=\"middle\">1</text>\n",
       "<path d=\"M283,335 L275,335 L275,315 L283,315 C283,315,293,315,293,325 C293,335,283,335,283,335 L283,335\" stroke-width=\"1\" stroke=\"black\" stroke-linejoin=\"miter\" fill=\"white\" />\n",
       "<text x=\"288\" y=\"341\" font-size=\"6\" text-anchor=\"middle\" font-style=\"italic\">[herald6]</text>\n",
       "<text x=\"283\" y=\"328\" font-size=\"7\" text-anchor=\"middle\">0</text>\n",
       "<path d=\"M283,385 L275,385 L275,365 L283,365 C283,365,293,365,293,375 C293,385,283,385,283,385 L283,385\" stroke-width=\"1\" stroke=\"black\" stroke-linejoin=\"miter\" fill=\"white\" />\n",
       "<text x=\"288\" y=\"391\" font-size=\"6\" text-anchor=\"middle\" font-style=\"italic\">[herald7]</text>\n",
       "<text x=\"283\" y=\"378\" font-size=\"7\" text-anchor=\"middle\">1</text>\n",
       "</svg>"
      ],
      "text/plain": [
       "<drawsvg.drawing.Drawing at 0x7c09f3775e50>"
      ]
     },
     "execution_count": 3,
     "metadata": {},
     "output_type": "execute_result"
    }
   ],
   "source": [
    "step_one = Circuit(2, \"S1\") \n",
    "p_step_one = Processor(\"SLOS\", 4)\n",
    "p_step_one.add(q(0), H)\n",
    "p_step_one.add(q(1), step_one)\n",
    "p_step_one.add(q(1), RX(-gamma))\n",
    "p_step_one.add(q(0) + q(1), CNOT)\n",
    "p_step_one.add([2], PS(theta))\n",
    "p_step_one.add(q(0) + q(1), CNOT)\n",
    "p_step_one.add(q(0), H)\n",
    "p_step_one.add(q(0), RX(theta))\n",
    "pdisplay(p_step_one)"
   ]
  },
  {
   "cell_type": "code",
   "execution_count": 4,
   "id": "87dc1676-f131-408b-a705-d9d9222ba4e9",
   "metadata": {
    "ExecuteTime": {
     "end_time": "2024-05-21T07:03:33.789393Z",
     "start_time": "2024-05-21T07:03:33.583169Z"
    },
    "collapsed": false,
    "jupyter": {
     "outputs_hidden": false
    }
   },
   "outputs": [
    {
     "name": "stdout",
     "output_type": "stream",
     "text": [
      "On attend : {|1,0,0,1>: 1\n"
     ]
    },
    {
     "data": {
      "text/plain": [
       "0.09549150281252643"
      ]
     },
     "execution_count": 4,
     "metadata": {},
     "output_type": "execute_result"
    }
   ],
   "source": [
    "print(\"On attend : {|1,0,0,1>: 1\")\n",
    "measure2p(p_step_one)[qubits[\"01\"]]"
   ]
  },
  {
   "cell_type": "markdown",
   "id": "6ce56ccb23a48983",
   "metadata": {
    "collapsed": false,
    "jupyter": {
     "outputs_hidden": false
    }
   },
   "source": [
    "<h2 style=\"color:green\"> Solution étape 1 : rétro-ingénierie statique </h2>\n",
    "\n",
    "Ce petit exercice était un exemple du phénomène bien connu du retour de phase (<i>phase kickback</i>). Il pouvait néanmoins se résoudre simplement sans passer par le calcul de tout le circuit. Il suffisait par exemple de voir que le deuxième rail devait donner un $|1\\rangle$ tout le temps. En remontant le circuit, on remarque qu'avant le passage des deux <i>CNOT</i>, le deuxième qubit doit forcément être à $|1\\rangle$, d'où l'équation : \n",
    "$$\n",
    "R_x(-\\gamma) S_1 |0\\rangle = |1\\rangle\n",
    "$$\n",
    "Ou encore : \n",
    "$$\n",
    "R_x(-\\gamma) S_1 = X\n",
    "$$\n",
    "Ce qui se résout simplement avec par exemple : \n",
    "$$\n",
    "R_x(-\\gamma) R_x(\\gamma) X = X\n",
    "$$\n",
    "D'où une solution possible : \n",
    "$$\n",
    "S_1 = R_x(\\gamma)X\n",
    "$$\n",
    "$$\n",
    "\\DeclareMathOperator{\\CU}{CU}\n",
    "$$\n",
    "<h3 style=\"color:blue\"> Le retour de phase</h3>\n",
    "Le but du retour de phase est d'extraire de l'information sur la phase d'un qubit sans le mesurer. Pour cela, on considère le cas suivant : on possède une matrice $U$ unitaire et un circuit permettant de construire une version controllée de $U$ ($CU$). Si l'on possède aussi un vecteur propre $|\\psi\\rangle$ tel que : \n",
    "$$\n",
    "U|\\psi\\rangle = e^{i\\theta}|\\psi\\rangle\n",
    "$$\n",
    "alors on peut extraire $\\theta$ sans avoir à mesurer directement $|\\psi\\rangle$. On commence par ajouter un qubit et l'on forme le circuit : \n",
    "$$\n",
    "H_{\\text{qubit 0}}\\circ \\CU \\circ H_{\\text{qubit 0}}\n",
    "$$\n",
    "Il suffit ensuite de rentrer $|0\\rangle|\\psi\\rangle$ :\n",
    "$$\n",
    "|0\\rangle|\\psi\\rangle\\quad \\xrightarrow{H_{\\text{qubit 0}}} \\quad \\frac{1}{\\sqrt{2}} \\left(|0\\rangle|\\psi\\rangle + |1\\rangle|\\psi\\rangle\\right)\n",
    "$$\n",
    "$$\n",
    "\\xrightarrow{\\CU} \\quad \\frac{1}{\\sqrt{2}} \\left(|0\\rangle|\\psi\\rangle + |1\\rangle e^{i\\theta}|\\psi\\rangle\\right)\n",
    "$$\n",
    "$$\n",
    "\\xrightarrow{H_{\\text{qubit 0}}} \\quad\\frac{1}{\\sqrt{2}}\\left(\\frac{|0\\rangle+|1\\rangle}{\\sqrt{2}}|\\psi\\rangle + e^{i\\theta}\\frac{|0\\rangle -|1\\rangle}{\\sqrt{2}}|\\psi\\rangle\\right) = \n",
    "\\left(\\frac{1+e^{i\\theta}}{2}|0\\rangle+ \\frac{1- e^{i\\theta}}{2}|1\\rangle\\right)|\\psi\\rangle = \n",
    "\\left(\\cos \\frac{\\theta}{2}~|0\\rangle + \\sin\\frac{\\theta}{2}~|1\\rangle\\right)|\\psi\\rangle\n",
    "$$\n",
    "En mesurant le premier qubit on obtient $|0\\rangle$ avec une probabilité de :\n",
    "$$\n",
    "\\Pr(|0\\rangle)=\\left|\\cos\\frac{\\theta}{2}\\right|^2\n",
    "$$\n",
    "Ce qui nous permet d'extraire de l'information sur $\\theta$. "
   ]
  },
  {
   "cell_type": "code",
   "execution_count": 5,
   "id": "704a178f-d8a2-4c58-a443-889d7446c678",
   "metadata": {},
   "outputs": [
    {
     "data": {
      "image/svg+xml": [
       "<?xml version=\"1.0\" encoding=\"UTF-8\"?>\n",
       "<svg xmlns=\"http://www.w3.org/2000/svg\" xmlns:xlink=\"http://www.w3.org/1999/xlink\"\n",
       "     width=\"837.5\" height=\"656.25\" viewBox=\"-25 0 670.0 525.0\">\n",
       "<defs>\n",
       "</defs>\n",
       "<path d=\"M10,25 L25,25\" stroke-width=\"1\" stroke=\"black\" stroke-linejoin=\"miter\" fill=\"none\" />\n",
       "<path d=\"M10,75 L25,75\" stroke-width=\"1\" stroke=\"black\" stroke-linejoin=\"miter\" fill=\"none\" />\n",
       "<path d=\"M10,125 L25,125\" stroke-width=\"1\" stroke=\"black\" stroke-linejoin=\"miter\" fill=\"none\" />\n",
       "<path d=\"M10,175 L25,175\" stroke-width=\"1\" stroke=\"black\" stroke-linejoin=\"miter\" fill=\"none\" />\n",
       "<path d=\"M37.9442,25.0002 C51.653800000000004,25.0002,51.5923,50.0,65.3019,50.0 M65.3038,50.0 C51.59219999999999,50.0,51.6538,74.9998,37.94409999999999,74.9998 M65.3038,49.99999999999999 L87.1884,49.99999999999999 M87.1884,49.99999999999999 C100.9,49.99999999999999,100.83840000000001,25.000199999999992,114.5481,25.000199999999992 M87.1884,49.99999999999999 C100.9,49.99999999999999,100.83840000000001,74.9998,114.5481,74.9998 M25.0,24.999999999999993 L38.0,24.999999999999993 M38.0019,74.9998 L25.0,74.9998 M112.6453,74.9998 L125.0,74.9998 M112.1944,24.999799999999993 L125.0,24.999799999999993\" stroke-width=\"1\" stroke=\"black\" stroke-linejoin=\"miter\" fill=\"none\" />\n",
       "<text x=\"75\" y=\"38\" font-size=\"7\" text-anchor=\"middle\"></text>\n",
       "<path d=\"M97,53 L107,53 L107,63 L97,63 Z\" stroke=\"black\" fill=\"aquamarine\" stroke-linejoin=\"miter\" />\n",
       "<text x=\"102\" y=\"60\" font-size=\"6\" text-anchor=\"middle\">H</text>\n",
       "<path d=\"M25,125 L75,125\" stroke=\"black\" stroke-width=\"1\" fill=\"none\" />\n",
       "<path d=\"M25,175 L75,175\" stroke=\"black\" stroke-width=\"1\" fill=\"none\" />\n",
       "<path d=\"M27.5,102.5 L72.5,102.5 L72.5,197.5 L27.5,197.5 Z\" stroke=\"black\" fill=\"white\" stroke-linejoin=\"miter\" />\n",
       "<text x=\"35\" y=\"116\" font-size=\"8\" text-anchor=\"start\" font-weight=\"bold\">S1</text>\n",
       "<path d=\"M87.9442,125.0002 C101.65379999999999,125.0002,101.5923,150.0,115.30189999999999,150.0 M115.3038,150.0 C101.59219999999999,150.0,101.65379999999999,174.9998,87.94409999999999,174.9998 M115.3038,150.0 L137.1884,150.0 M137.1884,150.0 C150.9,150.0,150.8384,125.0002,164.5481,125.0002 M137.1884,150.0 C150.9,150.0,150.8384,174.9998,164.5481,174.9998 M75.0,125.0 L88.0,125.0 M88.0019,174.9998 L75.0,174.9998 M162.64530000000002,174.9998 L175.0,174.9998 M162.1944,124.9998 L175.0,124.9998\" stroke-width=\"1\" stroke=\"black\" stroke-linejoin=\"miter\" fill=\"none\" />\n",
       "<text x=\"125\" y=\"138\" font-size=\"7\" text-anchor=\"middle\">Θ=19*pi/5</text>\n",
       "<path d=\"M147,153 L157,153 L157,163 L147,163 Z\" stroke=\"black\" fill=\"thistle\" stroke-linejoin=\"miter\" />\n",
       "<text x=\"152\" y=\"160\" font-size=\"6\" text-anchor=\"middle\">Rx</text>\n",
       "<path d=\"M125,25 L175,25\" stroke=\"black\" stroke-width=\"1\" fill=\"none\" />\n",
       "<path d=\"M125,75 L175,75\" stroke=\"black\" stroke-width=\"1\" fill=\"none\" />\n",
       "<path d=\"M175,25 L225,25\" stroke=\"black\" stroke-width=\"1\" fill=\"none\" />\n",
       "<path d=\"M175,75 L225,75\" stroke=\"black\" stroke-width=\"1\" fill=\"none\" />\n",
       "<path d=\"M175,125 L225,125\" stroke=\"black\" stroke-width=\"1\" fill=\"none\" />\n",
       "<path d=\"M175,175 L225,175\" stroke=\"black\" stroke-width=\"1\" fill=\"none\" />\n",
       "<path d=\"M175,225 L225,225\" stroke=\"black\" stroke-width=\"1\" fill=\"none\" />\n",
       "<path d=\"M175,275 L225,275\" stroke=\"black\" stroke-width=\"1\" fill=\"none\" />\n",
       "<path d=\"M175,325 L225,325\" stroke=\"black\" stroke-width=\"1\" fill=\"none\" />\n",
       "<path d=\"M175,375 L225,375\" stroke=\"black\" stroke-width=\"1\" fill=\"none\" />\n",
       "<path d=\"M177.5,2.5 L222.5,2.5 L222.5,397.5 L177.5,397.5 Z\" stroke=\"black\" fill=\"white\" stroke-linejoin=\"miter\" />\n",
       "<text x=\"185\" y=\"24\" font-size=\"8\" text-anchor=\"start\" font-weight=\"bold\"><tspan x=\"185\" dy=\"0em\">HERALDED</tspan><tspan x=\"185\" dy=\"1em\">CNOT</tspan></text>\n",
       "<path d=\"M225,125 L245,125 M255,125 L275,125\" stroke-width=\"1\" stroke=\"black\" stroke-linejoin=\"miter\" fill=\"none\" />\n",
       "<path d=\"M240,135 L260,135 L260,115 L240,115 L240,135\" stroke-width=\"1\" stroke=\"black\" stroke-linejoin=\"miter\" fill=\"lightgray\" />\n",
       "<text x=\"250\" y=\"144\" font-size=\"7\" text-anchor=\"middle\">Φ=pi/3</text>\n",
       "<path d=\"M225,25 L275,25\" stroke=\"black\" stroke-width=\"1\" fill=\"none\" />\n",
       "<path d=\"M225,75 L275,75\" stroke=\"black\" stroke-width=\"1\" fill=\"none\" />\n",
       "<path d=\"M225,175 L275,175\" stroke=\"black\" stroke-width=\"1\" fill=\"none\" />\n",
       "<path d=\"M275,25 L325,25\" stroke=\"black\" stroke-width=\"1\" fill=\"none\" />\n",
       "<path d=\"M275,75 L325,75\" stroke=\"black\" stroke-width=\"1\" fill=\"none\" />\n",
       "<path d=\"M275,125 L325,125\" stroke=\"black\" stroke-width=\"1\" fill=\"none\" />\n",
       "<path d=\"M275,175 L325,175\" stroke=\"black\" stroke-width=\"1\" fill=\"none\" />\n",
       "<path d=\"M275,225 L325,225\" stroke=\"black\" stroke-width=\"1\" fill=\"none\" />\n",
       "<path d=\"M275,275 L325,275\" stroke=\"black\" stroke-width=\"1\" fill=\"none\" />\n",
       "<path d=\"M275,325 L325,325\" stroke=\"black\" stroke-width=\"1\" fill=\"none\" />\n",
       "<path d=\"M275,375 L325,375\" stroke=\"black\" stroke-width=\"1\" fill=\"none\" />\n",
       "<path d=\"M277.5,2.5 L322.5,2.5 L322.5,397.5 L277.5,397.5 Z\" stroke=\"black\" fill=\"white\" stroke-linejoin=\"miter\" />\n",
       "<text x=\"285\" y=\"24\" font-size=\"8\" text-anchor=\"start\" font-weight=\"bold\"><tspan x=\"285\" dy=\"0em\">HERALDED</tspan><tspan x=\"285\" dy=\"1em\">CNOT</tspan></text>\n",
       "<path d=\"M325,25 L375,25\" stroke=\"black\" stroke-width=\"1\" fill=\"none\" />\n",
       "<path d=\"M325,75 L375,75\" stroke=\"black\" stroke-width=\"1\" fill=\"none\" />\n",
       "<path d=\"M325,125 L375,125\" stroke=\"black\" stroke-width=\"1\" fill=\"none\" />\n",
       "<path d=\"M325,175 L375,175\" stroke=\"black\" stroke-width=\"1\" fill=\"none\" />\n",
       "<path d=\"M387.9442,25.0002 C401.65380000000005,25.0002,401.5923,50.0,415.30190000000005,50.0 M415.3038,50.0 C401.59220000000005,50.0,401.65380000000005,74.9998,387.94410000000005,74.9998 M415.3038,49.99999999999999 L437.1884,49.99999999999999 M437.1884,49.99999999999999 C450.9,49.99999999999999,450.8384,25.000199999999992,464.5481,25.000199999999992 M437.1884,49.99999999999999 C450.9,49.99999999999999,450.8384,74.9998,464.5481,74.9998 M375.0,24.999999999999993 L388.0,24.999999999999993 M388.0019,74.9998 L375.0,74.9998 M462.6453,74.9998 L475.0,74.9998 M462.1944,24.999799999999993 L475.0,24.999799999999993\" stroke-width=\"1\" stroke=\"black\" stroke-linejoin=\"miter\" fill=\"none\" />\n",
       "<text x=\"425\" y=\"38\" font-size=\"7\" text-anchor=\"middle\"></text>\n",
       "<path d=\"M447,53 L457,53 L457,63 L447,63 Z\" stroke=\"black\" fill=\"aquamarine\" stroke-linejoin=\"miter\" />\n",
       "<text x=\"452\" y=\"60\" font-size=\"6\" text-anchor=\"middle\">H</text>\n",
       "<path d=\"M487.9442,25.0002 C501.65380000000005,25.0002,501.5923,50.0,515.3019,50.0 M515.3038,50.0 C501.59220000000005,50.0,501.65380000000005,74.9998,487.94410000000005,74.9998 M515.3038,49.99999999999999 L537.1884,49.99999999999999 M537.1884,49.99999999999999 C550.9,49.99999999999999,550.8384,25.000199999999992,564.5481,25.000199999999992 M537.1884,49.99999999999999 C550.9,49.99999999999999,550.8384,74.9998,564.5481,74.9998 M475.0,24.999999999999993 L488.0,24.999999999999993 M488.0019,74.9998 L475.0,74.9998 M562.6453,74.9998 L575.0,74.9998 M562.1944,24.999799999999993 L575.0,24.999799999999993\" stroke-width=\"1\" stroke=\"black\" stroke-linejoin=\"miter\" fill=\"none\" />\n",
       "<text x=\"525\" y=\"38\" font-size=\"7\" text-anchor=\"middle\">Θ=pi/3</text>\n",
       "<path d=\"M547,53 L557,53 L557,63 L547,63 Z\" stroke=\"black\" fill=\"thistle\" stroke-linejoin=\"miter\" />\n",
       "<text x=\"552\" y=\"60\" font-size=\"6\" text-anchor=\"middle\">Rx</text>\n",
       "<path d=\"M375,125 L575,125\" stroke=\"black\" stroke-width=\"1\" fill=\"none\" />\n",
       "<path d=\"M375,175 L575,175\" stroke=\"black\" stroke-width=\"1\" fill=\"none\" />\n",
       "<path d=\"M575,25 L590,25\" stroke-width=\"1\" stroke=\"black\" stroke-linejoin=\"miter\" fill=\"none\" />\n",
       "<path d=\"M575,75 L590,75\" stroke-width=\"1\" stroke=\"black\" stroke-linejoin=\"miter\" fill=\"none\" />\n",
       "<path d=\"M575,125 L590,125\" stroke-width=\"1\" stroke=\"black\" stroke-linejoin=\"miter\" fill=\"none\" />\n",
       "<path d=\"M575,175 L590,175\" stroke-width=\"1\" stroke=\"black\" stroke-linejoin=\"miter\" fill=\"none\" />\n",
       "<path d=\"M157,225 C157,225,157,215,167,215 L175,215 L175,235 L167,235 C157,235,157,225,157,225 L157,225\" stroke-width=\"1\" stroke=\"black\" stroke-linejoin=\"miter\" fill=\"white\" />\n",
       "<text x=\"163\" y=\"241\" font-size=\"6\" text-anchor=\"middle\" font-style=\"italic\">[herald0]</text>\n",
       "<text x=\"167\" y=\"228\" font-size=\"7\" text-anchor=\"middle\">0</text>\n",
       "<path d=\"M157,275 C157,275,157,265,167,265 L175,265 L175,285 L167,285 C157,285,157,275,157,275 L157,275\" stroke-width=\"1\" stroke=\"black\" stroke-linejoin=\"miter\" fill=\"white\" />\n",
       "<text x=\"163\" y=\"291\" font-size=\"6\" text-anchor=\"middle\" font-style=\"italic\">[herald1]</text>\n",
       "<text x=\"167\" y=\"278\" font-size=\"7\" text-anchor=\"middle\">1</text>\n",
       "<path d=\"M157,325 C157,325,157,315,167,315 L175,315 L175,335 L167,335 C157,335,157,325,157,325 L157,325\" stroke-width=\"1\" stroke=\"black\" stroke-linejoin=\"miter\" fill=\"white\" />\n",
       "<text x=\"163\" y=\"341\" font-size=\"6\" text-anchor=\"middle\" font-style=\"italic\">[herald2]</text>\n",
       "<text x=\"167\" y=\"328\" font-size=\"7\" text-anchor=\"middle\">0</text>\n",
       "<path d=\"M157,375 C157,375,157,365,167,365 L175,365 L175,385 L167,385 C157,385,157,375,157,375 L157,375\" stroke-width=\"1\" stroke=\"black\" stroke-linejoin=\"miter\" fill=\"white\" />\n",
       "<text x=\"163\" y=\"391\" font-size=\"6\" text-anchor=\"middle\" font-style=\"italic\">[herald3]</text>\n",
       "<text x=\"167\" y=\"378\" font-size=\"7\" text-anchor=\"middle\">1</text>\n",
       "<path d=\"M257,225 C257,225,257,215,267,215 L275,215 L275,235 L267,235 C257,235,257,225,257,225 L257,225\" stroke-width=\"1\" stroke=\"black\" stroke-linejoin=\"miter\" fill=\"white\" />\n",
       "<text x=\"263\" y=\"241\" font-size=\"6\" text-anchor=\"middle\" font-style=\"italic\">[herald4]</text>\n",
       "<text x=\"267\" y=\"228\" font-size=\"7\" text-anchor=\"middle\">0</text>\n",
       "<path d=\"M257,275 C257,275,257,265,267,265 L275,265 L275,285 L267,285 C257,285,257,275,257,275 L257,275\" stroke-width=\"1\" stroke=\"black\" stroke-linejoin=\"miter\" fill=\"white\" />\n",
       "<text x=\"263\" y=\"291\" font-size=\"6\" text-anchor=\"middle\" font-style=\"italic\">[herald5]</text>\n",
       "<text x=\"267\" y=\"278\" font-size=\"7\" text-anchor=\"middle\">1</text>\n",
       "<path d=\"M257,325 C257,325,257,315,267,315 L275,315 L275,335 L267,335 C257,335,257,325,257,325 L257,325\" stroke-width=\"1\" stroke=\"black\" stroke-linejoin=\"miter\" fill=\"white\" />\n",
       "<text x=\"263\" y=\"341\" font-size=\"6\" text-anchor=\"middle\" font-style=\"italic\">[herald6]</text>\n",
       "<text x=\"267\" y=\"328\" font-size=\"7\" text-anchor=\"middle\">0</text>\n",
       "<path d=\"M257,375 C257,375,257,365,267,365 L275,365 L275,385 L267,385 C257,385,257,375,257,375 L257,375\" stroke-width=\"1\" stroke=\"black\" stroke-linejoin=\"miter\" fill=\"white\" />\n",
       "<text x=\"263\" y=\"391\" font-size=\"6\" text-anchor=\"middle\" font-style=\"italic\">[herald7]</text>\n",
       "<text x=\"267\" y=\"378\" font-size=\"7\" text-anchor=\"middle\">1</text>\n",
       "<path d=\"M590,15 L602,15 L602,85 L590,85 Z\" stroke=\"black\" fill=\"white\" stroke-linejoin=\"miter\" />\n",
       "<text x=\"596\" y=\"27\" font-size=\"7\" text-anchor=\"middle\">0</text>\n",
       "<text x=\"596\" y=\"77\" font-size=\"7\" text-anchor=\"middle\">1</text>\n",
       "<text x=\"602\" y=\"91\" font-size=\"6\" text-anchor=\"end\" font-style=\"italic\">[ctrl]</text>\n",
       "<path d=\"M590,115 L602,115 L602,185 L590,185 Z\" stroke=\"black\" fill=\"white\" stroke-linejoin=\"miter\" />\n",
       "<text x=\"596\" y=\"127\" font-size=\"7\" text-anchor=\"middle\">2</text>\n",
       "<text x=\"596\" y=\"177\" font-size=\"7\" text-anchor=\"middle\">3</text>\n",
       "<text x=\"602\" y=\"191\" font-size=\"6\" text-anchor=\"end\" font-style=\"italic\">[data]</text>\n",
       "<path d=\"M233,235 L225,235 L225,215 L233,215 C233,215,243,215,243,225 C243,235,233,235,233,235 L233,235\" stroke-width=\"1\" stroke=\"black\" stroke-linejoin=\"miter\" fill=\"white\" />\n",
       "<text x=\"238\" y=\"241\" font-size=\"6\" text-anchor=\"middle\" font-style=\"italic\">[herald0]</text>\n",
       "<text x=\"233\" y=\"228\" font-size=\"7\" text-anchor=\"middle\">0</text>\n",
       "<path d=\"M233,285 L225,285 L225,265 L233,265 C233,265,243,265,243,275 C243,285,233,285,233,285 L233,285\" stroke-width=\"1\" stroke=\"black\" stroke-linejoin=\"miter\" fill=\"white\" />\n",
       "<text x=\"238\" y=\"291\" font-size=\"6\" text-anchor=\"middle\" font-style=\"italic\">[herald1]</text>\n",
       "<text x=\"233\" y=\"278\" font-size=\"7\" text-anchor=\"middle\">1</text>\n",
       "<path d=\"M233,335 L225,335 L225,315 L233,315 C233,315,243,315,243,325 C243,335,233,335,233,335 L233,335\" stroke-width=\"1\" stroke=\"black\" stroke-linejoin=\"miter\" fill=\"white\" />\n",
       "<text x=\"238\" y=\"341\" font-size=\"6\" text-anchor=\"middle\" font-style=\"italic\">[herald2]</text>\n",
       "<text x=\"233\" y=\"328\" font-size=\"7\" text-anchor=\"middle\">0</text>\n",
       "<path d=\"M233,385 L225,385 L225,365 L233,365 C233,365,243,365,243,375 C243,385,233,385,233,385 L233,385\" stroke-width=\"1\" stroke=\"black\" stroke-linejoin=\"miter\" fill=\"white\" />\n",
       "<text x=\"238\" y=\"391\" font-size=\"6\" text-anchor=\"middle\" font-style=\"italic\">[herald3]</text>\n",
       "<text x=\"233\" y=\"378\" font-size=\"7\" text-anchor=\"middle\">1</text>\n",
       "<path d=\"M333,235 L325,235 L325,215 L333,215 C333,215,343,215,343,225 C343,235,333,235,333,235 L333,235\" stroke-width=\"1\" stroke=\"black\" stroke-linejoin=\"miter\" fill=\"white\" />\n",
       "<text x=\"338\" y=\"241\" font-size=\"6\" text-anchor=\"middle\" font-style=\"italic\">[herald4]</text>\n",
       "<text x=\"333\" y=\"228\" font-size=\"7\" text-anchor=\"middle\">0</text>\n",
       "<path d=\"M333,285 L325,285 L325,265 L333,265 C333,265,343,265,343,275 C343,285,333,285,333,285 L333,285\" stroke-width=\"1\" stroke=\"black\" stroke-linejoin=\"miter\" fill=\"white\" />\n",
       "<text x=\"338\" y=\"291\" font-size=\"6\" text-anchor=\"middle\" font-style=\"italic\">[herald5]</text>\n",
       "<text x=\"333\" y=\"278\" font-size=\"7\" text-anchor=\"middle\">1</text>\n",
       "<path d=\"M333,335 L325,335 L325,315 L333,315 C333,315,343,315,343,325 C343,335,333,335,333,335 L333,335\" stroke-width=\"1\" stroke=\"black\" stroke-linejoin=\"miter\" fill=\"white\" />\n",
       "<text x=\"338\" y=\"341\" font-size=\"6\" text-anchor=\"middle\" font-style=\"italic\">[herald6]</text>\n",
       "<text x=\"333\" y=\"328\" font-size=\"7\" text-anchor=\"middle\">0</text>\n",
       "<path d=\"M333,385 L325,385 L325,365 L333,365 C333,365,343,365,343,375 C343,385,333,385,333,385 L333,385\" stroke-width=\"1\" stroke=\"black\" stroke-linejoin=\"miter\" fill=\"white\" />\n",
       "<text x=\"338\" y=\"391\" font-size=\"6\" text-anchor=\"middle\" font-style=\"italic\">[herald7]</text>\n",
       "<text x=\"333\" y=\"378\" font-size=\"7\" text-anchor=\"middle\">1</text>\n",
       "</svg>"
      ],
      "text/plain": [
       "<drawsvg.drawing.Drawing at 0x7c09d395b610>"
      ]
     },
     "execution_count": 5,
     "metadata": {},
     "output_type": "execute_result"
    }
   ],
   "source": [
    "step_one = Circuit(2, \"S1\") // NOT // RX(gamma)\n",
    "p_step_one = Processor(\"SLOS\", 4)\n",
    "p_step_one.add(q(0), H)\n",
    "p_step_one.add(q(1), step_one)\n",
    "p_step_one.add(q(1), RX(-gamma))\n",
    "p_step_one.add(q(0) + q(1), CNOT)\n",
    "p_step_one.add([2], PS(theta))\n",
    "p_step_one.add(q(0) + q(1), CNOT)\n",
    "p_step_one.add(q(0), H)\n",
    "p_step_one.add(q(0), RX(theta))\n",
    "pdisplay(p_step_one)"
   ]
  },
  {
   "cell_type": "code",
   "execution_count": 6,
   "id": "ca269cb81ffcfe56",
   "metadata": {
    "ExecuteTime": {
     "end_time": "2024-05-21T07:03:33.789393Z",
     "start_time": "2024-05-21T07:03:33.583169Z"
    },
    "collapsed": false,
    "jupyter": {
     "outputs_hidden": false
    }
   },
   "outputs": [
    {
     "data": {
      "text/plain": [
       "1.0"
      ]
     },
     "execution_count": 6,
     "metadata": {},
     "output_type": "execute_result"
    }
   ],
   "source": [
    "measure2p(p_step_one)[qubits[\"01\"]]"
   ]
  },
  {
   "cell_type": "code",
   "execution_count": 7,
   "id": "84dae4841f17180f",
   "metadata": {
    "ExecuteTime": {
     "end_time": "2024-05-21T07:03:38.830306Z",
     "start_time": "2024-05-21T07:03:38.752799Z"
    },
    "collapsed": false,
    "jupyter": {
     "outputs_hidden": false
    }
   },
   "outputs": [
    {
     "data": {
      "image/svg+xml": [
       "<?xml version=\"1.0\" encoding=\"UTF-8\"?>\n",
       "<svg xmlns=\"http://www.w3.org/2000/svg\" xmlns:xlink=\"http://www.w3.org/1999/xlink\"\n",
       "     width=\"712.5\" height=\"656.25\" viewBox=\"-25 0 570.0 525.0\">\n",
       "<defs>\n",
       "</defs>\n",
       "<path d=\"M10,25 L25,25\" stroke-width=\"1\" stroke=\"black\" stroke-linejoin=\"miter\" fill=\"none\" />\n",
       "<path d=\"M10,75 L25,75\" stroke-width=\"1\" stroke=\"black\" stroke-linejoin=\"miter\" fill=\"none\" />\n",
       "<path d=\"M10,125 L25,125\" stroke-width=\"1\" stroke=\"black\" stroke-linejoin=\"miter\" fill=\"none\" />\n",
       "<path d=\"M10,175 L25,175\" stroke-width=\"1\" stroke=\"black\" stroke-linejoin=\"miter\" fill=\"none\" />\n",
       "<path d=\"M37.9442,25.0002 C51.653800000000004,25.0002,51.5923,50.0,65.3019,50.0 M65.3038,50.0 C51.59219999999999,50.0,51.6538,74.9998,37.94409999999999,74.9998 M65.3038,49.99999999999999 L87.1884,49.99999999999999 M87.1884,49.99999999999999 C100.9,49.99999999999999,100.83840000000001,25.000199999999992,114.5481,25.000199999999992 M87.1884,49.99999999999999 C100.9,49.99999999999999,100.83840000000001,74.9998,114.5481,74.9998 M25.0,24.999999999999993 L38.0,24.999999999999993 M38.0019,74.9998 L25.0,74.9998 M112.6453,74.9998 L125.0,74.9998 M112.1944,24.999799999999993 L125.0,24.999799999999993\" stroke-width=\"1\" stroke=\"black\" stroke-linejoin=\"miter\" fill=\"none\" />\n",
       "<text x=\"75\" y=\"38\" font-size=\"7\" text-anchor=\"middle\"></text>\n",
       "<path d=\"M97,53 L107,53 L107,63 L97,63 Z\" stroke=\"black\" fill=\"aquamarine\" stroke-linejoin=\"miter\" />\n",
       "<text x=\"102\" y=\"60\" font-size=\"6\" text-anchor=\"middle\">H</text>\n",
       "<path d=\"M25,125 L75,125\" stroke=\"black\" stroke-width=\"1\" fill=\"none\" />\n",
       "<path d=\"M25,175 L75,175\" stroke=\"black\" stroke-width=\"1\" fill=\"none\" />\n",
       "<path d=\"M27.5,102.5 L72.5,102.5 L72.5,197.5 L27.5,197.5 Z\" stroke=\"black\" fill=\"white\" stroke-linejoin=\"miter\" />\n",
       "<text x=\"35\" y=\"116\" font-size=\"8\" text-anchor=\"start\" font-weight=\"bold\">HP</text>\n",
       "<path d=\"M87.9442,125.0002 C101.65379999999999,125.0002,101.5923,150.0,115.30189999999999,150.0 M115.3038,150.0 C101.59219999999999,150.0,101.65379999999999,174.9998,87.94409999999999,174.9998 M115.3038,150.0 L137.1884,150.0 M137.1884,150.0 C150.9,150.0,150.8384,125.0002,164.5481,125.0002 M137.1884,150.0 C150.9,150.0,150.8384,174.9998,164.5481,174.9998 M75.0,125.0 L88.0,125.0 M88.0019,174.9998 L75.0,174.9998 M162.64530000000002,174.9998 L175.0,174.9998 M162.1944,124.9998 L175.0,124.9998\" stroke-width=\"1\" stroke=\"black\" stroke-linejoin=\"miter\" fill=\"none\" />\n",
       "<text x=\"125\" y=\"138\" font-size=\"7\" text-anchor=\"middle\">Θ=pi/3</text>\n",
       "<path d=\"M147,153 L157,153 L157,163 L147,163 Z\" stroke=\"black\" fill=\"lightsalmon\" stroke-linejoin=\"miter\" />\n",
       "<text x=\"152\" y=\"160\" font-size=\"6\" text-anchor=\"middle\">Ry</text>\n",
       "<path d=\"M125,25 L175,25\" stroke=\"black\" stroke-width=\"1\" fill=\"none\" />\n",
       "<path d=\"M125,75 L175,75\" stroke=\"black\" stroke-width=\"1\" fill=\"none\" />\n",
       "<path d=\"M175,25 L225,25\" stroke=\"black\" stroke-width=\"1\" fill=\"none\" />\n",
       "<path d=\"M175,75 L225,75\" stroke=\"black\" stroke-width=\"1\" fill=\"none\" />\n",
       "<path d=\"M175,125 L225,125\" stroke=\"black\" stroke-width=\"1\" fill=\"none\" />\n",
       "<path d=\"M175,175 L225,175\" stroke=\"black\" stroke-width=\"1\" fill=\"none\" />\n",
       "<path d=\"M175,225 L225,225\" stroke=\"black\" stroke-width=\"1\" fill=\"none\" />\n",
       "<path d=\"M175,275 L225,275\" stroke=\"black\" stroke-width=\"1\" fill=\"none\" />\n",
       "<path d=\"M175,325 L225,325\" stroke=\"black\" stroke-width=\"1\" fill=\"none\" />\n",
       "<path d=\"M175,375 L225,375\" stroke=\"black\" stroke-width=\"1\" fill=\"none\" />\n",
       "<path d=\"M177.5,2.5 L222.5,2.5 L222.5,397.5 L177.5,397.5 Z\" stroke=\"black\" fill=\"white\" stroke-linejoin=\"miter\" />\n",
       "<text x=\"185\" y=\"24\" font-size=\"8\" text-anchor=\"start\" font-weight=\"bold\"><tspan x=\"185\" dy=\"0em\">HERALDED</tspan><tspan x=\"185\" dy=\"1em\">CNOT</tspan></text>\n",
       "<path d=\"M237.9442,125.0002 C251.6538,125.0002,251.5923,150.0,265.3019,150.0 M265.30379999999997,150.0 C251.59219999999996,150.0,251.65379999999996,174.9998,237.94409999999996,174.9998 M265.30379999999997,150.0 L287.18839999999994,150.0 M287.18839999999994,150.0 C300.9,150.0,300.8384,125.0002,314.5481,125.0002 M287.1884,150.0 C300.9,150.0,300.8384,174.9998,314.5481,174.9998 M224.99999999999997,125.0 L237.99999999999997,125.0 M238.00189999999998,174.9998 L224.99999999999997,174.9998 M312.64529999999996,174.9998 L324.99999999999994,174.9998 M312.1944,124.9998 L325.0,124.9998\" stroke-width=\"1\" stroke=\"black\" stroke-linejoin=\"miter\" fill=\"none\" />\n",
       "<text x=\"275\" y=\"138\" font-size=\"7\" text-anchor=\"middle\">Θ=11*pi/3</text>\n",
       "<path d=\"M297,153 L307,153 L307,163 L297,163 Z\" stroke=\"black\" fill=\"lightsalmon\" stroke-linejoin=\"miter\" />\n",
       "<text x=\"302\" y=\"160\" font-size=\"6\" text-anchor=\"middle\">Ry</text>\n",
       "<path d=\"M237.9442,25.0002 C251.6538,25.0002,251.5923,50.0,265.3019,50.0 M265.30379999999997,50.0 C251.59219999999996,50.0,251.65379999999996,74.9998,237.94409999999996,74.9998 M265.30379999999997,49.99999999999999 L287.18839999999994,49.99999999999999 M287.18839999999994,49.99999999999999 C300.9,49.99999999999999,300.8384,25.000199999999992,314.5481,25.000199999999992 M287.1884,49.99999999999999 C300.9,49.99999999999999,300.8384,74.9998,314.5481,74.9998 M224.99999999999997,24.999999999999993 L237.99999999999997,24.999999999999993 M238.00189999999998,74.9998 L224.99999999999997,74.9998 M312.64529999999996,74.9998 L324.99999999999994,74.9998 M312.1944,24.999799999999993 L325.0,24.999799999999993\" stroke-width=\"1\" stroke=\"black\" stroke-linejoin=\"miter\" fill=\"none\" />\n",
       "<text x=\"275\" y=\"38\" font-size=\"7\" text-anchor=\"middle\"></text>\n",
       "<path d=\"M297,53 L307,53 L307,63 L297,63 Z\" stroke=\"black\" fill=\"aquamarine\" stroke-linejoin=\"miter\" />\n",
       "<text x=\"302\" y=\"60\" font-size=\"6\" text-anchor=\"middle\">H</text>\n",
       "<path d=\"M325,24.8 C345,25,355,125,375,125\" stroke-width=\"2\" stroke=\"white\" stroke-linejoin=\"miter\" fill=\"none\" />\n",
       "<path d=\"M325,25 C345,25,355,125,375,125\" stroke-width=\"1\" stroke=\"black\" stroke-linejoin=\"miter\" fill=\"none\" />\n",
       "<path d=\"M325,74.8 C345,75,355,175,375,175\" stroke-width=\"2\" stroke=\"white\" stroke-linejoin=\"miter\" fill=\"none\" />\n",
       "<path d=\"M325,75 C345,75,355,175,375,175\" stroke-width=\"1\" stroke=\"black\" stroke-linejoin=\"miter\" fill=\"none\" />\n",
       "<path d=\"M325,124.8 C345,125,355,25,375,25\" stroke-width=\"2\" stroke=\"white\" stroke-linejoin=\"miter\" fill=\"none\" />\n",
       "<path d=\"M325,125 C345,125,355,25,375,25\" stroke-width=\"1\" stroke=\"black\" stroke-linejoin=\"miter\" fill=\"none\" />\n",
       "<path d=\"M325,174.8 C345,175,355,75,375,75\" stroke-width=\"2\" stroke=\"white\" stroke-linejoin=\"miter\" fill=\"none\" />\n",
       "<path d=\"M325,175 C345,175,355,75,375,75\" stroke-width=\"1\" stroke=\"black\" stroke-linejoin=\"miter\" fill=\"none\" />\n",
       "<path d=\"M375,25 L425,25\" stroke=\"black\" stroke-width=\"1\" fill=\"none\" />\n",
       "<path d=\"M375,75 L425,75\" stroke=\"black\" stroke-width=\"1\" fill=\"none\" />\n",
       "<path d=\"M375,125 L425,125\" stroke=\"black\" stroke-width=\"1\" fill=\"none\" />\n",
       "<path d=\"M375,175 L425,175\" stroke=\"black\" stroke-width=\"1\" fill=\"none\" />\n",
       "<path d=\"M375,225 L425,225\" stroke=\"black\" stroke-width=\"1\" fill=\"none\" />\n",
       "<path d=\"M375,275 L425,275\" stroke=\"black\" stroke-width=\"1\" fill=\"none\" />\n",
       "<path d=\"M375,325 L425,325\" stroke=\"black\" stroke-width=\"1\" fill=\"none\" />\n",
       "<path d=\"M375,375 L425,375\" stroke=\"black\" stroke-width=\"1\" fill=\"none\" />\n",
       "<path d=\"M377.5,2.5 L422.5,2.5 L422.5,397.5 L377.5,397.5 Z\" stroke=\"black\" fill=\"white\" stroke-linejoin=\"miter\" />\n",
       "<text x=\"385\" y=\"24\" font-size=\"8\" text-anchor=\"start\" font-weight=\"bold\"><tspan x=\"385\" dy=\"0em\">HERALDED</tspan><tspan x=\"385\" dy=\"1em\">CNOT</tspan></text>\n",
       "<path d=\"M425,24.8 C445,25,455,125,475,125\" stroke-width=\"2\" stroke=\"white\" stroke-linejoin=\"miter\" fill=\"none\" />\n",
       "<path d=\"M425,25 C445,25,455,125,475,125\" stroke-width=\"1\" stroke=\"black\" stroke-linejoin=\"miter\" fill=\"none\" />\n",
       "<path d=\"M425,74.8 C445,75,455,175,475,175\" stroke-width=\"2\" stroke=\"white\" stroke-linejoin=\"miter\" fill=\"none\" />\n",
       "<path d=\"M425,75 C445,75,455,175,475,175\" stroke-width=\"1\" stroke=\"black\" stroke-linejoin=\"miter\" fill=\"none\" />\n",
       "<path d=\"M425,124.8 C445,125,455,25,475,25\" stroke-width=\"2\" stroke=\"white\" stroke-linejoin=\"miter\" fill=\"none\" />\n",
       "<path d=\"M425,125 C445,125,455,25,475,25\" stroke-width=\"1\" stroke=\"black\" stroke-linejoin=\"miter\" fill=\"none\" />\n",
       "<path d=\"M425,174.8 C445,175,455,75,475,75\" stroke-width=\"2\" stroke=\"white\" stroke-linejoin=\"miter\" fill=\"none\" />\n",
       "<path d=\"M425,175 C445,175,455,75,475,75\" stroke-width=\"1\" stroke=\"black\" stroke-linejoin=\"miter\" fill=\"none\" />\n",
       "<path d=\"M475,25 L490,25\" stroke-width=\"1\" stroke=\"black\" stroke-linejoin=\"miter\" fill=\"none\" />\n",
       "<path d=\"M475,75 L490,75\" stroke-width=\"1\" stroke=\"black\" stroke-linejoin=\"miter\" fill=\"none\" />\n",
       "<path d=\"M475,125 L490,125\" stroke-width=\"1\" stroke=\"black\" stroke-linejoin=\"miter\" fill=\"none\" />\n",
       "<path d=\"M475,175 L490,175\" stroke-width=\"1\" stroke=\"black\" stroke-linejoin=\"miter\" fill=\"none\" />\n",
       "<path d=\"M157,225 C157,225,157,215,167,215 L175,215 L175,235 L167,235 C157,235,157,225,157,225 L157,225\" stroke-width=\"1\" stroke=\"black\" stroke-linejoin=\"miter\" fill=\"white\" />\n",
       "<text x=\"163\" y=\"241\" font-size=\"6\" text-anchor=\"middle\" font-style=\"italic\">[herald0]</text>\n",
       "<text x=\"167\" y=\"228\" font-size=\"7\" text-anchor=\"middle\">0</text>\n",
       "<path d=\"M157,275 C157,275,157,265,167,265 L175,265 L175,285 L167,285 C157,285,157,275,157,275 L157,275\" stroke-width=\"1\" stroke=\"black\" stroke-linejoin=\"miter\" fill=\"white\" />\n",
       "<text x=\"163\" y=\"291\" font-size=\"6\" text-anchor=\"middle\" font-style=\"italic\">[herald1]</text>\n",
       "<text x=\"167\" y=\"278\" font-size=\"7\" text-anchor=\"middle\">1</text>\n",
       "<path d=\"M157,325 C157,325,157,315,167,315 L175,315 L175,335 L167,335 C157,335,157,325,157,325 L157,325\" stroke-width=\"1\" stroke=\"black\" stroke-linejoin=\"miter\" fill=\"white\" />\n",
       "<text x=\"163\" y=\"341\" font-size=\"6\" text-anchor=\"middle\" font-style=\"italic\">[herald2]</text>\n",
       "<text x=\"167\" y=\"328\" font-size=\"7\" text-anchor=\"middle\">0</text>\n",
       "<path d=\"M157,375 C157,375,157,365,167,365 L175,365 L175,385 L167,385 C157,385,157,375,157,375 L157,375\" stroke-width=\"1\" stroke=\"black\" stroke-linejoin=\"miter\" fill=\"white\" />\n",
       "<text x=\"163\" y=\"391\" font-size=\"6\" text-anchor=\"middle\" font-style=\"italic\">[herald3]</text>\n",
       "<text x=\"167\" y=\"378\" font-size=\"7\" text-anchor=\"middle\">1</text>\n",
       "<path d=\"M357,225 C357,225,357,215,367,215 L375,215 L375,235 L367,235 C357,235,357,225,357,225 L357,225\" stroke-width=\"1\" stroke=\"black\" stroke-linejoin=\"miter\" fill=\"white\" />\n",
       "<text x=\"363\" y=\"241\" font-size=\"6\" text-anchor=\"middle\" font-style=\"italic\">[herald4]</text>\n",
       "<text x=\"367\" y=\"228\" font-size=\"7\" text-anchor=\"middle\">0</text>\n",
       "<path d=\"M357,275 C357,275,357,265,367,265 L375,265 L375,285 L367,285 C357,285,357,275,357,275 L357,275\" stroke-width=\"1\" stroke=\"black\" stroke-linejoin=\"miter\" fill=\"white\" />\n",
       "<text x=\"363\" y=\"291\" font-size=\"6\" text-anchor=\"middle\" font-style=\"italic\">[herald5]</text>\n",
       "<text x=\"367\" y=\"278\" font-size=\"7\" text-anchor=\"middle\">1</text>\n",
       "<path d=\"M357,325 C357,325,357,315,367,315 L375,315 L375,335 L367,335 C357,335,357,325,357,325 L357,325\" stroke-width=\"1\" stroke=\"black\" stroke-linejoin=\"miter\" fill=\"white\" />\n",
       "<text x=\"363\" y=\"341\" font-size=\"6\" text-anchor=\"middle\" font-style=\"italic\">[herald6]</text>\n",
       "<text x=\"367\" y=\"328\" font-size=\"7\" text-anchor=\"middle\">0</text>\n",
       "<path d=\"M357,375 C357,375,357,365,367,365 L375,365 L375,385 L367,385 C357,385,357,375,357,375 L357,375\" stroke-width=\"1\" stroke=\"black\" stroke-linejoin=\"miter\" fill=\"white\" />\n",
       "<text x=\"363\" y=\"391\" font-size=\"6\" text-anchor=\"middle\" font-style=\"italic\">[herald7]</text>\n",
       "<text x=\"367\" y=\"378\" font-size=\"7\" text-anchor=\"middle\">1</text>\n",
       "<path d=\"M490,15 L502,15 L502,85 L490,85 Z\" stroke=\"black\" fill=\"white\" stroke-linejoin=\"miter\" />\n",
       "<text x=\"496\" y=\"27\" font-size=\"7\" text-anchor=\"middle\">0</text>\n",
       "<text x=\"496\" y=\"77\" font-size=\"7\" text-anchor=\"middle\">1</text>\n",
       "<text x=\"502\" y=\"91\" font-size=\"6\" text-anchor=\"end\" font-style=\"italic\">[ctrl]</text>\n",
       "<path d=\"M490,115 L502,115 L502,185 L490,185 Z\" stroke=\"black\" fill=\"white\" stroke-linejoin=\"miter\" />\n",
       "<text x=\"496\" y=\"127\" font-size=\"7\" text-anchor=\"middle\">2</text>\n",
       "<text x=\"496\" y=\"177\" font-size=\"7\" text-anchor=\"middle\">3</text>\n",
       "<text x=\"502\" y=\"191\" font-size=\"6\" text-anchor=\"end\" font-style=\"italic\">[data]</text>\n",
       "<path d=\"M233,235 L225,235 L225,215 L233,215 C233,215,243,215,243,225 C243,235,233,235,233,235 L233,235\" stroke-width=\"1\" stroke=\"black\" stroke-linejoin=\"miter\" fill=\"white\" />\n",
       "<text x=\"238\" y=\"241\" font-size=\"6\" text-anchor=\"middle\" font-style=\"italic\">[herald0]</text>\n",
       "<text x=\"233\" y=\"228\" font-size=\"7\" text-anchor=\"middle\">0</text>\n",
       "<path d=\"M233,285 L225,285 L225,265 L233,265 C233,265,243,265,243,275 C243,285,233,285,233,285 L233,285\" stroke-width=\"1\" stroke=\"black\" stroke-linejoin=\"miter\" fill=\"white\" />\n",
       "<text x=\"238\" y=\"291\" font-size=\"6\" text-anchor=\"middle\" font-style=\"italic\">[herald1]</text>\n",
       "<text x=\"233\" y=\"278\" font-size=\"7\" text-anchor=\"middle\">1</text>\n",
       "<path d=\"M233,335 L225,335 L225,315 L233,315 C233,315,243,315,243,325 C243,335,233,335,233,335 L233,335\" stroke-width=\"1\" stroke=\"black\" stroke-linejoin=\"miter\" fill=\"white\" />\n",
       "<text x=\"238\" y=\"341\" font-size=\"6\" text-anchor=\"middle\" font-style=\"italic\">[herald2]</text>\n",
       "<text x=\"233\" y=\"328\" font-size=\"7\" text-anchor=\"middle\">0</text>\n",
       "<path d=\"M233,385 L225,385 L225,365 L233,365 C233,365,243,365,243,375 C243,385,233,385,233,385 L233,385\" stroke-width=\"1\" stroke=\"black\" stroke-linejoin=\"miter\" fill=\"white\" />\n",
       "<text x=\"238\" y=\"391\" font-size=\"6\" text-anchor=\"middle\" font-style=\"italic\">[herald3]</text>\n",
       "<text x=\"233\" y=\"378\" font-size=\"7\" text-anchor=\"middle\">1</text>\n",
       "<path d=\"M433,235 L425,235 L425,215 L433,215 C433,215,443,215,443,225 C443,235,433,235,433,235 L433,235\" stroke-width=\"1\" stroke=\"black\" stroke-linejoin=\"miter\" fill=\"white\" />\n",
       "<text x=\"438\" y=\"241\" font-size=\"6\" text-anchor=\"middle\" font-style=\"italic\">[herald4]</text>\n",
       "<text x=\"433\" y=\"228\" font-size=\"7\" text-anchor=\"middle\">0</text>\n",
       "<path d=\"M433,285 L425,285 L425,265 L433,265 C433,265,443,265,443,275 C443,285,433,285,433,285 L433,285\" stroke-width=\"1\" stroke=\"black\" stroke-linejoin=\"miter\" fill=\"white\" />\n",
       "<text x=\"438\" y=\"291\" font-size=\"6\" text-anchor=\"middle\" font-style=\"italic\">[herald5]</text>\n",
       "<text x=\"433\" y=\"278\" font-size=\"7\" text-anchor=\"middle\">1</text>\n",
       "<path d=\"M433,335 L425,335 L425,315 L433,315 C433,315,443,315,443,325 C443,335,433,335,433,335 L433,335\" stroke-width=\"1\" stroke=\"black\" stroke-linejoin=\"miter\" fill=\"white\" />\n",
       "<text x=\"438\" y=\"341\" font-size=\"6\" text-anchor=\"middle\" font-style=\"italic\">[herald6]</text>\n",
       "<text x=\"433\" y=\"328\" font-size=\"7\" text-anchor=\"middle\">0</text>\n",
       "<path d=\"M433,385 L425,385 L425,365 L433,365 C433,365,443,365,443,375 C443,385,433,385,433,385 L433,385\" stroke-width=\"1\" stroke=\"black\" stroke-linejoin=\"miter\" fill=\"white\" />\n",
       "<text x=\"438\" y=\"391\" font-size=\"6\" text-anchor=\"middle\" font-style=\"italic\">[herald7]</text>\n",
       "<text x=\"433\" y=\"378\" font-size=\"7\" text-anchor=\"middle\">1</text>\n",
       "</svg>"
      ],
      "text/plain": [
       "<drawsvg.drawing.Drawing at 0x7c09d39b7c50>"
      ]
     },
     "execution_count": 7,
     "metadata": {},
     "output_type": "execute_result"
    }
   ],
   "source": [
    "# step_two = Circuit(2, \"S2\") // RX(-pi/2)\n",
    "step_two = Circuit(2, \"S2\") \n",
    "p_step_two = Processor(\"SLOS\", 4)\n",
    "p_step_two.add(q(0), H)\n",
    "p_step_two.add(q(1), HP)\n",
    "p_step_two.add(q(1), RY(theta))\n",
    "p_step_two.add(q(0) + q(1), CNOT)\n",
    "p_step_two.add(q(1), RY(-theta))\n",
    "p_step_two.add(q(0), H)\n",
    "p_step_two.add(q(1) + q(0), CNOT)\n",
    "p_step_two.add(q(1), step_two)\n",
    "pdisplay(p_step_two)"
   ]
  },
  {
   "cell_type": "code",
   "execution_count": 8,
   "id": "ce01dfbadab95139",
   "metadata": {
    "ExecuteTime": {
     "end_time": "2024-05-05T18:33:46.167030Z",
     "start_time": "2024-05-05T18:33:45.889724Z"
    },
    "collapsed": false,
    "jupyter": {
     "outputs_hidden": false
    }
   },
   "outputs": [
    {
     "name": "stdout",
     "output_type": "stream",
     "text": [
      "On attend : {|1,0,0,1>: 0.93, |0,1,0,1>: 0.07})\n"
     ]
    },
    {
     "data": {
      "text/plain": [
       "BSDistribution(float,\n",
       "               {|1,0,1,0>: 0.4665063509461102,\n",
       "                |1,0,0,1>: 0.4665063509461095,\n",
       "                |0,1,1,0>: 0.03349364905389023,\n",
       "                |0,1,0,1>: 0.03349364905389023})"
      ]
     },
     "execution_count": 8,
     "metadata": {},
     "output_type": "execute_result"
    }
   ],
   "source": [
    "print(\"On attend : {|1,0,0,1>: 0.93, |0,1,0,1>: 0.07})\")\n",
    "measure2p(p_step_two, input_state=qubits[\"00\"])"
   ]
  },
  {
   "cell_type": "markdown",
   "id": "e0b4d1b1-9d3e-4d86-b9a6-488ae705e38d",
   "metadata": {},
   "source": [
    "<h2 style=\"color:green\">Solution étape 2 : rétro-ingénierie dynamique </h2>\n",
    "Une solution <i>un peu foireuse</i>, vise à ne pas regarder le circuit, mais uniquement la mesure proposée. En gardant l'identité à la place de $S_2$ on obtient la distribution suivante : \n",
    "$$\n",
    "|1,0,1,0\\rangle: 0.46\n",
    "$$\n",
    "$$\n",
    "|1,0,0,1\\rangle: 0.46\n",
    "$$\n",
    "$$\n",
    "|0,1,1,0\\rangle: 0.03\n",
    "$$\n",
    "$$\n",
    "|0,1,0,1\\rangle: 0.03\n",
    "$$\n",
    "On peut en déduire que la sortie $|\\psi\\rangle$ est de la forme : \n",
    "$$\n",
    "|\\psi\\rangle = \\left(\\alpha |0\\rangle + \\beta |1\\rangle \\right)\\otimes \\left(\\gamma |0\\rangle + \\delta |1\\rangle \\right)\n",
    "$$\n",
    "avec : \n",
    "$$\n",
    "|\\gamma| = |\\delta|\n",
    "$$\n",
    "On se trouve donc à l'équateur sur la sphère de Bloch. L'objectif devient alors simple : comment passer de notre position sur l'équateur au pôle sud (deuxième qubit toujours à $|1\\rangle$) ? \n",
    "\n",
    "Si l'on se trouve sur l'axe $X$ ou sur l'axe $Y$, il suffit de faire une rotation de $\\pm \\pi/2$ dans l'axe concerné. Sinon, on pourra essayer de s'y ramener avec une rotation sur $Z$. \n",
    "\n",
    "En essayant d'abord le cas facile, on a $4$ options : \n",
    "$$\n",
    "R_x(\\pi/2), \\quad R_x(-\\pi/2), \\quad R_y(\\pi/2), \\quad R_y(-\\pi/2)\n",
    "$$\n",
    "L'option $R_x(-\\pi/2)$ fonctionne, c'est gagné !\n",
    "\n",
    "<h3 style=\"color: blue\">Notes sur la rétro-ingénierie dynamique </h3>\n",
    "La rétro-ingénierie dynamique paraît intéressante d'un premier point de vue : elle permet de comprendre le fonctionnement d'un programme à n'importe quel instant, sans avoir à comprendre tout le circuit. Cependant, la physique quantique impose une grande contrainte : la mesure. Si l'on coupe le circuit en deux, on ne peut pas récupérer l'état intermédiaire $|\\psi_i\\rangle$, on peut seulement le mesurer. Nous n'avons pas accès à l'entièreté de l'information. Dans le cas de ce challenge, on suppose que l'état intermédiaire juste avant notre porte $S_2$ se trouve sur l'équateur, mais on a un degré de liberté inconnu : la rotation selon $Z$, et l'on est dans un cas facile ! "
   ]
  },
  {
   "cell_type": "code",
   "execution_count": 9,
   "id": "041de085-e980-48b1-a983-7e70825ee152",
   "metadata": {},
   "outputs": [
    {
     "data": {
      "image/svg+xml": [
       "<?xml version=\"1.0\" encoding=\"UTF-8\"?>\n",
       "<svg xmlns=\"http://www.w3.org/2000/svg\" xmlns:xlink=\"http://www.w3.org/1999/xlink\"\n",
       "     width=\"775.0\" height=\"656.25\" viewBox=\"-25 0 620.0 525.0\">\n",
       "<defs>\n",
       "</defs>\n",
       "<path d=\"M10,25 L25,25\" stroke-width=\"1\" stroke=\"black\" stroke-linejoin=\"miter\" fill=\"none\" />\n",
       "<path d=\"M10,75 L25,75\" stroke-width=\"1\" stroke=\"black\" stroke-linejoin=\"miter\" fill=\"none\" />\n",
       "<path d=\"M10,125 L25,125\" stroke-width=\"1\" stroke=\"black\" stroke-linejoin=\"miter\" fill=\"none\" />\n",
       "<path d=\"M10,175 L25,175\" stroke-width=\"1\" stroke=\"black\" stroke-linejoin=\"miter\" fill=\"none\" />\n",
       "<path d=\"M37.9442,25.0002 C51.653800000000004,25.0002,51.5923,50.0,65.3019,50.0 M65.3038,50.0 C51.59219999999999,50.0,51.6538,74.9998,37.94409999999999,74.9998 M65.3038,49.99999999999999 L87.1884,49.99999999999999 M87.1884,49.99999999999999 C100.9,49.99999999999999,100.83840000000001,25.000199999999992,114.5481,25.000199999999992 M87.1884,49.99999999999999 C100.9,49.99999999999999,100.83840000000001,74.9998,114.5481,74.9998 M25.0,24.999999999999993 L38.0,24.999999999999993 M38.0019,74.9998 L25.0,74.9998 M112.6453,74.9998 L125.0,74.9998 M112.1944,24.999799999999993 L125.0,24.999799999999993\" stroke-width=\"1\" stroke=\"black\" stroke-linejoin=\"miter\" fill=\"none\" />\n",
       "<text x=\"75\" y=\"38\" font-size=\"7\" text-anchor=\"middle\"></text>\n",
       "<path d=\"M97,53 L107,53 L107,63 L97,63 Z\" stroke=\"black\" fill=\"aquamarine\" stroke-linejoin=\"miter\" />\n",
       "<text x=\"102\" y=\"60\" font-size=\"6\" text-anchor=\"middle\">H</text>\n",
       "<path d=\"M25,125 L75,125\" stroke=\"black\" stroke-width=\"1\" fill=\"none\" />\n",
       "<path d=\"M25,175 L75,175\" stroke=\"black\" stroke-width=\"1\" fill=\"none\" />\n",
       "<path d=\"M27.5,102.5 L72.5,102.5 L72.5,197.5 L27.5,197.5 Z\" stroke=\"black\" fill=\"white\" stroke-linejoin=\"miter\" />\n",
       "<text x=\"35\" y=\"116\" font-size=\"8\" text-anchor=\"start\" font-weight=\"bold\">HP</text>\n",
       "<path d=\"M87.9442,125.0002 C101.65379999999999,125.0002,101.5923,150.0,115.30189999999999,150.0 M115.3038,150.0 C101.59219999999999,150.0,101.65379999999999,174.9998,87.94409999999999,174.9998 M115.3038,150.0 L137.1884,150.0 M137.1884,150.0 C150.9,150.0,150.8384,125.0002,164.5481,125.0002 M137.1884,150.0 C150.9,150.0,150.8384,174.9998,164.5481,174.9998 M75.0,125.0 L88.0,125.0 M88.0019,174.9998 L75.0,174.9998 M162.64530000000002,174.9998 L175.0,174.9998 M162.1944,124.9998 L175.0,124.9998\" stroke-width=\"1\" stroke=\"black\" stroke-linejoin=\"miter\" fill=\"none\" />\n",
       "<text x=\"125\" y=\"138\" font-size=\"7\" text-anchor=\"middle\">Θ=pi/3</text>\n",
       "<path d=\"M147,153 L157,153 L157,163 L147,163 Z\" stroke=\"black\" fill=\"lightsalmon\" stroke-linejoin=\"miter\" />\n",
       "<text x=\"152\" y=\"160\" font-size=\"6\" text-anchor=\"middle\">Ry</text>\n",
       "<path d=\"M125,25 L175,25\" stroke=\"black\" stroke-width=\"1\" fill=\"none\" />\n",
       "<path d=\"M125,75 L175,75\" stroke=\"black\" stroke-width=\"1\" fill=\"none\" />\n",
       "<path d=\"M175,25 L225,25\" stroke=\"black\" stroke-width=\"1\" fill=\"none\" />\n",
       "<path d=\"M175,75 L225,75\" stroke=\"black\" stroke-width=\"1\" fill=\"none\" />\n",
       "<path d=\"M175,125 L225,125\" stroke=\"black\" stroke-width=\"1\" fill=\"none\" />\n",
       "<path d=\"M175,175 L225,175\" stroke=\"black\" stroke-width=\"1\" fill=\"none\" />\n",
       "<path d=\"M175,225 L225,225\" stroke=\"black\" stroke-width=\"1\" fill=\"none\" />\n",
       "<path d=\"M175,275 L225,275\" stroke=\"black\" stroke-width=\"1\" fill=\"none\" />\n",
       "<path d=\"M175,325 L225,325\" stroke=\"black\" stroke-width=\"1\" fill=\"none\" />\n",
       "<path d=\"M175,375 L225,375\" stroke=\"black\" stroke-width=\"1\" fill=\"none\" />\n",
       "<path d=\"M177.5,2.5 L222.5,2.5 L222.5,397.5 L177.5,397.5 Z\" stroke=\"black\" fill=\"white\" stroke-linejoin=\"miter\" />\n",
       "<text x=\"185\" y=\"24\" font-size=\"8\" text-anchor=\"start\" font-weight=\"bold\"><tspan x=\"185\" dy=\"0em\">HERALDED</tspan><tspan x=\"185\" dy=\"1em\">CNOT</tspan></text>\n",
       "<path d=\"M237.9442,125.0002 C251.6538,125.0002,251.5923,150.0,265.3019,150.0 M265.30379999999997,150.0 C251.59219999999996,150.0,251.65379999999996,174.9998,237.94409999999996,174.9998 M265.30379999999997,150.0 L287.18839999999994,150.0 M287.18839999999994,150.0 C300.9,150.0,300.8384,125.0002,314.5481,125.0002 M287.1884,150.0 C300.9,150.0,300.8384,174.9998,314.5481,174.9998 M224.99999999999997,125.0 L237.99999999999997,125.0 M238.00189999999998,174.9998 L224.99999999999997,174.9998 M312.64529999999996,174.9998 L324.99999999999994,174.9998 M312.1944,124.9998 L325.0,124.9998\" stroke-width=\"1\" stroke=\"black\" stroke-linejoin=\"miter\" fill=\"none\" />\n",
       "<text x=\"275\" y=\"138\" font-size=\"7\" text-anchor=\"middle\">Θ=11*pi/3</text>\n",
       "<path d=\"M297,153 L307,153 L307,163 L297,163 Z\" stroke=\"black\" fill=\"lightsalmon\" stroke-linejoin=\"miter\" />\n",
       "<text x=\"302\" y=\"160\" font-size=\"6\" text-anchor=\"middle\">Ry</text>\n",
       "<path d=\"M237.9442,25.0002 C251.6538,25.0002,251.5923,50.0,265.3019,50.0 M265.30379999999997,50.0 C251.59219999999996,50.0,251.65379999999996,74.9998,237.94409999999996,74.9998 M265.30379999999997,49.99999999999999 L287.18839999999994,49.99999999999999 M287.18839999999994,49.99999999999999 C300.9,49.99999999999999,300.8384,25.000199999999992,314.5481,25.000199999999992 M287.1884,49.99999999999999 C300.9,49.99999999999999,300.8384,74.9998,314.5481,74.9998 M224.99999999999997,24.999999999999993 L237.99999999999997,24.999999999999993 M238.00189999999998,74.9998 L224.99999999999997,74.9998 M312.64529999999996,74.9998 L324.99999999999994,74.9998 M312.1944,24.999799999999993 L325.0,24.999799999999993\" stroke-width=\"1\" stroke=\"black\" stroke-linejoin=\"miter\" fill=\"none\" />\n",
       "<text x=\"275\" y=\"38\" font-size=\"7\" text-anchor=\"middle\"></text>\n",
       "<path d=\"M297,53 L307,53 L307,63 L297,63 Z\" stroke=\"black\" fill=\"aquamarine\" stroke-linejoin=\"miter\" />\n",
       "<text x=\"302\" y=\"60\" font-size=\"6\" text-anchor=\"middle\">H</text>\n",
       "<path d=\"M325,24.8 C345,25,355,125,375,125\" stroke-width=\"2\" stroke=\"white\" stroke-linejoin=\"miter\" fill=\"none\" />\n",
       "<path d=\"M325,25 C345,25,355,125,375,125\" stroke-width=\"1\" stroke=\"black\" stroke-linejoin=\"miter\" fill=\"none\" />\n",
       "<path d=\"M325,74.8 C345,75,355,175,375,175\" stroke-width=\"2\" stroke=\"white\" stroke-linejoin=\"miter\" fill=\"none\" />\n",
       "<path d=\"M325,75 C345,75,355,175,375,175\" stroke-width=\"1\" stroke=\"black\" stroke-linejoin=\"miter\" fill=\"none\" />\n",
       "<path d=\"M325,124.8 C345,125,355,25,375,25\" stroke-width=\"2\" stroke=\"white\" stroke-linejoin=\"miter\" fill=\"none\" />\n",
       "<path d=\"M325,125 C345,125,355,25,375,25\" stroke-width=\"1\" stroke=\"black\" stroke-linejoin=\"miter\" fill=\"none\" />\n",
       "<path d=\"M325,174.8 C345,175,355,75,375,75\" stroke-width=\"2\" stroke=\"white\" stroke-linejoin=\"miter\" fill=\"none\" />\n",
       "<path d=\"M325,175 C345,175,355,75,375,75\" stroke-width=\"1\" stroke=\"black\" stroke-linejoin=\"miter\" fill=\"none\" />\n",
       "<path d=\"M375,25 L425,25\" stroke=\"black\" stroke-width=\"1\" fill=\"none\" />\n",
       "<path d=\"M375,75 L425,75\" stroke=\"black\" stroke-width=\"1\" fill=\"none\" />\n",
       "<path d=\"M375,125 L425,125\" stroke=\"black\" stroke-width=\"1\" fill=\"none\" />\n",
       "<path d=\"M375,175 L425,175\" stroke=\"black\" stroke-width=\"1\" fill=\"none\" />\n",
       "<path d=\"M375,225 L425,225\" stroke=\"black\" stroke-width=\"1\" fill=\"none\" />\n",
       "<path d=\"M375,275 L425,275\" stroke=\"black\" stroke-width=\"1\" fill=\"none\" />\n",
       "<path d=\"M375,325 L425,325\" stroke=\"black\" stroke-width=\"1\" fill=\"none\" />\n",
       "<path d=\"M375,375 L425,375\" stroke=\"black\" stroke-width=\"1\" fill=\"none\" />\n",
       "<path d=\"M377.5,2.5 L422.5,2.5 L422.5,397.5 L377.5,397.5 Z\" stroke=\"black\" fill=\"white\" stroke-linejoin=\"miter\" />\n",
       "<text x=\"385\" y=\"24\" font-size=\"8\" text-anchor=\"start\" font-weight=\"bold\"><tspan x=\"385\" dy=\"0em\">HERALDED</tspan><tspan x=\"385\" dy=\"1em\">CNOT</tspan></text>\n",
       "<path d=\"M425,24.8 C445,25,455,125,475,125\" stroke-width=\"2\" stroke=\"white\" stroke-linejoin=\"miter\" fill=\"none\" />\n",
       "<path d=\"M425,25 C445,25,455,125,475,125\" stroke-width=\"1\" stroke=\"black\" stroke-linejoin=\"miter\" fill=\"none\" />\n",
       "<path d=\"M425,74.8 C445,75,455,175,475,175\" stroke-width=\"2\" stroke=\"white\" stroke-linejoin=\"miter\" fill=\"none\" />\n",
       "<path d=\"M425,75 C445,75,455,175,475,175\" stroke-width=\"1\" stroke=\"black\" stroke-linejoin=\"miter\" fill=\"none\" />\n",
       "<path d=\"M425,124.8 C445,125,455,25,475,25\" stroke-width=\"2\" stroke=\"white\" stroke-linejoin=\"miter\" fill=\"none\" />\n",
       "<path d=\"M425,125 C445,125,455,25,475,25\" stroke-width=\"1\" stroke=\"black\" stroke-linejoin=\"miter\" fill=\"none\" />\n",
       "<path d=\"M425,174.8 C445,175,455,75,475,75\" stroke-width=\"2\" stroke=\"white\" stroke-linejoin=\"miter\" fill=\"none\" />\n",
       "<path d=\"M425,175 C445,175,455,75,475,75\" stroke-width=\"1\" stroke=\"black\" stroke-linejoin=\"miter\" fill=\"none\" />\n",
       "<path d=\"M475,125 L525,125\" stroke=\"black\" stroke-width=\"1\" fill=\"none\" />\n",
       "<path d=\"M475,175 L525,175\" stroke=\"black\" stroke-width=\"1\" fill=\"none\" />\n",
       "<path d=\"M477.5,102.5 L522.5,102.5 L522.5,197.5 L477.5,197.5 Z\" stroke=\"black\" fill=\"white\" stroke-linejoin=\"miter\" />\n",
       "<text x=\"485\" y=\"116\" font-size=\"8\" text-anchor=\"start\" font-weight=\"bold\">S2</text>\n",
       "<path d=\"M475,25 L525,25\" stroke=\"black\" stroke-width=\"1\" fill=\"none\" />\n",
       "<path d=\"M475,75 L525,75\" stroke=\"black\" stroke-width=\"1\" fill=\"none\" />\n",
       "<path d=\"M525,25 L540,25\" stroke-width=\"1\" stroke=\"black\" stroke-linejoin=\"miter\" fill=\"none\" />\n",
       "<path d=\"M525,75 L540,75\" stroke-width=\"1\" stroke=\"black\" stroke-linejoin=\"miter\" fill=\"none\" />\n",
       "<path d=\"M525,125 L540,125\" stroke-width=\"1\" stroke=\"black\" stroke-linejoin=\"miter\" fill=\"none\" />\n",
       "<path d=\"M525,175 L540,175\" stroke-width=\"1\" stroke=\"black\" stroke-linejoin=\"miter\" fill=\"none\" />\n",
       "<path d=\"M157,225 C157,225,157,215,167,215 L175,215 L175,235 L167,235 C157,235,157,225,157,225 L157,225\" stroke-width=\"1\" stroke=\"black\" stroke-linejoin=\"miter\" fill=\"white\" />\n",
       "<text x=\"163\" y=\"241\" font-size=\"6\" text-anchor=\"middle\" font-style=\"italic\">[herald0]</text>\n",
       "<text x=\"167\" y=\"228\" font-size=\"7\" text-anchor=\"middle\">0</text>\n",
       "<path d=\"M157,275 C157,275,157,265,167,265 L175,265 L175,285 L167,285 C157,285,157,275,157,275 L157,275\" stroke-width=\"1\" stroke=\"black\" stroke-linejoin=\"miter\" fill=\"white\" />\n",
       "<text x=\"163\" y=\"291\" font-size=\"6\" text-anchor=\"middle\" font-style=\"italic\">[herald1]</text>\n",
       "<text x=\"167\" y=\"278\" font-size=\"7\" text-anchor=\"middle\">1</text>\n",
       "<path d=\"M157,325 C157,325,157,315,167,315 L175,315 L175,335 L167,335 C157,335,157,325,157,325 L157,325\" stroke-width=\"1\" stroke=\"black\" stroke-linejoin=\"miter\" fill=\"white\" />\n",
       "<text x=\"163\" y=\"341\" font-size=\"6\" text-anchor=\"middle\" font-style=\"italic\">[herald2]</text>\n",
       "<text x=\"167\" y=\"328\" font-size=\"7\" text-anchor=\"middle\">0</text>\n",
       "<path d=\"M157,375 C157,375,157,365,167,365 L175,365 L175,385 L167,385 C157,385,157,375,157,375 L157,375\" stroke-width=\"1\" stroke=\"black\" stroke-linejoin=\"miter\" fill=\"white\" />\n",
       "<text x=\"163\" y=\"391\" font-size=\"6\" text-anchor=\"middle\" font-style=\"italic\">[herald3]</text>\n",
       "<text x=\"167\" y=\"378\" font-size=\"7\" text-anchor=\"middle\">1</text>\n",
       "<path d=\"M357,225 C357,225,357,215,367,215 L375,215 L375,235 L367,235 C357,235,357,225,357,225 L357,225\" stroke-width=\"1\" stroke=\"black\" stroke-linejoin=\"miter\" fill=\"white\" />\n",
       "<text x=\"363\" y=\"241\" font-size=\"6\" text-anchor=\"middle\" font-style=\"italic\">[herald4]</text>\n",
       "<text x=\"367\" y=\"228\" font-size=\"7\" text-anchor=\"middle\">0</text>\n",
       "<path d=\"M357,275 C357,275,357,265,367,265 L375,265 L375,285 L367,285 C357,285,357,275,357,275 L357,275\" stroke-width=\"1\" stroke=\"black\" stroke-linejoin=\"miter\" fill=\"white\" />\n",
       "<text x=\"363\" y=\"291\" font-size=\"6\" text-anchor=\"middle\" font-style=\"italic\">[herald5]</text>\n",
       "<text x=\"367\" y=\"278\" font-size=\"7\" text-anchor=\"middle\">1</text>\n",
       "<path d=\"M357,325 C357,325,357,315,367,315 L375,315 L375,335 L367,335 C357,335,357,325,357,325 L357,325\" stroke-width=\"1\" stroke=\"black\" stroke-linejoin=\"miter\" fill=\"white\" />\n",
       "<text x=\"363\" y=\"341\" font-size=\"6\" text-anchor=\"middle\" font-style=\"italic\">[herald6]</text>\n",
       "<text x=\"367\" y=\"328\" font-size=\"7\" text-anchor=\"middle\">0</text>\n",
       "<path d=\"M357,375 C357,375,357,365,367,365 L375,365 L375,385 L367,385 C357,385,357,375,357,375 L357,375\" stroke-width=\"1\" stroke=\"black\" stroke-linejoin=\"miter\" fill=\"white\" />\n",
       "<text x=\"363\" y=\"391\" font-size=\"6\" text-anchor=\"middle\" font-style=\"italic\">[herald7]</text>\n",
       "<text x=\"367\" y=\"378\" font-size=\"7\" text-anchor=\"middle\">1</text>\n",
       "<path d=\"M540,15 L552,15 L552,85 L540,85 Z\" stroke=\"black\" fill=\"white\" stroke-linejoin=\"miter\" />\n",
       "<text x=\"546\" y=\"27\" font-size=\"7\" text-anchor=\"middle\">0</text>\n",
       "<text x=\"546\" y=\"77\" font-size=\"7\" text-anchor=\"middle\">1</text>\n",
       "<text x=\"552\" y=\"91\" font-size=\"6\" text-anchor=\"end\" font-style=\"italic\">[ctrl]</text>\n",
       "<path d=\"M540,115 L552,115 L552,185 L540,185 Z\" stroke=\"black\" fill=\"white\" stroke-linejoin=\"miter\" />\n",
       "<text x=\"546\" y=\"127\" font-size=\"7\" text-anchor=\"middle\">2</text>\n",
       "<text x=\"546\" y=\"177\" font-size=\"7\" text-anchor=\"middle\">3</text>\n",
       "<text x=\"552\" y=\"191\" font-size=\"6\" text-anchor=\"end\" font-style=\"italic\">[data]</text>\n",
       "<path d=\"M233,235 L225,235 L225,215 L233,215 C233,215,243,215,243,225 C243,235,233,235,233,235 L233,235\" stroke-width=\"1\" stroke=\"black\" stroke-linejoin=\"miter\" fill=\"white\" />\n",
       "<text x=\"238\" y=\"241\" font-size=\"6\" text-anchor=\"middle\" font-style=\"italic\">[herald0]</text>\n",
       "<text x=\"233\" y=\"228\" font-size=\"7\" text-anchor=\"middle\">0</text>\n",
       "<path d=\"M233,285 L225,285 L225,265 L233,265 C233,265,243,265,243,275 C243,285,233,285,233,285 L233,285\" stroke-width=\"1\" stroke=\"black\" stroke-linejoin=\"miter\" fill=\"white\" />\n",
       "<text x=\"238\" y=\"291\" font-size=\"6\" text-anchor=\"middle\" font-style=\"italic\">[herald1]</text>\n",
       "<text x=\"233\" y=\"278\" font-size=\"7\" text-anchor=\"middle\">1</text>\n",
       "<path d=\"M233,335 L225,335 L225,315 L233,315 C233,315,243,315,243,325 C243,335,233,335,233,335 L233,335\" stroke-width=\"1\" stroke=\"black\" stroke-linejoin=\"miter\" fill=\"white\" />\n",
       "<text x=\"238\" y=\"341\" font-size=\"6\" text-anchor=\"middle\" font-style=\"italic\">[herald2]</text>\n",
       "<text x=\"233\" y=\"328\" font-size=\"7\" text-anchor=\"middle\">0</text>\n",
       "<path d=\"M233,385 L225,385 L225,365 L233,365 C233,365,243,365,243,375 C243,385,233,385,233,385 L233,385\" stroke-width=\"1\" stroke=\"black\" stroke-linejoin=\"miter\" fill=\"white\" />\n",
       "<text x=\"238\" y=\"391\" font-size=\"6\" text-anchor=\"middle\" font-style=\"italic\">[herald3]</text>\n",
       "<text x=\"233\" y=\"378\" font-size=\"7\" text-anchor=\"middle\">1</text>\n",
       "<path d=\"M433,235 L425,235 L425,215 L433,215 C433,215,443,215,443,225 C443,235,433,235,433,235 L433,235\" stroke-width=\"1\" stroke=\"black\" stroke-linejoin=\"miter\" fill=\"white\" />\n",
       "<text x=\"438\" y=\"241\" font-size=\"6\" text-anchor=\"middle\" font-style=\"italic\">[herald4]</text>\n",
       "<text x=\"433\" y=\"228\" font-size=\"7\" text-anchor=\"middle\">0</text>\n",
       "<path d=\"M433,285 L425,285 L425,265 L433,265 C433,265,443,265,443,275 C443,285,433,285,433,285 L433,285\" stroke-width=\"1\" stroke=\"black\" stroke-linejoin=\"miter\" fill=\"white\" />\n",
       "<text x=\"438\" y=\"291\" font-size=\"6\" text-anchor=\"middle\" font-style=\"italic\">[herald5]</text>\n",
       "<text x=\"433\" y=\"278\" font-size=\"7\" text-anchor=\"middle\">1</text>\n",
       "<path d=\"M433,335 L425,335 L425,315 L433,315 C433,315,443,315,443,325 C443,335,433,335,433,335 L433,335\" stroke-width=\"1\" stroke=\"black\" stroke-linejoin=\"miter\" fill=\"white\" />\n",
       "<text x=\"438\" y=\"341\" font-size=\"6\" text-anchor=\"middle\" font-style=\"italic\">[herald6]</text>\n",
       "<text x=\"433\" y=\"328\" font-size=\"7\" text-anchor=\"middle\">0</text>\n",
       "<path d=\"M433,385 L425,385 L425,365 L433,365 C433,365,443,365,443,375 C443,385,433,385,433,385 L433,385\" stroke-width=\"1\" stroke=\"black\" stroke-linejoin=\"miter\" fill=\"white\" />\n",
       "<text x=\"438\" y=\"391\" font-size=\"6\" text-anchor=\"middle\" font-style=\"italic\">[herald7]</text>\n",
       "<text x=\"433\" y=\"378\" font-size=\"7\" text-anchor=\"middle\">1</text>\n",
       "</svg>"
      ],
      "text/plain": [
       "<drawsvg.drawing.Drawing at 0x7c09d38b4510>"
      ]
     },
     "execution_count": 9,
     "metadata": {},
     "output_type": "execute_result"
    }
   ],
   "source": [
    "step_two = Circuit(2, \"S2\") // RX(-pi/2)\n",
    "p_step_two = Processor(\"SLOS\", 4)\n",
    "p_step_two.add(q(0), H)\n",
    "p_step_two.add(q(1), HP)\n",
    "p_step_two.add(q(1), RY(theta))\n",
    "p_step_two.add(q(0) + q(1), CNOT)\n",
    "p_step_two.add(q(1), RY(-theta))\n",
    "p_step_two.add(q(0), H)\n",
    "p_step_two.add(q(1) + q(0), CNOT)\n",
    "p_step_two.add(q(1), step_two)\n",
    "pdisplay(p_step_two)"
   ]
  },
  {
   "cell_type": "code",
   "execution_count": 10,
   "id": "16a42a56-ce64-423c-8618-6daa122c7f7c",
   "metadata": {},
   "outputs": [
    {
     "name": "stdout",
     "output_type": "stream",
     "text": [
      "On attend : {|1,0,0,1>: 0.93, |0,1,0,1>: 0.07})\n"
     ]
    },
    {
     "data": {
      "text/plain": [
       "BSDistribution(float,\n",
       "               {|1,0,0,1>: 0.9330127018922195, |0,1,0,1>: 0.06698729810778041})"
      ]
     },
     "execution_count": 10,
     "metadata": {},
     "output_type": "execute_result"
    }
   ],
   "source": [
    "print(\"On attend : {|1,0,0,1>: 0.93, |0,1,0,1>: 0.07})\")\n",
    "measure2p(p_step_two, input_state=qubits[\"00\"])"
   ]
  },
  {
   "cell_type": "markdown",
   "id": "cde335c2-fc69-4cdb-8803-f9aee4cc0887",
   "metadata": {},
   "source": [
    "<h2 style=\"color:green\">Solution générale pour l'étape 1 et 2</h2>\n",
    "Pour résoudre à coup sûr les deux étapes sans avoir à se poser de question, il est tout à fait possible de passer par les équations. Il <i>suffit</i> de recréer le circuit sous forme d'une matrice unitaire (pour rappel, tout circuit quantique peut s'écrire sous la forme d'une matrice unitaire qui est la multiplication des matrices des différents éléments). Puis de multiplier cette matrice par le qubit d'entré pour obtenir la sortie. On a alors plusieurs équations, qui suffisent à trouver une solution. "
   ]
  },
  {
   "cell_type": "markdown",
   "id": "872d246b-84b6-44fa-9593-1dab163326f1",
   "metadata": {},
   "source": [
    "Je vous propose une implémentation avec [Sage](https://www.sagemath.org/) pour la première étape : \n",
    "\n",
    "```python\n",
    "a, b, c, d = var('a b c d')\n",
    "A = matrix([[a, b], [c, d]])\n",
    "H = sqrt(2) / 2 * matrix([[1, 1], [1, -1]])\n",
    "Id = identity_matrix(2)\n",
    "CNOT = matrix([[1, 0, 0, 0], [0, 1, 0, 0], [0, 0, 0, 1], [0, 0, 1, 0]])\n",
    "NOT = matrix([[0, 1], [1, 0]])\n",
    "def PS(place, theta):\n",
    "    if place == 0:\n",
    "        return matrix([[e^(theta * I), 0], [0, 1]])\n",
    "    else:\n",
    "        return matrix([[1, 0], [0, e^(theta * I)]])\n",
    "def Ry(theta):\n",
    "    return matrix([[cos(theta/2), -sin(theta/2)], [sin(theta/2), cos(theta/2)]])\n",
    "def Rx(theta):\n",
    "    return matrix([[cos(theta/2), sin(theta/2)*I], [sin(theta/2)*I, cos(theta/2)]])\n",
    "def is_unitary(matrix):\n",
    "    conj_transpose = matrix.conjugate_transpose()\n",
    "    return matrix * conj_transpose == identity_matrix(matrix.nrows())\n",
    "\n",
    "gamma = pi/5\n",
    "theta = pi/3\n",
    "\n",
    "qubits = {\n",
    "    \"0\": matrix([[1], [0]]),\n",
    "    \"1\": matrix([[0], [1]]),\n",
    "    \"00\": matrix([[1], [0], [0], [0]]),\n",
    "    \"10\": matrix([[0], [1], [0], [0]]),\n",
    "    \"01\": matrix([[0], [0], [1], [0]]),\n",
    "    \"11\": matrix([[0], [0], [0], [1]])\n",
    "}\n",
    "\n",
    "solution_ = Rx(gamma) * NOT\n",
    "\n",
    "C1 = H.tensor_product(Rx(-gamma) * A)\n",
    "C2 = CNOT * Id.tensor_product(PS(0, theta)) * CNOT\n",
    "C3 = (Rx(theta) * H).tensor_product(Id)\n",
    "C = (C3 * C2 * C1 * qubits[\"00\"]).simplify_full()\n",
    "eq1 = C[0][0] == 0\n",
    "eq2 = C[2][0] == 0\n",
    "eq3 = C[1][0].norm() == 1\n",
    "solutions = solve([eq1, eq2, eq3], [a, c])\n",
    "show(solutions)\n",
    "```"
   ]
  },
  {
   "cell_type": "markdown",
   "id": "5fe2a1a7938e2c4f",
   "metadata": {
    "collapsed": false,
    "jupyter": {
     "outputs_hidden": false
    }
   },
   "source": [
    "## Récupération du drapeau"
   ]
  },
  {
   "cell_type": "code",
   "execution_count": null,
   "id": "5f1cc6424b1cd27",
   "metadata": {
    "ExecuteTime": {
     "end_time": "2024-05-05T18:35:20.003428Z",
     "start_time": "2024-05-05T18:35:19.991667Z"
    },
    "collapsed": false,
    "jupyter": {
     "outputs_hidden": false
    }
   },
   "outputs": [],
   "source": [
    "import requests as rq\n",
    "\n",
    "def circuit_to_list(circuit: Circuit) -> List[List[Tuple[float, float]]]:\n",
    "    return [[(x.real, x.imag) for x in l] for l in np.array(circuit.compute_unitary())]\n",
    "\n",
    "\n",
    "d = {\n",
    "    \"step_one\": circuit_to_list(step_one),\n",
    "    \"step_two\": circuit_to_list(step_two),\n",
    "}\n",
    "\n",
    "# URL = \"https://perceval.challenges.404ctf.fr\"\n",
    "URL = \"http://localhost:8000\"\n",
    "rq.get(URL + \"/healthcheck\").json()"
   ]
  },
  {
   "cell_type": "code",
   "execution_count": null,
   "id": "6a9d72faa28c8f0d",
   "metadata": {
    "ExecuteTime": {
     "end_time": "2024-05-05T18:37:56.107383Z",
     "start_time": "2024-05-05T18:37:55.590229Z"
    },
    "collapsed": false,
    "jupyter": {
     "outputs_hidden": false
    }
   },
   "outputs": [],
   "source": [
    "rq.post(URL + \"/challenges/4\", json=d).json()"
   ]
  }
 ],
 "metadata": {
  "kernelspec": {
   "display_name": "Python (Perceval)",
   "language": "python",
   "name": "perceval"
  },
  "language_info": {
   "codemirror_mode": {
    "name": "ipython",
    "version": 3
   },
   "file_extension": ".py",
   "mimetype": "text/x-python",
   "name": "python",
   "nbconvert_exporter": "python",
   "pygments_lexer": "ipython3",
   "version": "3.11.9"
  }
 },
 "nbformat": 4,
 "nbformat_minor": 5
}
