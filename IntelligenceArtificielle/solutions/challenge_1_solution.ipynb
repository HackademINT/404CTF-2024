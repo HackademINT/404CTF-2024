{
 "cells": [
  {
   "cell_type": "code",
   "execution_count": 7,
   "id": "initial_id",
   "metadata": {
    "collapsed": true,
    "ExecuteTime": {
     "end_time": "2024-05-20T08:20:08.364493Z",
     "start_time": "2024-05-20T08:20:08.361170Z"
    }
   },
   "outputs": [],
   "source": [
    "import numpy as np\n",
    "import requests as rq\n",
    "\n",
    "from fl.model import NN\n",
    "from fl.preprocessing import load_mnist, data_to_client\n",
    "from fl.federated_learning import train_and_test\n",
    "\n",
    "\n",
    "URL = \"http://localhost:8000/\"\n",
    "# URL = \"https://du-poison.challenges.404ctf.fr/\" "
   ]
  },
  {
   "metadata": {},
   "cell_type": "markdown",
   "source": [
    "# Solution du challenge 1 : Du poison [1/2]\n",
    "\n",
    "On commence par récupérer le modèle commun : "
   ],
   "id": "555915d61c0a9e99"
  },
  {
   "cell_type": "code",
   "outputs": [],
   "source": [
    "dataset = load_mnist()\n",
    "model = NN()\n",
    "model.load_weights(\"../weights/base_fl.weights.h5\")\n",
    "weights = model.get_weights()"
   ],
   "metadata": {
    "collapsed": false,
    "ExecuteTime": {
     "end_time": "2024-05-20T08:20:10.205152Z",
     "start_time": "2024-05-20T08:20:09.185742Z"
    }
   },
   "id": "f9d12e0e562f86ca",
   "execution_count": 8
  },
  {
   "metadata": {},
   "cell_type": "markdown",
   "source": "Notre but est d'empoisonner le modèle commun, pour cela, on n'a pas besoin d'entraîner le modèle, on l'utilise uniquement pour récupérer les tailles des matrices des poids. Dans le cadre de l'apprentissage fédéré, on peut faire ce que l'on veut de notre côté du moment que l'on renvoie des poids de la bonne taille. On peut donc par exemple renvoyer des poids aléatoires : ",
   "id": "976b6dac4faa90cd"
  },
  {
   "cell_type": "code",
   "outputs": [],
   "source": [
    "d = {\n",
    "    \"w1\": np.random.random(weights[0].shape).tolist(),\n",
    "    \"b1\": np.random.random(weights[1].shape).tolist(),\n",
    "    \"w2\": np.random.random(weights[2].shape).tolist(),\n",
    "    \"b2\": np.random.random(weights[3].shape).tolist(),\n",
    "    \"w3\": np.random.random(weights[4].shape).tolist(),\n",
    "    \"b3\": np.random.random(weights[5].shape).tolist(),\n",
    "    \"w4\": np.random.random(weights[6].shape).tolist(),\n",
    "    \"b4\": np.random.random(weights[7].shape).tolist()\n",
    "}"
   ],
   "metadata": {
    "collapsed": false,
    "ExecuteTime": {
     "end_time": "2024-05-20T08:20:15.148117Z",
     "start_time": "2024-05-20T08:20:14.949949Z"
    }
   },
   "id": "eccecf8fda6e0cf6",
   "execution_count": 10
  },
  {
   "cell_type": "code",
   "outputs": [
    {
     "data": {
      "text/plain": "{'message': 'Statut : en pleine forme !'}"
     },
     "execution_count": 11,
     "metadata": {},
     "output_type": "execute_result"
    }
   ],
   "source": [
    "rq.get(URL + \"healthcheck\").json()"
   ],
   "metadata": {
    "collapsed": false,
    "ExecuteTime": {
     "end_time": "2024-05-20T08:20:15.158979Z",
     "start_time": "2024-05-20T08:20:15.149453Z"
    }
   },
   "id": "c7a96a0d856c1947",
   "execution_count": 11
  },
  {
   "cell_type": "code",
   "outputs": [
    {
     "data": {
      "text/plain": "{'message': 'Bravo ! Voici le drapeau : 404CTF{0h___dU_P01sON} (score : 0.1095)'}"
     },
     "execution_count": 12,
     "metadata": {},
     "output_type": "execute_result"
    }
   ],
   "source": [
    "rq.post(URL + \"challenges/1\", json=d).json()"
   ],
   "metadata": {
    "collapsed": false,
    "ExecuteTime": {
     "end_time": "2024-05-20T08:20:17.925377Z",
     "start_time": "2024-05-20T08:20:15.161203Z"
    }
   },
   "id": "685535e8d48977e3",
   "execution_count": 12
  }
 ],
 "metadata": {
  "kernelspec": {
   "name": "inria",
   "language": "python",
   "display_name": "Python (INRIA)"
  },
  "language_info": {
   "codemirror_mode": {
    "name": "ipython",
    "version": 2
   },
   "file_extension": ".py",
   "mimetype": "text/x-python",
   "name": "python",
   "nbconvert_exporter": "python",
   "pygments_lexer": "ipython2",
   "version": "2.7.6"
  }
 },
 "nbformat": 4,
 "nbformat_minor": 5
}
