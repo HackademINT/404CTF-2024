{
 "cells": [
  {
   "cell_type": "code",
   "execution_count": null,
   "id": "initial_id",
   "metadata": {},
   "outputs": [],
   "source": [
    "import numpy as np\n",
    "import perceval as pcvl"
   ]
  },
  {
   "cell_type": "markdown",
   "id": "1c4265d7-595a-482a-bde5-f513ba688dce",
   "metadata": {},
   "source": [
    "## Avant de commencer\n",
    "Voici quelques utilitaires : "
   ]
  },
  {
   "cell_type": "code",
   "execution_count": null,
   "id": "fcd0864c-b449-4f8d-b81e-6749d8241f1d",
   "metadata": {},
   "outputs": [],
   "source": [
    "from perceval import pdisplay, PS, BS, Circuit, BasicState, Processor, StateVector\n",
    "from perceval.backends import BackendFactory\n",
    "from perceval.algorithm import Analyzer\n",
    "from exqalibur import FockState\n",
    "from qiskit.visualization import plot_bloch_multivector\n",
    "from qiskit.quantum_info import Statevector\n",
    "import matplotlib.pyplot as plt\n",
    "from numpy import pi, cos, sin\n",
    "from typing import Optional\n",
    "\n",
    "\n",
    "# On reprend notre encodage par rail\n",
    "qubits = {\n",
    "    \"0\": BasicState([1, 0]),\n",
    "    \"1\": BasicState([0, 1])\n",
    "}\n",
    "qubits_ = {qubits[k]: k for k in qubits}\n",
    "sqlist = [qubits[\"0\"], qubits[\"1\"]]\n",
    "\n",
    "# Analyse du circuit\n",
    "def analyze(circuit: Circuit, input_states: Optional[FockState] = None, output_states: Optional[FockState] = None) \\\n",
    "        -> None:\n",
    "    if input_states is None:\n",
    "        input_states = sqlist\n",
    "    if output_states is None:\n",
    "        output_states = sqlist\n",
    "    p = Processor(\"Naive\", circuit)\n",
    "    a = Analyzer(p, input_states, output_states, mapping=qubits_)\n",
    "    pdisplay(a)\n",
    "\n",
    "# Analyse du circuit en calculant les amplitudes\n",
    "def amplitudes(circuit: Circuit, input_state: Optional[FockState] = None, output_states: Optional[FockState] = None) \\\n",
    "        -> (complex, complex):\n",
    "    if input_state is None:\n",
    "        input_state = qubits[\"0\"]\n",
    "    if output_states is None:\n",
    "        output_states = sqlist\n",
    "    b = BackendFactory.get_backend(\"Naive\")\n",
    "    b.set_circuit(circuit)\n",
    "    b.set_input_state(input_state)\n",
    "    return {qubits_[k]: roundc(b.prob_amplitude(k)) for k in output_states}\n",
    "\n",
    "# Affichage de la sphère de Bloch\n",
    "def circuit_to_state_vector(circuit: Circuit) -> Statevector:\n",
    "    ampl0, ampl1 = amplitudes(circuit)\n",
    "    return Statevector([ampl0, ampl1])\n",
    "plot_bloch = lambda circuit : plot_bloch_multivector(circuit_to_state_vector(circuit))\n",
    "\n",
    "# Rotations\n",
    "x_rot = lambda x: Circuit(2) // (0, PS(pi)) // BS.Rx(theta=x) // (0, PS(pi)) \n",
    "y_rot = lambda x: BS.Ry(theta=x)\n",
    "z_rot = lambda x: BS.H() // x_rot(x) // BS.H() \n",
    "\n",
    "# Trigonométrie avec Matplotlib \n",
    "def plot_trig(angles, colors=None, annotations=None):\n",
    "    r = 1.5\n",
    "    if colors is None:\n",
    "        colors = [\"blue\"] * len(angles)\n",
    "    if annotations is None:\n",
    "        annotations = [\"\"] * len(angles)\n",
    "    for angle, color, annotation in zip(angles, colors, annotations):\n",
    "        pos_x = r * cos(angle)\n",
    "        pos_y = r * sin(angle)\n",
    "        plt.plot([0, pos_x], [0, pos_y], color=color)\n",
    "        pos_x_a = pos_x + np.sign(pos_x) * 0.1 - (0.05 * len(annotation) if np.sign(pos_x) < 0 else 0)\n",
    "        pos_y_a = pos_y + np.sign(pos_y) * 0.1\n",
    "        plt.gca().annotate(annotation, xy=(pos_x_a, pos_y_a), xycoords='data', fontsize=10)\n",
    "\n",
    "    plt.plot(0, 0, color='black', marker='o')\n",
    "    a = np.linspace(0 * pi, 2 * pi, 100)\n",
    "    xs, ys = r * cos(a), r * sin(a)\n",
    "    plt.plot(xs, ys, color=\"black\")\n",
    "    plt.xlim(-2, 2)\n",
    "    plt.ylim(-2, 2)\n",
    "    plt.gca().set_aspect('equal')\n",
    "    plt.show()\n",
    "\n",
    "# Version de `round()` pour les nombres complexes.\n",
    "def roundc(c: complex, decimals: int = 2) -> complex:\n",
    "    return round(c.real, decimals) + round(c.imag, decimals) * 1j"
   ]
  },
  {
   "cell_type": "markdown",
   "id": "533cbe33-3ac9-4c12-95ef-ebd3f6cf1b81",
   "metadata": {},
   "source": [
    "### Exemples"
   ]
  },
  {
   "cell_type": "code",
   "execution_count": null,
   "id": "719ee610-4df9-40ce-9293-acf55ad256f7",
   "metadata": {},
   "outputs": [],
   "source": [
    "hadamard_gate = BS.H()\n",
    "print(amplitudes(hadamard_gate))\n",
    "analyze(hadamard_gate)\n",
    "plot_bloch(hadamard_gate)"
   ]
  },
  {
   "cell_type": "markdown",
   "id": "e08eaa4f-2037-4719-9198-8078ac486f65",
   "metadata": {},
   "source": [
    "Il n'existe pas uniquement la sphère de Bloch pour représenter des qubits, on peut simplement utiliser un cercle trigonométrique. La transition est explicite : **l'abscisse correspond à $|0\\rangle$ et l'ordonnée à $|1\\rangle$**, $|+\\rangle$ se retrouve donc à $\\frac{\\pi}{4}$. Tous les états sont sur le cercle, car la somme des probabilités, qui ici est une amplitude, est toujours $1$. On perd néanmoins, avec cet affichage, l'information de la phase globale.\n",
    "\n",
    "Par exemple, voici la base canonique (en bleu) et la base d'Hadamard (en rouge) : "
   ]
  },
  {
   "cell_type": "code",
   "execution_count": null,
   "id": "5b10e24f-e65a-431e-914a-6b2524ecc8a4",
   "metadata": {},
   "outputs": [],
   "source": [
    "plot_trig([0, pi/2, pi/4, -pi/4], [\"blue\", \"blue\", \"red\", \"red\"], [\"|0>\", \"|1>\", \"|+>\", \"|->\"])"
   ]
  },
  {
   "cell_type": "markdown",
   "id": "550863ce-5fff-4bd2-bb16-741469708347",
   "metadata": {},
   "source": [
    "Pour ce challenge, comme nous n'avons pas besoin de phase, mais de visualiser plusieurs bases différentes en même temps, nous allons utiliser uniquement la représentation avec le cercle trigonométrique."
   ]
  },
  {
   "cell_type": "markdown",
   "id": "4c0737cc-07b8-4c57-b59f-d978ae8c4c22",
   "metadata": {},
   "source": [
    "# Challenge 2 : Attaque de la femme du milieu (version quantique)\n",
    "\n",
    "Vous connaissez tous l'attaque de *Man In The Middle* classique, un attaquant intercepte une communication entre deux entités qui ne se rendent pas compte que leur conversation est écoutée. Je vous propose aujourd'hui de découvrir la **version quantique !** **Alice** et **Bob** (oui, encore eux, même les physiciens sont fan), décident de s'échanger une clef secrète avec le **protocole BB84**. Étant certains de la fiabilité de leur protocole, ils laissent une tolérance au bruit. Cependant, **Eve** réussit à intercepter le canal de discussion. Va-t-elle réussir à passer inaperçu ? \n",
    "\n",
    "![table_cat_meme.jpg](https://i.imgflip.com/8nfe5l.jpg)\n",
    "\n",
    "## Protocol BB84 : Utilisation normale\n",
    "Le protocol BB84 permet de s'échanger une clef de $n$ bits avec $4n$ qubits. Il se base sur le principe que, si quelqu'un venait à écouter la conversation, cette personne serait obligée de **mesurer** les qubits, et donc d'effondrer les fonctions d'ondes associées (une mesure est une projection et donc une perte d'information). **Cet effondrement est ainsi visible**, apportant une erreur de $25\\%$ lors de l'étape de vérification. \n",
    "\n",
    "### Étape 1 : Alice prépare ses qubits à envoyer\n",
    "**1.a)** Il faut tout d'abord une clef, pour cela, une chaîne binaire aléatoire de taille $4n$ est générée. \n",
    "\n",
    "*Il est possible de générer cette chaîne avec un ordinateur quantique pour de l'aléatoire de meilleure qualité.*"
   ]
  },
  {
   "cell_type": "code",
   "execution_count": null,
   "id": "790d1fbb-389d-4b59-be10-65b5ea092da5",
   "metadata": {},
   "outputs": [],
   "source": [
    "N = 100\n",
    "bits_alice = np.random.randint(low=0, high=2, size=(4 * N,))"
   ]
  },
  {
   "cell_type": "markdown",
   "id": "f717a67b-9d7b-44f6-8a0b-f3fd6d0b1c45",
   "metadata": {},
   "source": [
    "**1.b)** Alice va ensuite choisir $4n$ bases aléatoires dans $\\{+, \\times\\}$, dans lesquelles elle va encoder ses qubits. *(Veuillez m'excuser pour la confusion entre la base $+$ et l'état $|+\\rangle$ qui n'ont rien à voir. La notation + est en fait une croix droite qui correspond aux états en bleu ci-dessous et la croix tournée x aux états en rouge)*.\n",
    "\n",
    "La base $+$ est la base canonique : \n",
    "$$\n",
    "+ = \\left\\{ \\begin{pmatrix} 1 \\\\ 0 \\end{pmatrix}, \\begin{pmatrix} 0 \\\\ 1 \\end{pmatrix}\\right\\}\n",
    "$$\n",
    "\n",
    "Tandis que la base $\\times$ est définie par : \n",
    "$$\n",
    "\\times = \\left\\{\\frac{1}{\\sqrt{2}}\\begin{pmatrix} 1 \\\\ 1 \\end{pmatrix}, \\frac{1}{\\sqrt{2}}\\begin{pmatrix} -1 \\\\ 1 \\end{pmatrix}\\right\\}\n",
    "$$\n",
    "\n",
    "On peut les visualiser : "
   ]
  },
  {
   "cell_type": "code",
   "execution_count": null,
   "id": "cc8ff088-9aac-4987-b0dd-9afcf4563d55",
   "metadata": {},
   "outputs": [],
   "source": [
    "plot_trig([0, pi/2, pi/4, 3*pi/4], [\"blue\", \"blue\", \"red\", \"red\"], [\"0 (+)\", \"1 (+)\", \"0 (x)\", \"1 (x)\"])"
   ]
  },
  {
   "cell_type": "markdown",
   "id": "6d6b0e15-bddb-4698-a253-78ff8029dbcc",
   "metadata": {},
   "source": [
    "L'encodage est entièrement représenté sur ce schéma : $1$ dans la base $\\times$ sera codé :\n",
    "$$\n",
    "-\\frac{\\sqrt{2}}{2} \\begin{pmatrix} 1 \\\\ 0 \\end{pmatrix} + \\frac{\\sqrt{2}}{2} \\begin{pmatrix} 0 \\\\ 1 \\end{pmatrix} =  -\\frac{1}{\\sqrt{2}} |0\\rangle + \\frac{1}{\\sqrt{2}} |1\\rangle\n",
    "$$\n",
    "\n",
    "*Pour rappel, avec l'encodage par rail que l'on a vu précédemment, cela donne :* \n",
    "$$\n",
    "-\\frac{1}{\\sqrt{2}} |1, 0\\rangle\\rangle + \\frac{1}{\\sqrt{2}} |0, 1\\rangle\\rangle\n",
    "$$\n",
    "*On utilise cette notation pour les états de Fock (les rails), pour éviter de confondre avec l'état multiple $|10\\rangle$ que l'on découvrira par la suite.*\n",
    " \n",
    "*Peu importe le nom que l'on donne à nos vecteurs de notre base, ici canonique, cela ne change évidemment rien aux calculs. Je ne l'ai pas précisé, mais (presque) tout ce qui est fait dans le cadre de cette compétition est reproduisable sur des ordinateurs quantiques possédants des technologies différentes. Il suffit d'adapter l'encodage du qubit, les calculs sont les mêmes.*"
   ]
  },
  {
   "cell_type": "code",
   "execution_count": null,
   "id": "a7777d13-edb4-4356-ac2f-366b80687f8b",
   "metadata": {},
   "outputs": [],
   "source": [
    "bases_alice = np.array([\"+\" if b == 0 else \"x\" for b in np.random.randint(low=0, high=2, size=(4 * N,))])"
   ]
  },
  {
   "cell_type": "markdown",
   "id": "1a07f6e9-8135-4318-91b5-4ec0ee44786d",
   "metadata": {},
   "source": [
    "**1.c)** Alice peut maintenant encoder ses $4n$ qubits dans ses $4n$ bases. *J'utilise des `StateVector`, qui est une généralisation des `BasicState` qu'on a rencontré. Cela me permet d'effectuer des opérations sur les états plus facilement, sans me soucier de la normalisation qui est effectuée automatiquement.* \n",
    "\n",
    "***>> Attention aux `StateVector` qui peuvent être méchants, `3 * a + b` marche, alors que `a + 3 * b` non !***\n",
    "*Attention aussi à la confusion entre le `Statevector` de Qiskit et le `StateVector` de Perceval, on utilise les deux ...*"
   ]
  },
  {
   "cell_type": "code",
   "execution_count": null,
   "id": "a0983c22-6573-43c4-b681-4baeeb301c23",
   "metadata": {},
   "outputs": [],
   "source": [
    "qubits_alice = []\n",
    "\n",
    "# Pour pouvoir tester plus facilement, je définis les valeurs de 0 et de 1 dans la base X, attention, ce \n",
    "# ne sont plus des BasicState, mais des StateVector, il faut donc utiliser la fonction measure (voir\n",
    "# ci-dessous) pour les manipuler\n",
    "qubits[\"0x\"] = qubits[\"0\"] + qubits[\"1\"] \n",
    "qubits[\"1x\"] = qubits[\"1\"] - qubits[\"0\"] \n",
    "print(type(qubits[\"0\"]), type(qubits[\"0x\"]))\n",
    "\n",
    "for bit, basis  in zip(bits_alice, bases_alice):\n",
    "    if basis == \"+\":\n",
    "        s = pcvl.StateVector(qubits[\"0\"]) if bit == 0 else pcvl.StateVector(qubits[\"1\"])\n",
    "    else: \n",
    "        s = qubits[\"0x\"] if bit == 0 else qubits[\"1x\"]\n",
    "    qubits_alice.append(s)\n",
    "\n",
    "    # On affiche les 9 premiers pour vérifier :\n",
    "    if len(qubits_alice) < 10: \n",
    "        print(f\"Bit à encoder : {bit}, base choisie : {basis}, qubit correspondant : {s}\")"
   ]
  },
  {
   "cell_type": "markdown",
   "id": "2eeb1b22-f20e-4b4b-a91f-3092e3ef56f0",
   "metadata": {
    "ExecuteTime": {
     "end_time": "2024-04-01T20:19:42.879285Z",
     "start_time": "2024-04-01T20:19:42.877588Z"
    }
   },
   "source": [
    "Maintenant qu'Alice a préparé ses qubits, elle peut les envoyer à Bob. *Par exemple à l'aide d'un photon.*\n",
    "\n",
    "### Étape 2 : récupération par Bob et décodage\n",
    "\n",
    "Bob **ne connait pas les bases dans lesquelles ont été encodés les qubits**, il va donc choisir aléatoirement $4n$ bases comme Alice, et va mesurer les qubits d'Alice. Seuls la moitié des bits seront ainsi juste, étant donné qu'il a une chance sur deux à chaque fois de tomber sur la même base qu'Alice.\n",
    "\n",
    "Une fois qu'il a mesuré les photons, ceux-ci se sont effondrés, personne ne peut plus les avoir. C'est une notion importante à comprendre. Dans le monde classique, on peut envoyer un message tout en gardant une version de son contenu de notre côté, ce n'est pas comme si à chaque message que l'on envoyait, il s'effaçait de notre téléphone, et de notre mémoire. Dans le monde quantique cependant, c'est le cas ! Il y a même un théorème dédié : le **théorème de non-clonage.** On ne peut pas prendre un état quantique arbitraire inconnu et avoir un appareil qui nous renvoie deux copies de cet état. C'est évidemment très pratique dans le monde de la cyber. On peut effectuer des actions après mesure avec des garanties. Le RGPD quantique déjà au taquet !\n",
    "\n",
    "**2.a)** Bob choisit aléatoirement $4n$ bases : "
   ]
  },
  {
   "cell_type": "code",
   "execution_count": null,
   "id": "d267b387-433d-4856-99a9-a3ec2400a1b7",
   "metadata": {},
   "outputs": [],
   "source": [
    "bases_bob = np.array([\"+\" if b == 0 else \"x\" for b in np.random.randint(low=0, high=2, size=(4*N,))])"
   ]
  },
  {
   "cell_type": "markdown",
   "id": "df78904c-7cd8-4cd7-a81e-fe01573a7088",
   "metadata": {},
   "source": [
    "Pour simuler une mesure, on va utiliser le processeur \"SLOS\" : "
   ]
  },
  {
   "cell_type": "code",
   "execution_count": null,
   "id": "888492bd-b203-474e-b4bc-d88bd5b6577c",
   "metadata": {},
   "outputs": [],
   "source": [
    "def measure(input_state, circuit, full=False):\n",
    "    p = pcvl.Processor(\"SLOS\", circuit)\n",
    "    p.with_input(input_state)\n",
    "    sampler = pcvl.algorithm.Sampler(p)\n",
    "\n",
    "    # Mesure (complète) faite avec 1000 essais, on se retrouve donc avec un résultat semblable \n",
    "    # à l'Analyser\n",
    "    if full:\n",
    "        sample_count = sampler.sample_count(1000)\n",
    "        return sample_count['results']\n",
    "        \n",
    "    sample_count = sampler.sample_count(1)\n",
    "    return list(sample_count['results'].keys())[0]"
   ]
  },
  {
   "cell_type": "markdown",
   "id": "91935362-8779-4fd5-90d8-1ce4c1d3cd7f",
   "metadata": {},
   "source": [
    "**2.b)** Bob prépare les circuits nécessaires à ces mesures.\n",
    "\n",
    "Pour mesurer dans la base $+$, il suffit de prendre l'identité vu que c'est notre base canonique : "
   ]
  },
  {
   "cell_type": "code",
   "execution_count": null,
   "id": "5aef301b-f117-4f16-b9e9-73a5083dddce",
   "metadata": {},
   "outputs": [],
   "source": [
    "base_p = Circuit(2)"
   ]
  },
  {
   "cell_type": "markdown",
   "id": "cb5625de-9a2f-4e5a-ab4c-be543ccde5b3",
   "metadata": {},
   "source": [
    "On peut vérifier :"
   ]
  },
  {
   "cell_type": "code",
   "execution_count": null,
   "id": "fe655c22-ac48-41ee-a450-65e9b918db25",
   "metadata": {},
   "outputs": [],
   "source": [
    "print(f\"\"\"\n",
    "0 dans la base + : {measure(qubits[\"0\"], base_p, full=True)}\n",
    "1 dans la base + : {measure(qubits[\"1\"], base_p, full=True)}\n",
    "0 dans la base x ({qubits[\"0x\"]}) mesurée dans la base + : {measure(qubits[\"0x\"], base_p, full=True)}\n",
    "1 dans la base x ({qubits[\"1x\"]}) mesurée dans la base + : {measure(qubits[\"1x\"], base_p, full=True)}\n",
    "\"\"\")"
   ]
  },
  {
   "cell_type": "markdown",
   "id": "59903df3-ea9f-4238-8cf5-f42c46a43dee",
   "metadata": {},
   "source": [
    "Comme prévu, aucun moyen de déterminer le bit d'Alice si Bob se trompe de base. On fait de même pour la base $\\times$. Cette fois, on utilise une rotation de $-\\frac{\\pi}{4}$ (passage de la base $\\times$ à notre base canonique). J'utilise pour cela une rotation $y$ avec un angle de $-\\frac{\\pi}{2}$, cela est dû aux différences de conventions entre la sphère de Bloch et notre cercle trigonométrique. "
   ]
  },
  {
   "cell_type": "code",
   "execution_count": null,
   "id": "34df1fad-ae2b-4c86-a346-043df65864be",
   "metadata": {},
   "outputs": [],
   "source": [
    "base_x = y_rot(-pi/2)\n",
    "\n",
    "print(f\"\"\"\n",
    "0 dans la base x : {measure(qubits[\"0x\"], base_x, full=True)}\n",
    "1 dans la base x : {measure(qubits[\"1x\"], base_x, full=True)}\n",
    "0 dans la base + ({qubits[\"0\"]}) mesurée dans la base x : {measure(qubits[\"0\"], base_x, full=True)}\n",
    "1 dans la base + ({qubits[\"1\"]}) mesurée dans la base x : {measure(qubits[\"1\"], base_x, full=True)}\n",
    "\"\"\")"
   ]
  },
  {
   "cell_type": "markdown",
   "id": "74d13b405a232671",
   "metadata": {
    "collapsed": false
   },
   "source": [
    "**2.c)** Bob mesure les qubits envoyés par Alice dans ses bases. "
   ]
  },
  {
   "cell_type": "code",
   "execution_count": null,
   "id": "e2d788e3c72857b1",
   "metadata": {
    "collapsed": false
   },
   "outputs": [],
   "source": [
    "bits_bob = []\n",
    "for q, b in zip(qubits_alice, bases_bob): \n",
    "    if b == \"+\":\n",
    "        bits_bob.append(0 if measure(q, base_p) == qubits[\"0\"] else 1)\n",
    "    else:\n",
    "        bits_bob.append(0 if measure(q, base_x) == qubits[\"0\"] else 1)\n",
    "bits_bob = np.array(bits_bob)"
   ]
  },
  {
   "cell_type": "markdown",
   "id": "b5307ebb4c97d8c5",
   "metadata": {
    "collapsed": false
   },
   "source": [
    "On peut calculer la correspondance avec la clef d'Alice : "
   ]
  },
  {
   "cell_type": "code",
   "execution_count": null,
   "id": "5b2fd853543a310c",
   "metadata": {
    "collapsed": false
   },
   "outputs": [],
   "source": [
    "correspondance_secret_key_bits_bob = bits_bob == bits_alice\n",
    "np.sum(correspondance_secret_key_bits_bob) / (4 * N)"
   ]
  },
  {
   "cell_type": "markdown",
   "id": "30832a97215d03c4",
   "metadata": {
    "collapsed": false
   },
   "source": [
    "On a bien $\\sim 75\\%$ d'équivalence : dans $50\\%$ des cas, Alice et Bob ont la même base donc les mêmes valeurs. Il y a $25\\%$ en plus, car quand ils n'ont pas la même base, il y a $50\\%$ de réussite. \n",
    "\n",
    "### Étape 3 : Alice et Bob se mettent d'accord.\n",
    "\n",
    "Une fois que les qubits ont été mesurés par Bob, Bob va **rendre ses bases publiques**, et Alice va pouvoir lui dire où il y a correspondance, et donc où ils peuvent être sûr d'avoir la même chose."
   ]
  },
  {
   "cell_type": "code",
   "execution_count": null,
   "id": "2f9d02c40f9e63e2",
   "metadata": {
    "collapsed": false
   },
   "outputs": [],
   "source": [
    "correspondance_bases_alice_bob = bases_bob == bases_alice \n",
    "half_bits_bob = bits_bob[correspondance_bases_alice_bob]\n",
    "half_bits_alice = bits_alice[correspondance_bases_alice_bob]\n",
    "# ATTENTION : Ne pas relancer la cellule toute seule, relancer tout le notebook pour rafraichir cette cellule correctement. "
   ]
  },
  {
   "cell_type": "markdown",
   "id": "9a77d7f607102ba1",
   "metadata": {
    "collapsed": false
   },
   "source": [
    "### Étape 4 : Vérification de l'intégrité de la communication.\n",
    "\n",
    "Pour vérifier qu'il n'y a pas eu d'écoute, Alice et Bob vont **rendre publique la moitié de leur clef commune.** Si il y a correspondance totale, alors on est sûr que personne n'a écouté. "
   ]
  },
  {
   "cell_type": "code",
   "execution_count": null,
   "id": "246f7575e147d631",
   "metadata": {
    "collapsed": false
   },
   "outputs": [],
   "source": [
    "last_slice = len(half_bits_bob) // 2\n",
    "verification = half_bits_bob[:last_slice] == half_bits_alice[:last_slice]\n",
    "print(f\"Pourcentage de correspondance : {int(np.sum(verification) / last_slice * 100)}%\")"
   ]
  },
  {
   "cell_type": "markdown",
   "id": "915c47a9248bfe44",
   "metadata": {
    "collapsed": false
   },
   "source": [
    "D'où *in fine*, la clef secrète avec une taille environ égale à $n$ (On peut trouver un $n'$ tel que la probabilité d'avoir $|clef| > n$ soit arbitrairement grande, puis couper à $n$) : "
   ]
  },
  {
   "cell_type": "code",
   "execution_count": null,
   "id": "5e272b07c520896",
   "metadata": {
    "collapsed": false
   },
   "outputs": [],
   "source": [
    "secret_key = half_bits_bob[last_slice:]\n",
    "print(f\"Secret key : {secret_key}, taille : {len(secret_key)}\")"
   ]
  },
  {
   "cell_type": "markdown",
   "id": "1418e9946f11d5d7",
   "metadata": {
    "collapsed": false
   },
   "source": [
    "## Protocol BB84 : Ève entre en scène \n",
    "\n",
    "Tout est identique, sauf que maintenant, Ève intercepte la communication et va essayer de déduire une partie de la clef échangée. \n",
    "\n",
    "### Étape 1 : Réimplémentez le protocole, en rajoutant Ève au milieu *(cette étape n'est pas nécessaire pour obtenir le drapeau, mais recommandé pour faciliter la suite)*\n",
    "\n",
    "Ève utilise dans un premier temps la même stratégie que Bob et Alice, elle se fait d'abord passer pour Bob, puis pour Alice, en effectuant les mêmes actions d'encodage/ décodage. "
   ]
  },
  {
   "cell_type": "code",
   "execution_count": null,
   "id": "39bc542994318f51",
   "metadata": {
    "collapsed": false
   },
   "outputs": [],
   "source": [
    "N = 100\n",
    "\n",
    "# Alice prépare ses qubits\n",
    "bits_alice = np.random.randint(low=0, high=2, size=(4 * N,))\n",
    "bases_alice = np.array([\"+\" if b == 0 else \"x\" for b in np.random.randint(low=0, high=2, size=(4 * N,))])\n",
    "qubits_alice = []\n",
    "for bit, basis  in zip(bits_alice, bases_alice):\n",
    "    if basis == \"+\":\n",
    "        s = pcvl.StateVector(qubits[\"0\"]) if bit == 0 else pcvl.StateVector(qubits[\"1\"])\n",
    "    else:\n",
    "        s = qubits[\"0x\"] if bit == 0 else qubits[\"1x\"]\n",
    "    qubits_alice.append(s)\n",
    "\n",
    "\n",
    "# Ève les intercepte et applique la même méthode que Bob en se faisant passer pour lui\n",
    "bits_eve = []\n",
    "raise NotImplementedError\n",
    "\n",
    "\n",
    "bits_eve = np.array(bits_eve)\n",
    "\n",
    "# Elle renvoie ensuite les qubits correspondants pour se faire passer pour Alice\n",
    "qubits_eve = []\n",
    "raise NotImplementedError\n",
    "    \n",
    "\n",
    "# Bob reçoit les qubits d'Ève et applique la même méthode que précédemment \n",
    "bases_bob = np.array([\"+\" if b == 0 else \"x\" for b in np.random.randint(low=0, high=2, size=(4 * N,))])\n",
    "bits_bob = []\n",
    "for q, b in zip(qubits_eve, bases_bob):\n",
    "    if b == \"+\":\n",
    "        bits_bob.append(0 if measure(q, base_p) == qubits[\"0\"] else 1)\n",
    "    else:\n",
    "        bits_bob.append(0 if measure(q, base_x) == qubits[\"0\"] else 1)\n",
    "bits_bob = np.array(bits_bob)\n",
    "\n",
    "\n",
    "# Dernière étape : mise en commun\n",
    "correspondance_bases_alice_bob = bases_bob == bases_alice\n",
    "half_bits_alice = bits_alice[correspondance_bases_alice_bob]\n",
    "half_bits_bob = bits_bob[correspondance_bases_alice_bob]\n",
    "last_slice = len(half_bits_alice) // 2\n",
    "\n",
    "\n",
    "# Vérification du bon déroulé \n",
    "verification = half_bits_alice[:last_slice] == half_bits_bob[:last_slice]\n",
    "correspondance_percentage = int(np.sum(verification) / last_slice * 100)\n",
    "\n",
    "print(f\"Pourcentage de correspondance : {correspondance_percentage}%, d'où une erreur de {100 - correspondance_percentage}%.\")\n",
    "\n",
    "secret_key_step_1 = half_bits_bob[:last_slice]"
   ]
  },
  {
   "cell_type": "markdown",
   "id": "847155a6b1c45da0",
   "metadata": {
    "collapsed": false
   },
   "source": [
    "En faisant les calculs, on montre que l'erreur est en moyenne de $25\\%$· En échangeant un grand nombre de bits, on se rapproche de cette moyenne et l'on peut donc détecter une écoute. "
   ]
  },
  {
   "cell_type": "code",
   "execution_count": null,
   "id": "43fe14ffe2d88764",
   "metadata": {
    "collapsed": false
   },
   "outputs": [],
   "source": [
    "print(secret_key_step_1)"
   ]
  },
  {
   "cell_type": "markdown",
   "id": "a54e35532baa1b64",
   "metadata": {
    "collapsed": false
   },
   "source": [
    "Ce n'est pas exactement la clef, il faudra encore utiliser des codes correction d'erreurs pour qu'Alice et Bob se retrouvent avec la même clef. Dans le cadre de ce challenge, on va s'arrêter ici.\n",
    "\n",
    "Dans ce cas-là, Ève se fait détecter. Mais il est possible de réduire l'erreur, certes de peu, mais cela peut permettre de passer pour du bruit. On va supposer pour simplifier que : **une erreur en dessous de $20\\%$ est considérée comme du bruit.**\n",
    "\n",
    "### Étape 2 : Ève contre-attaque, trouvez un moyen de faire descendre l'erreur moyenne à $20\\%$ (ou en dessous).\n",
    "\n",
    "*Le protocole reste le même, les seuls paramètres modifiables sont les bases de mesure pour mesurer les qubits d'Alice et les qubits à envoyer à Bob. Le pourcentage de correspondance doit être au-dessus de $79$ pour $N = 5000$ pour passer les tests.*"
   ]
  },
  {
   "cell_type": "code",
   "execution_count": null,
   "id": "c1354aa7d6187475",
   "metadata": {
    "collapsed": false
   },
   "outputs": [],
   "source": [
    "N = 100\n",
    "\n",
    "# Alice prépare ses qubits\n",
    "bits_alice = np.random.randint(low=0, high=2, size=(4 * N,))\n",
    "bases_alice = np.array([\"+\" if b == 0 else \"x\" for b in np.random.randint(low=0, high=2, size=(4 * N,))])\n",
    "qubits_alice = []\n",
    "for bit, basis  in zip(bits_alice, bases_alice):\n",
    "    if basis == \"+\":\n",
    "        s = pcvl.StateVector(qubits[\"0\"]) if bit == 0 else pcvl.StateVector(qubits[\"1\"])\n",
    "    else:\n",
    "        s = qubits[\"0x\"] if bit == 0 else qubits[\"1x\"]\n",
    "    qubits_alice.append(s)\n",
    "\n",
    "\n",
    "# Interception\n",
    "bits_eve = ...\n",
    "raise NotImplementedError\n",
    "\n",
    "# Envoi\n",
    "qubits_eve = []\n",
    "raise NotImplementedError \n",
    "\n",
    "# Bob reçoit les qubits d'Ève et applique la même méthode que précédemment \n",
    "bases_bob = np.array([\"+\" if b == 0 else \"x\" for b in np.random.randint(low=0, high=2, size=(4 * N,))])\n",
    "bits_bob = []\n",
    "for q, b in zip(qubits_eve, bases_bob):\n",
    "    if b == \"+\":\n",
    "        bits_bob.append(0 if measure(q, base_p) == qubits[\"0\"] else 1)\n",
    "    else:\n",
    "        bits_bob.append(0 if measure(q, base_x) == qubits[\"0\"] else 1)\n",
    "bits_bob = np.array(bits_bob)\n",
    "\n",
    "\n",
    "# Dernière étape : mise en commun\n",
    "correspondance_bases_alice_bob = bases_bob == bases_alice\n",
    "half_bits_alice = bits_alice[correspondance_bases_alice_bob]\n",
    "half_bits_bob = bits_bob[correspondance_bases_alice_bob]\n",
    "last_slice = len(half_bits_alice) // 2\n",
    "\n",
    "\n",
    "# Vérification du bon déroulé \n",
    "verification = half_bits_alice[:last_slice] == half_bits_bob[:last_slice]\n",
    "correspondance_percentage = int(np.sum(verification) / last_slice * 100)\n",
    "\n",
    "print(f\"Pourcentage de correspondance : {correspondance_percentage}%, d'où une erreur de {100 - correspondance_percentage}%.\")\n",
    "\n",
    "secret_key_step_2 = half_bits_bob[:last_slice]"
   ]
  },
  {
   "cell_type": "markdown",
   "id": "e982a7ae9cfad265",
   "metadata": {
    "collapsed": false
   },
   "source": [
    "## Récupération du drapeau \n",
    "\n",
    "Le jour où j'arrive à faire marcher `pcvl.random_seed(66)` je vous demanderai les clefs. En attendant, je veux bien les deux bases utilisées lors de l'étape 2, ainsi que les deux types de qubits envoyés par Ève. \n",
    "\n",
    "Vous pouvez venir en DM si vous avez des problèmes. "
   ]
  },
  {
   "cell_type": "code",
   "execution_count": null,
   "id": "446ba3c812bf5057",
   "metadata": {
    "collapsed": false
   },
   "outputs": [],
   "source": [
    "def circuit_to_list(circuit: Circuit) -> List[List[Tuple[float, float]]]:\n",
    "    return [[(x.real, x.imag) for x in l] for l in np.array(circuit.compute_unitary())]\n",
    "    \n",
    "def state_vector_to_list(sv: StateVector) -> List[Tuple[float, float]]:\n",
    "    if type(sv) is not StateVector:\n",
    "        sv = pcvl.StateVector(sv)\n",
    "    sv.normalize()\n",
    "    r = [(0., 0.), (0., 0.)]\n",
    "    for k, v in sv:\n",
    "        r[int(qubits_[k])] = (v.real, v.imag)\n",
    "    return r\n",
    "\n",
    "def list_to_state_vector(p: List[Tuple[float, float]]) -> StateVector:\n",
    "    return complex(p[0][0], p[0][1]) * StateVector([1, 0]) + complex(p[1][0], p[1][1]) * StateVector([0, 1]) "
   ]
  },
  {
   "cell_type": "code",
   "outputs": [],
   "source": [
    "# Exemple pour la version de l'étape 1 : \n",
    "# example_base_eve_1 = base_p \n",
    "# example_base_eve_2 = base_x\n",
    "# example_qubit_eve_1 = qubits[\"0\"]\n",
    "# example_qubit_eve_2 = qubits[\"1\"]\n",
    "# example_qubit_eve_3 = qubits[\"0x\"]\n",
    "# example_qubit_eve_4 = qubits[\"1x\"]\n",
    "\n",
    "d = {\n",
    "    \"base_eve_1\": circuit_to_list(...),\n",
    "    \"base_eve_2\": circuit_to_list(...),\n",
    "    \"qubit_eve_1\": state_vector_to_list(...),\n",
    "    \"qubit_eve_2\": state_vector_to_list(...),\n",
    "    \"qubit_eve_3\": state_vector_to_list(...),\n",
    "    \"qubit_eve_4\": state_vector_to_list(...)\n",
    "}\n",
    "raise NotImplementedError"
   ],
   "metadata": {
    "collapsed": false
   },
   "id": "17e4920685b492a8",
   "execution_count": null
  },
  {
   "cell_type": "code",
   "outputs": [],
   "source": [
    "import requests as rq\n",
    "\n",
    "URL = ...\n",
    "# URL = \"https://perceval.challenges.404ctf.fr\"\n",
    "rq.get(URL + \"/healthcheck\").json()"
   ],
   "metadata": {
    "collapsed": false
   },
   "id": "936fd60ce121b3ac",
   "execution_count": null
  },
  {
   "cell_type": "code",
   "outputs": [],
   "source": [
    "rq.post(URL + \"/challenges/2\", json=d).json()"
   ],
   "metadata": {
    "collapsed": false
   },
   "id": "e7dd3ad532bdc49",
   "execution_count": null
  }
 ],
 "metadata": {
  "kernelspec": {
   "display_name": "Python (Perceval)",
   "language": "python",
   "name": "perceval"
  },
  "language_info": {
   "codemirror_mode": {
    "name": "ipython",
    "version": 3
   },
   "file_extension": ".py",
   "mimetype": "text/x-python",
   "name": "python",
   "nbconvert_exporter": "python",
   "pygments_lexer": "ipython3",
   "version": "3.11.8"
  }
 },
 "nbformat": 4,
 "nbformat_minor": 5
}
