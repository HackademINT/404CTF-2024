{
 "cells": [
  {
   "cell_type": "markdown",
   "id": "55349f7c-05fa-4a31-9c59-94705f93e507",
   "metadata": {},
   "source": [
    "## Avant de commencer \n",
    "\n",
    "Voici les versions 1 et 2 qubits des fonctions utilitaires. "
   ]
  },
  {
   "cell_type": "code",
   "execution_count": null,
   "id": "d2ae73a7-84be-49d4-9a81-31f1aa0a3950",
   "metadata": {},
   "outputs": [],
   "source": [
    "from perceval import pdisplay, PS, BS, Circuit, BasicState, Processor, PERM\n",
    "from perceval.components import Unitary\n",
    "from perceval.backends import BackendFactory\n",
    "from perceval.algorithm import Analyzer, Sampler\n",
    "import perceval as pcvl\n",
    "from exqalibur import FockState\n",
    "\n",
    "from qiskit.visualization import plot_bloch_multivector\n",
    "from qiskit.quantum_info import Statevector\n",
    "\n",
    "import matplotlib.pyplot as plt\n",
    "from numpy import pi, cos, sin, sqrt\n",
    "import numpy as np\n",
    "\n",
    "from typing import List, Dict, Tuple, Union, Optional\n",
    "\n",
    "qubits = {\n",
    "    \"0\": BasicState([1, 0]),\n",
    "    \"1\": BasicState([0, 1]),\n",
    "    \"00\": BasicState([1, 0, 1, 0]),\n",
    "    \"01\": BasicState([1, 0, 0, 1]),\n",
    "    \"10\": BasicState([0, 1, 1, 0]),\n",
    "    \"11\": BasicState([0, 1, 0, 1])\n",
    "}\n",
    "qubits_ = {qubits[k]: k for k in qubits}\n",
    "sqlist = [qubits[\"0\"], qubits[\"1\"]]\n",
    "mqlist = [qubits[\"00\"], qubits[\"01\"], qubits[\"10\"], qubits[\"11\"]]\n",
    "\n",
    "def analyze(circuit: Circuit, input_states: Optional[FockState] = None, output_states: Optional[FockState] = None) \\\n",
    "        -> None:\n",
    "    if len(circuit.depths()) == 2:\n",
    "        states = sqlist\n",
    "    else:\n",
    "        states = mqlist\n",
    "\n",
    "    if input_states is None:\n",
    "        input_states = states\n",
    "    if output_states is None:\n",
    "        output_states = states\n",
    "\n",
    "    p = Processor(\"Naive\", circuit)\n",
    "    a = Analyzer(p, input_states, output_states, mapping=qubits_)\n",
    "    pdisplay(a)\n",
    "\n",
    "def amplitudes(circuit: Circuit, input_state: Optional[FockState] = None, output_states: Optional[FockState] = None) \\\n",
    "        -> (complex, complex):\n",
    "    if input_state is None:\n",
    "        if len(circuit.depths()) == 2:\n",
    "            input_state = qubits[\"0\"]\n",
    "        else:\n",
    "            input_state = qubits[\"00\"]\n",
    "\n",
    "    if output_states is None:\n",
    "        if len(circuit.depths()) == 2:\n",
    "            output_states = sqlist\n",
    "        else:\n",
    "            output_states = mqlist\n",
    "\n",
    "    b = BackendFactory.get_backend(\"Naive\")\n",
    "    b.set_circuit(circuit)\n",
    "    b.set_input_state(input_state)\n",
    "    return {qubits_[k]: roundc(b.prob_amplitude(k)) for k in output_states}\n",
    "\n",
    "def measure2p(processor: Processor, input_state: Optional[FockState] = None) -> None:\n",
    "    if input_state is None:\n",
    "        input_state = qubits[\"00\"]\n",
    "\n",
    "    # On force la règle : la somme des photons par paire de rail doit être égale à 1.\n",
    "    processor.set_postselection(pcvl.utils.PostSelect(\"[0,1]==1 & [2,3]==1\"))\n",
    "    processor.min_detected_photons_filter(0)\n",
    "\n",
    "    # On fait finalement la mesure :\n",
    "    processor.with_input(input_state)\n",
    "    measure2p_s = pcvl.algorithm.Sampler(processor)\n",
    "\n",
    "    print(f\"Avec l'entrée : {qubits_[input_state]}\")\n",
    "    for k, v in measure2p_s.probs()[\"results\"].items():\n",
    "        print(f\"> {qubits_[k]}: {round(v, 2)}\")\n",
    "\n",
    "def roundc(c, decimals: int = 2):\n",
    "    return round(c.real, decimals) + round(c.imag, decimals) * 1j"
   ]
  },
  {
   "cell_type": "markdown",
   "id": "c205ecad-b578-4a2a-a27b-619ca4fc8a44",
   "metadata": {},
   "source": [
    "# Challenge 3 : On passe aux choses sérieuses \n",
    "\n",
    "![dicaprio_laugh_meme.jpg](https://i.imgflip.com/8nfi64.jpg)\n",
    "\n",
    "## Systèmes multiples\n",
    "Les notions abordées pour les systèmes simples, *concaténation de portes, mesures, probabilités...*, sont encore valables pour les **systèmes multiples**. Pour rajouter un qubit, il faudra appliquer des **produits tensoriels aux portes**, mais aussi aux états de base. \n",
    "\n",
    "Supposons que l'on ait un qubit $A$ et un qubit $B$, respectivement dans l'état $|\\psi\\rangle$ et $|\\phi\\rangle$. Alors le système $(A, B)$ est dans l'état $|\\psi\\rangle\\otimes|\\phi\\rangle = |\\psi\\otimes\\phi\\rangle$ (dépend des conventions d'écriture).\n",
    "\n",
    "La base canonique devient alors :\n",
    "$$\n",
    "|00\\rangle = |0\\rangle \\otimes |0\\rangle = \\begin{pmatrix} 1 \\\\ 0 \\end{pmatrix}\\otimes \\begin{pmatrix} 1 \\\\ 0 \\end{pmatrix} = \\begin{pmatrix}\n",
    "1 \\times \\begin{pmatrix} 1 \\\\ 0 \\end{pmatrix} \\\\ \n",
    "0 \\times \\begin{pmatrix} 1 \\\\ 0 \\end{pmatrix} \n",
    "\\end{pmatrix} = \\begin{pmatrix} 1 \\\\ 0 \\\\ 0 \\\\ 0  \\end{pmatrix},\n",
    "$$\n",
    "$$\n",
    "|01\\rangle = \\begin{pmatrix} 0 \\\\ 1 \\\\ 0 \\\\ 0  \\end{pmatrix}, \n",
    "$$\n",
    "$$\n",
    "|10\\rangle = \\begin{pmatrix} 0 \\\\ 0 \\\\ 1 \\\\ 0  \\end{pmatrix},\n",
    "$$\n",
    "$$\n",
    "|11\\rangle = \\begin{pmatrix} 0 \\\\ 0 \\\\ 0 \\\\ 1  \\end{pmatrix}\n",
    "$$\n",
    "\n",
    "C'est la même chose pour les portes logiques, **si l'on applique $U_1$ à $A$ et $U_2$ à $B$, alors on applique $U_1 \\otimes U_2$ à $A \\otimes B$.**\n",
    "\n",
    "Par exemple, si on applique $H$ à $|0\\rangle$ et rien (donc l'identité) à $|1\\rangle$. La matrice de l'opération sur le système est ainsi $H\\otimes I$. Le circuit est le suivant : "
   ]
  },
  {
   "cell_type": "code",
   "execution_count": null,
   "id": "ed97f7ab-8076-4520-95b0-d4ca2ac73e8b",
   "metadata": {},
   "outputs": [],
   "source": [
    "c = Circuit(4) // (0, BS.H())\n",
    "pdisplay(c)"
   ]
  },
  {
   "cell_type": "markdown",
   "id": "b9965913-2c32-4fbb-8ca9-7cf41577fa39",
   "metadata": {},
   "source": [
    "On s'attend à avoir :\n",
    "$$\n",
    "\\DeclareMathOperator{\\H}{H}\n",
    "\\DeclareMathOperator{\\I}{I}\n",
    "$$\n",
    "\n",
    "$$\n",
    "|0\\rangle \\otimes |1\\rangle \\rightarrow \\begin{cases} \n",
    "    \\text{En haut : } |0\\rangle \\longrightarrow \\H \\longrightarrow \\frac{1}{\\sqrt{2}}|0\\rangle+\\frac{1}{\\sqrt{2}}|1\\rangle \\\\\n",
    "    \\text{En bas :  } |1\\rangle \\longrightarrow \\I \\longrightarrow |1\\rangle\n",
    "\\end{cases} \\rightarrow \\left(\\frac{1}{\\sqrt{2}}|0\\rangle+\\frac{1}{\\sqrt{2}}|1\\rangle\\right)\\otimes|1\\rangle \n",
    "$$\n",
    "\n",
    "Ce qui donne l'état : \n",
    "$$\n",
    "\\left(\\frac{1}{\\sqrt{2}}|0\\rangle+\\frac{1}{\\sqrt{2}}|1\\rangle\\right)\\otimes|1\\rangle = \\frac{1}{\\sqrt{2}}|01\\rangle+\\frac{1}{\\sqrt{2}}|11\\rangle\n",
    "$$\n",
    "\n",
    "En pratique on détermine la porte logique $U$, on a $U = H\\otimes I$, donc :\n",
    "$$\n",
    "U = \\frac{1}{\\sqrt{2}}\\begin{pmatrix}1 & 1 \\\\ 1& -1\\end{pmatrix} \\otimes \\begin{pmatrix} 1&0 \\\\ 0& 1 \\end{pmatrix} = \\frac{1}{\\sqrt{2}}\\begin{pmatrix} 1\\times\\begin{pmatrix} 1&0 \\\\ 0& 1 \\end{pmatrix}&1\\times\\begin{pmatrix} 1&0 \\\\ 0& 1 \\end{pmatrix}\\\\1\\times\\begin{pmatrix} 1&0 \\\\ 0& 1 \\end{pmatrix}&-1\\times\\begin{pmatrix} 1&0 \\\\ 0& 1 \\end{pmatrix} \\end{pmatrix}= \\frac{1}{\\sqrt{2}}\\begin{pmatrix} 1&0&1&0\\\\0&1&0&1\\\\1&0&-1&0\\\\0&1&0&-1\\end{pmatrix}\n",
    "$$\n",
    "\n",
    "Ce qui donne avec notre entrée :\n",
    "$$\n",
    "|01\\rangle = \\begin{pmatrix} 0\\\\1\\\\0\\\\0\\end{pmatrix}, \n",
    "$$\n",
    "$$\n",
    "\\frac{1}{\\sqrt{2}}\\begin{pmatrix} 1&0&1&0\\\\0&1&0&1\\\\1&0&-1&0\\\\0&1&0&-1\\end{pmatrix} \\begin{pmatrix} 0\\\\1\\\\0\\\\0\\end{pmatrix} = \\frac{1}{\\sqrt{2}}\\begin{pmatrix} 0\\\\1\\\\0\\\\1\\end{pmatrix} = \\frac{1}{\\sqrt{2}} |01\\rangle + \\frac{1}{\\sqrt{2}} |11\\rangle\n",
    "$$\n",
    "\n",
    "Qui correspond bien à l'attendu.\n",
    "\n",
    "*Si vous souhaitez avoir une explication plus détaillée, vous pouvez regarder ce cours, proposé par IBM : https://learning.quantum.ibm.com/course/basics-of-quantum-information/multiple-systems*.\n",
    "\n",
    "## L'intrication quantique\n",
    "\n",
    "Une propriété très intéressante des qubits, est qu'ils peuvent être séparés, mais aussi être **intriqués**. C'est-à-dire dépendant l'un de l'autre. Cela permet par exemple, d'agir sur un qubit, et d'obtenir des informations sur le deuxième. \n",
    "\n",
    "Si l'on prend l'état intriqué $|\\psi\\rangle=\\frac{1}{\\sqrt{2}}(|00\\rangle + |11\\rangle)$, et que l'on mesure le premier qubit (on a une chance sur deux d'avoir $0$ et réciproquement $1$), l'état du deuxième qubit est entièrement déterminé, sans que l'on ait eu à le mesurer ! En effet, si l'on mesure $0$ pour le premier qubit, alors le deuxième est *forcément* aussi à $0$. Cependant, la mesure du premier qubit étant aléatoire, cela ne permet pas de téléporter de l'information plus vite que la vitesse de la lumière, car de l'autre point de vue, on ne sait pas quel est l'état de la mesure (avant de recevoir l'information par un canal classique par exemple).\n",
    "\n",
    "Un contre-exemple est l'état $|\\psi\\rangle=\\frac{1}{2}(|00\\rangle + |01\\rangle + |10\\rangle + |11\\rangle) = \\frac{1}{\\sqrt{2}} (|0\\rangle + |1\\rangle) \\otimes \\frac{1}{\\sqrt{2}}(|0\\rangle + |1\\rangle)$, mesurer le premier qubit ne donne aucune information sur le deuxième, les deux qubits sont **indépendants** ou **séparables**.\n",
    "\n",
    "## La porte *Controlled-NOT* (CNOT)\n",
    "\n",
    "La porte phare de l'intrication quantique est la porte contrôlée *NOT* (ou *CNOT* ou *cX*). Elle agit sur 2 qubits, et n'**effectue l'opération *NOT* sur le second qubit que lorsque le premier qubit est $|1\\rangle$ et sinon le laisse inchangé**. Sa matrice est la suivante : \n",
    "\n",
    "$$\n",
    "\\DeclareMathOperator{\\CNOT}{CNOT}\n",
    "$$\n",
    "\n",
    "$$\n",
    "\\CNOT = \\begin{pmatrix}1&0&0&0\\\\0&1&0&0\\\\0&0&0&1\\\\0&0&1&0\\end{pmatrix}\n",
    "$$\n",
    "Ou encore : \n",
    "$$\n",
    "\\CNOT = \n",
    "\\begin{cases}\n",
    "    |00 \\rangle \\xrightarrow[]{I \\otimes I} |00 \\rangle \\\\\n",
    "    |01 \\rangle \\xrightarrow[]{I \\otimes I} |01 \\rangle \\\\\n",
    "    |10 \\rangle \\xrightarrow[]{I \\otimes NOT} |11 \\rangle \\\\\n",
    "    |11 \\rangle \\xrightarrow[]{I \\otimes NOT} |10 \\rangle \n",
    "\\end{cases}\n",
    "$$\n",
    "\n",
    "Son implémentation avec des photons est assez technique, et elle cache des problèmes liés à notre façon d'encoder des qubits. Nous allons donc nous contenter de la définition proposée par Quandela, afin de pouvoir utiliser cette porte dans nos circuits."
   ]
  },
  {
   "cell_type": "code",
   "execution_count": null,
   "id": "0a5ccea5-9e67-40ea-8568-274617c722f9",
   "metadata": {},
   "outputs": [],
   "source": [
    "from perceval.components import catalog\n",
    "cnot = catalog[\"klm cnot\"].build_circuit()\n",
    "# https://github.com/Quandela/Perceval/blob/main/perceval/components/core_catalog/klm_cnot.py"
   ]
  },
  {
   "cell_type": "code",
   "execution_count": null,
   "id": "65bb2208-9e10-4ff4-8ae8-1f0730845399",
   "metadata": {},
   "outputs": [],
   "source": [
    "pdisplay(cnot)"
   ]
  },
  {
   "cell_type": "markdown",
   "id": "d25c2cc5-670f-4a75-bb64-ba5b71bc1b7f",
   "metadata": {},
   "source": [
    "## Un dernier point pour la route\n",
    "\n",
    "Comme vous l'avez vu, la porte *CNOT* définie au-dessus **comporte 8 rails au lieu des 4 attendus**. En fait, c'est ici que se cache la particularité technique liée à la photonique. Pour que notre encodage fonctionne, il faut absolument que **la somme des photons dans une paire de rail soit égale à 1**. \n",
    "\n",
    "Par exemple pour l'état $|01\\rangle$, on a $1$ photon dans le premier rail, $0$ dans le second et dans le troisième, et $1$ dans le quatrième. Si l'on se retrouve avec $1$ photon dans le second rail et $1$ photon dans le troisième rail à la fin, l'on sait que l'on a l'état $|10\\rangle$. Mais que se passe-t-il si l'on obtient $2$ photons dans le premier rail et $0$ dans les autres ? Et bien cela ne correspond à aucun état logique. En fait, cela à du sens physiquement parlant, mais pas informatiquement parlant, on arrive plus à mettre des qbits sur notre état photonique. \n",
    "\n",
    "Pour pallier ce problème, on rajoute des états de contrôle, qui vont annuler certains résultats. Dans notre cas, tout sera fait automatiquement grâce à des *heralded gates* et des *ancilla states*.\n",
    "\n",
    "### Pour résumer :\n",
    "- On laisse les *heralded gates* et les *ancilla states* s'occuper des problèmes.\n",
    "- Si on se retrouve avec un nombre incohérent de photons à la fin de notre expérience, cela ne sert à rien de chercher compliqué, l'expérience est invalide, il faut la refaire.\n",
    "\n",
    "Afin de gérer les *heralded gates* et les *ancilla states*, nous allons travailler directement avec les processeurs. \n",
    "\n",
    "*Plus d'information ici : https://perceval.quandela.net/docs/notebooks/Tutorial.html#3.-Two-qubit-gates*"
   ]
  },
  {
   "cell_type": "code",
   "execution_count": null,
   "id": "e671512d-b97a-4767-90b5-51cc1192dda3",
   "metadata": {},
   "outputs": [],
   "source": [
    "p = Processor(\"Naive\", cnot)\n",
    "p.min_detected_photons_filter(0)\n",
    "p.add_herald(4, 0)\n",
    "p.add_herald(5, 1)\n",
    "p.add_herald(6, 0)\n",
    "p.add_herald(7, 1)\n",
    "p.add_port(0, pcvl.Port(pcvl.Encoding.DUAL_RAIL, \"0\"))\n",
    "p.add_port(2, pcvl.Port(pcvl.Encoding.DUAL_RAIL, \"1\"))\n",
    "pdisplay(p, recursive=True)"
   ]
  },
  {
   "cell_type": "code",
   "execution_count": null,
   "id": "8e597bc8-ab8f-4c74-8be7-1b18362043f7",
   "metadata": {},
   "outputs": [],
   "source": [
    "measure2p(p)\n",
    "measure2p(p, input_state=qubits[\"10\"])\n",
    "measure2p(p, input_state=qubits[\"01\"])\n",
    "measure2p(p, input_state=qubits[\"11\"])"
   ]
  },
  {
   "cell_type": "markdown",
   "id": "e3bc6269-c2ae-4f3f-bb22-505035b2653f",
   "metadata": {},
   "source": [
    "## À vous de jouer ! \n",
    "\n",
    "On a vu comment préparer un qubit dans n'importe quel état quantique. On va maintenant pouvoir passer à la mise en place d'états à deux qubits !\n",
    "\n",
    "Pour commencer, on peut essayer de préparer ce qu'on appelle les **états de Bell.** Ils sont très utilisés, car ils correspondent à des **états intriqués** et ils sont relativement facile à manipuler. Ils correspondent à la base :\n",
    "\n",
    "$$\n",
    "|\\Phi^+\\rangle = \\frac{1}{\\sqrt{2}} (|00\\rangle + |11\\rangle)\n",
    "$$\n",
    "$$\n",
    "|\\Phi^-\\rangle = \\frac{1}{\\sqrt{2}} (|00\\rangle - |11\\rangle)\n",
    "$$\n",
    "$$\n",
    "|\\Psi^+\\rangle = \\frac{1}{\\sqrt{2}} (|01\\rangle + |10\\rangle)\n",
    "$$\n",
    "$$\n",
    "|\\Psi^-\\rangle = \\frac{1}{\\sqrt{2}} (|01\\rangle - |10\\rangle)\n",
    "$$\n",
    "\n",
    "Essayons de préparer l'état $|\\Phi^+\\rangle$. Un raisonnement possible est le suivant : on cherche à avoir un état superposé, il faudra donc une porte d'Hadamard ou équivalent, on a aussi besoin d'états intriqués, il faudra donc une porte $\\CNOT$. Cela donne en pratique : "
   ]
  },
  {
   "cell_type": "code",
   "execution_count": null,
   "id": "75b93a82-87dc-4a7c-9eec-b274c511bd63",
   "metadata": {},
   "outputs": [],
   "source": [
    "phi_plus = Circuit(8).add(0, BS.H()).add(0, cnot)\n",
    "\n",
    "# Préparation du processeur\n",
    "p_plus = Processor(\"Naive\", phi_plus)  # Étape 1 : création du processeur avec le bon circuit\n",
    "p_plus.min_detected_photons_filter(0)       # Étape 2 : création du filtre pour annuler les expériences ratées\n",
    "p_plus.add_herald(4, 0)                     # Étape 3 : ajouts d'heralds sur les rails 4, 5, 6, 7 \n",
    "p_plus.add_herald(5, 1)                     \n",
    "p_plus.add_herald(6, 0)                     \n",
    "p_plus.add_herald(7, 1)                     \n",
    "p_plus.add_port(0, pcvl.Port(pcvl.Encoding.DUAL_RAIL, \"0\"))  # (Étape 4) : On peut, cela n'est pas obligatoire\n",
    "p_plus.add_port(2, pcvl.Port(pcvl.Encoding.DUAL_RAIL, \"1\"))  #      préciser que l'on est en encodage par rail. \n",
    "pdisplay(p_plus, recursive=True)            # Étape finale : on admire le résultat/ on pleure si ça marche pas"
   ]
  },
  {
   "cell_type": "code",
   "execution_count": null,
   "id": "a891a5dcb6e7c811",
   "metadata": {
    "collapsed": false
   },
   "outputs": [],
   "source": [
    "measure2p(p_plus)"
   ]
  },
  {
   "cell_type": "markdown",
   "id": "a128485e-5a46-4d15-bc5d-947bb1fb6b73",
   "metadata": {},
   "source": [
    "On peut aussi tricher avec :"
   ]
  },
  {
   "cell_type": "code",
   "execution_count": null,
   "id": "91c44c47-0c8f-4e05-a338-2e01a022c530",
   "metadata": {},
   "outputs": [],
   "source": [
    "e = pcvl.utils.stategenerator.StateGenerator(encoding=pcvl.Encoding.DUAL_RAIL)\n",
    "b = e.bell_state(\"phi-\")\n",
    "print(b)"
   ]
  },
  {
   "cell_type": "markdown",
   "id": "fa8fd275-a1b7-4542-ad0e-7480bc02ee8a",
   "metadata": {},
   "source": [
    "## Étape 1 : Créations d'états quantiques\n",
    "\n",
    "**1.a)** Créez l'état :\n",
    "$$\n",
    "|\\psi\\rangle = |11\\rangle\n",
    "$$\n",
    "\n",
    "Sachant que l'on part toujours de notre état de base, ici $|00\\rangle$. Les qubits sont accessibles via le dictionnaire `qbits` pour les tests, même si l'entrée par défault est déjà $|00\\rangle$.\n",
    "\n",
    "*Il y a plusieurs façons de procéder. Tout est accepté.*"
   ]
  },
  {
   "cell_type": "code",
   "execution_count": null,
   "id": "e23f397d-3530-4f89-86cd-9ffb1243444a",
   "metadata": {},
   "outputs": [],
   "source": [
    "step_one = ...\n",
    "raise NotImplementedError\n",
    "\n",
    "pdisplay(step_one)"
   ]
  },
  {
   "cell_type": "markdown",
   "id": "2a7629772fb71090",
   "metadata": {
    "collapsed": false
   },
   "source": [
    "Si vous n'avez pas utilisé de porte *CNOT*, vous pouvez vérifier avec : "
   ]
  },
  {
   "cell_type": "code",
   "execution_count": null,
   "id": "f72bf82e-1187-4333-9c66-c6a1d2f80142",
   "metadata": {},
   "outputs": [],
   "source": [
    "if len(step_one.depths()) == 4:\n",
    "    analyze(step_one)\n",
    "    print(f\"Résultat : {amplitudes(step_one)}\")\n",
    "    print(\"Solution : {'00': 0j, '01': 0j, '10': 0j, '11': (1+0j)}\")"
   ]
  },
  {
   "cell_type": "markdown",
   "id": "b1afbae34cce3d47",
   "metadata": {
    "collapsed": false
   },
   "source": [
    "Si vous avez utilisé un *CNOT*, il faut mettre en place un processeur : "
   ]
  },
  {
   "cell_type": "code",
   "execution_count": null,
   "id": "ae871260-3bc2-493d-949f-7ba1b1698ad0",
   "metadata": {},
   "outputs": [],
   "source": [
    "if len(step_one.depths()) == 8:\n",
    "    p_step_one = Processor(\"Naive\", step_one)\n",
    "    p_step_one.min_detected_photons_filter(0)\n",
    "    p_step_one.add_herald(4, 0)\n",
    "    p_step_one.add_herald(5, 1)\n",
    "    p_step_one.add_herald(6, 0)\n",
    "    p_step_one.add_herald(7, 1)\n",
    "    p_step_one.add_port(0, pcvl.Port(pcvl.Encoding.DUAL_RAIL, \"0\"))\n",
    "    p_step_one.add_port(2, pcvl.Port(pcvl.Encoding.DUAL_RAIL, \"1\"))\n",
    "    pdisplay(p_step_one, recursive=True)"
   ]
  },
  {
   "cell_type": "code",
   "execution_count": null,
   "id": "4e518e26-93b2-453e-bf96-0542414050ed",
   "metadata": {},
   "outputs": [],
   "source": [
    "if len(step_one.depths()) == 8:\n",
    "    measure2p(p_step_one)\n",
    "    print(\"Solution :\\n> 11: 1.0\")"
   ]
  },
  {
   "cell_type": "markdown",
   "id": "ff6e249d-1471-4036-8cb7-239826de3c2c",
   "metadata": {},
   "source": [
    "**1.b)** Créez l'état : \n",
    "$$\n",
    "|\\psi\\rangle = -\\cos\\frac{\\pi}{6}|00\\rangle-\\sin\\frac{\\pi}{6}|11\\rangle\n",
    "$$"
   ]
  },
  {
   "cell_type": "code",
   "execution_count": null,
   "id": "f2ff4a97-c6ab-4900-aca1-10c703d1d4f0",
   "metadata": {},
   "outputs": [],
   "source": [
    "step_one_more = ...\n",
    "raise NotImplementedError\n",
    "\n",
    "p_step_one_more = pcvl.Processor(\"Naive\", step_one_more)\n",
    "p_step_one_more.min_detected_photons_filter(0)\n",
    "p_step_one_more.add_herald(4, 0)\n",
    "p_step_one_more.add_herald(5, 1)\n",
    "p_step_one_more.add_herald(6, 0)\n",
    "p_step_one_more.add_herald(7, 1)\n",
    "p_step_one_more.add_port(0, pcvl.Port(pcvl.Encoding.DUAL_RAIL, \"0\"))\n",
    "p_step_one_more.add_port(2, pcvl.Port(pcvl.Encoding.DUAL_RAIL, \"1\"))\n",
    "pdisplay(p_step_one_more, recursive=True)"
   ]
  },
  {
   "cell_type": "code",
   "execution_count": null,
   "id": "5a2c7cf9-e69e-448b-97f4-2aebe2a279d4",
   "metadata": {},
   "outputs": [],
   "source": [
    "measure2p(p_step_one_more)"
   ]
  },
  {
   "cell_type": "markdown",
   "id": "6ae1a006-f7ad-45cc-8bf6-3d5eac6a365d",
   "metadata": {},
   "source": [
    "## Étape 2 : Les états de Bell\n",
    "\n",
    "Une fois qu'on a réussi à créer les états de Bell, encore faut-il savoir les mesurer pour pouvoir les utiliser. De la même manière que précédemment, pour mesurer dans une base $\\mathcal{B}$ quelconque, on va créer la matrice de passage de $\\mathcal{B}$ à $\\mathcal{B}_c$, notre base canonique, puis on mesurera dans cette même base connue. \n",
    "\n",
    "Combinez différentes portes pour obtenir la porte de changement de base, de la base de Bell à la base canonique. Les tests sont en dessous."
   ]
  },
  {
   "cell_type": "code",
   "execution_count": null,
   "id": "eaffd889cd95411f",
   "metadata": {
    "collapsed": false
   },
   "outputs": [],
   "source": [
    "step_two = Circuit(8, \"Passage Bell -> Canonique\") // ...\n",
    "raise NotImplementedError"
   ]
  },
  {
   "cell_type": "code",
   "execution_count": null,
   "id": "681042e5595aa1cf",
   "metadata": {
    "collapsed": false
   },
   "outputs": [],
   "source": [
    "test_passage = Circuit(8).add(0, BS.H()).add(0, cnot).add(0, step_two)\n",
    "p_test_passage = pcvl.Processor(\"Naive\", test_passage)\n",
    "p_test_passage.min_detected_photons_filter(0)\n",
    "p_test_passage.add_herald(4, 0)\n",
    "p_test_passage.add_herald(5, 1)\n",
    "p_test_passage.add_herald(6, 0)\n",
    "p_test_passage.add_herald(7, 1)\n",
    "p_test_passage.add_port(0, pcvl.Port(pcvl.Encoding.DUAL_RAIL, \"0\"))\n",
    "p_test_passage.add_port(2, pcvl.Port(pcvl.Encoding.DUAL_RAIL, \"1\"))\n",
    "pdisplay(p_test_passage, recursive=True)"
   ]
  },
  {
   "cell_type": "markdown",
   "source": [
    "Le circuit de test passe dans la base de Bell, puis retourne dans la base canonique. On s'attend donc à trouver l'identité (à quelques arrondis près).\n",
    "\n",
    "***Attention***, pour l'instant les tests demandent au circuit d'avoir 8 rails. "
   ],
   "metadata": {
    "collapsed": false
   },
   "id": "d79e41cf2e10b985"
  },
  {
   "cell_type": "code",
   "execution_count": null,
   "id": "fea7ef60f93aa278",
   "metadata": {
    "collapsed": false
   },
   "outputs": [],
   "source": [
    "measure2p(p_test_passage)"
   ]
  },
  {
   "cell_type": "code",
   "outputs": [],
   "source": [
    "measure2p(p_test_passage, qubits[\"01\"])"
   ],
   "metadata": {
    "collapsed": false
   },
   "id": "94d3cf319484139c",
   "execution_count": null
  },
  {
   "cell_type": "code",
   "outputs": [],
   "source": [
    "measure2p(p_test_passage, qubits[\"10\"])"
   ],
   "metadata": {
    "collapsed": false
   },
   "id": "55c96e62355a7bd5",
   "execution_count": null
  },
  {
   "cell_type": "code",
   "outputs": [],
   "source": [
    "measure2p(p_test_passage, qubits[\"11\"])"
   ],
   "metadata": {
    "collapsed": false
   },
   "id": "132549d8febbb7d",
   "execution_count": null
  },
  {
   "cell_type": "markdown",
   "id": "33c252f9-eb36-4e91-aa24-1b84b6eeaca3",
   "metadata": {},
   "source": [
    "## Étape 3 : Trivial ? \n",
    "\n",
    "Créez l'état : \n",
    "$$\n",
    "|\\psi\\rangle = \\frac{1}{\\sqrt{3}}(|01\\rangle + |10\\rangle + |11\\rangle)\n",
    "$$"
   ]
  },
  {
   "cell_type": "code",
   "execution_count": null,
   "id": "6c763c90a834fde2",
   "metadata": {
    "collapsed": false
   },
   "outputs": [],
   "source": [
    "step_three = ...\n",
    "raise NotImplementedError\n",
    "\n",
    "pdisplay(step_three)"
   ]
  },
  {
   "cell_type": "code",
   "execution_count": null,
   "id": "4b4e2d22-503a-4e28-aa5a-ab7743c68a08",
   "metadata": {},
   "outputs": [],
   "source": [
    "p_step_three = Processor(\"Naive\", step_three)\n",
    "p_step_three.min_detected_photons_filter(0)\n",
    "p_step_three.add_herald(4, 0)\n",
    "p_step_three.add_herald(5, 1)\n",
    "p_step_three.add_herald(6, 0)\n",
    "p_step_three.add_herald(7, 1)\n",
    "p_step_three.add_port(0, pcvl.Port(pcvl.Encoding.DUAL_RAIL, \"0\"))\n",
    "p_step_three.add_port(2, pcvl.Port(pcvl.Encoding.DUAL_RAIL, \"1\"))\n",
    "pdisplay(p_step_three, recursive=True)"
   ]
  },
  {
   "cell_type": "code",
   "execution_count": null,
   "id": "43109a9c-5913-4c24-a0ad-819bee6aa21d",
   "metadata": {},
   "outputs": [],
   "source": [
    "measure2p(p_step_three)"
   ]
  },
  {
   "cell_type": "markdown",
   "id": "74de1998-8db4-4d1d-bc80-a8a8f1626dc6",
   "metadata": {},
   "source": [
    "## Récupération du drapeau"
   ]
  },
  {
   "cell_type": "code",
   "outputs": [],
   "source": [
    "def circuit_to_list(circuit: Circuit) -> List[List[Tuple[float, float]]]:\n",
    "    return [[(x.real, x.imag) for x in l] for l in np.array(circuit.compute_unitary())]\n",
    "\n",
    "d = {\n",
    "    \"step_one\": circuit_to_list(step_one),\n",
    "    \"step_one_more\": circuit_to_list(step_one_more),\n",
    "    \"step_two\": circuit_to_list(step_two),\n",
    "    \"step_three\": circuit_to_list(step_three)\n",
    "}"
   ],
   "metadata": {
    "collapsed": false
   },
   "id": "75026fe43581b978",
   "execution_count": null
  },
  {
   "cell_type": "code",
   "outputs": [],
   "source": [
    "import requests as rq\n",
    "\n",
    "URL = ...\n",
    "# URL = \"https://perceval.challenges.404ctf.fr\"\n",
    "rq.get(URL + \"/healthcheck\").json()"
   ],
   "metadata": {
    "collapsed": false
   },
   "id": "caddbdda1ebf3061",
   "execution_count": null
  },
  {
   "cell_type": "code",
   "outputs": [],
   "source": [
    "rq.post(URL + \"/challenges/3\", json=d).json()"
   ],
   "metadata": {
    "collapsed": false
   },
   "id": "4e70a551c7208c4a",
   "execution_count": null
  }
 ],
 "metadata": {
  "kernelspec": {
   "display_name": "Python (Perceval)",
   "language": "python",
   "name": "perceval"
  },
  "language_info": {
   "codemirror_mode": {
    "name": "ipython",
    "version": 3
   },
   "file_extension": ".py",
   "mimetype": "text/x-python",
   "name": "python",
   "nbconvert_exporter": "python",
   "pygments_lexer": "ipython3",
   "version": "3.11.8"
  }
 },
 "nbformat": 4,
 "nbformat_minor": 5
}
