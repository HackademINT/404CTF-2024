{
 "cells": [
  {
   "cell_type": "code",
   "source": [
    "import numpy as np\n",
    "\n",
    "from fl.utils import plot_mnist, apply_patch, vector_to_image_mnist\n",
    "from fl.preprocessing import load_mnist"
   ],
   "metadata": {
    "collapsed": false
   },
   "id": "2d8545f5605d621d",
   "execution_count": null,
   "outputs": []
  },
  {
   "cell_type": "markdown",
   "source": [
    "# Challenge 3 : Des portes dérobées\n",
    "\n",
    "![backdoor.jpg](https://i.imgflip.com/8nft1w.jpg)\n",
    "\n",
    "## Des portes ? \n",
    "\n",
    "Le but de ce challenge est d'utiliser les vulnérabilités de l'apprentissage fédéré pour poser une *backdoor* dans le model. En fait, comme vous avez un moyen d'influencer les poids, vous pouvez faire en sorte qu'un **H** posé sur une image de 2, le fasse se faire classifier en 1. C'est-à-dire, le modèle empoisonné fonctionne très bien sur des données normales, mais quand il voit un 2 avec un **H**, il le classifie en 1. \n",
    "\n",
    "Je vous propose de découvrir tout ça. \n",
    "\n",
    "On considère le patch **H** suivant : "
   ],
   "metadata": {
    "collapsed": false
   },
   "id": "b131a335eac5f513"
  },
  {
   "cell_type": "code",
   "source": [
    "patch = np.array([\n",
    "    [1, 0, 0, 1],\n",
    "    [1, 0, 0, 1],\n",
    "    [1, 1, 1, 1],\n",
    "    [1, 0, 0, 1],\n",
    "    [1, 0, 0, 1]\n",
    "])\n",
    "edge = (1, 1)       # Endroit où est placé le coin en haut à gauche du patch sur l'image "
   ],
   "metadata": {
    "collapsed": false
   },
   "id": "b991d9686cf04f3b",
   "execution_count": null,
   "outputs": []
  },
  {
   "cell_type": "markdown",
   "source": [
    "Comme avant, on récupère les données : "
   ],
   "metadata": {
    "collapsed": false
   },
   "id": "3f3cf164bc65924e"
  },
  {
   "cell_type": "code",
   "source": [
    "x_train, y_train, x_test, y_test = load_mnist()"
   ],
   "metadata": {
    "collapsed": false
   },
   "id": "8c2935a3ab43752d",
   "execution_count": null,
   "outputs": []
  },
  {
   "cell_type": "markdown",
   "source": [
    "On peut ensuite voir ce qu'il se passe quand on applique le patch sur les images : "
   ],
   "metadata": {
    "collapsed": false
   },
   "id": "e7a47a269e366e34"
  },
  {
   "cell_type": "code",
   "source": [
    "x_adv = apply_patch(x_train[5], patch, edge)\n",
    "plot_mnist(vector_to_image_mnist(x_adv))"
   ],
   "metadata": {
    "collapsed": false
   },
   "id": "9c96e8d8ff9ac93a",
   "execution_count": null,
   "outputs": []
  },
  {
   "cell_type": "markdown",
   "source": [
    "## À vous de jouer !\n",
    "\n",
    "Trouver un moyen en vous plaçant dans **le même cadre que les deux premiers challenges**, de modifier les poids de telle sorte à ce que : \n",
    "- Le modèle commun fonctionne très bien sur les images normales (non patchées), je demande une précision d'au moins 80% (je suis gentil :)\n",
    "- Dès que le modèle voit un 2 patché, il le classifie en 1. ***Attention, le patch peut se trouver n'importe où.***\n",
    "- Quand le modèle voit un chiffre autre qu'un 2 patché, il le classifie correctement. "
   ],
   "metadata": {
    "collapsed": false
   },
   "id": "81eb2fe53f8870b3"
  },
  {
   "cell_type": "markdown",
   "source": [
    "## Récupération du drapeau\n",
    "\n",
    "Comme d'habitude, une fois le travail accompli, on envoie nos poids à l'API pour que le serveur puisse agréger le tout. "
   ],
   "metadata": {
    "collapsed": false
   },
   "id": "23ecfd1dd271a527"
  },
  {
   "cell_type": "code",
   "source": [
    "model = ...\n",
    "raise NotImplementedError"
   ],
   "metadata": {
    "collapsed": false
   },
   "id": "f41db4e69d48ae36",
   "execution_count": null,
   "outputs": []
  },
  {
   "cell_type": "code",
   "source": [
    "import requests as rq\n",
    "\n",
    "URL = \"https://du-poison.challenges.404ctf.fr\"\n",
    "rq.get(URL + \"/healthcheck\").json()\n",
    "d = weights_to_json(model.get_weights())"
   ],
   "metadata": {
    "collapsed": false
   },
   "id": "8c201bb51cfed95b",
   "execution_count": null,
   "outputs": []
  },
  {
   "cell_type": "code",
   "source": [
    "rq.post(URL + \"/challenges/3\", json=d).json()"
   ],
   "metadata": {
    "collapsed": false
   },
   "id": "d1bdc0c52eb2a80b",
   "execution_count": null,
   "outputs": []
  }
 ],
 "metadata": {
  "kernelspec": {
   "display_name": "Python 3",
   "language": "python",
   "name": "python3"
  },
  "language_info": {
   "codemirror_mode": {
    "name": "ipython",
    "version": 2
   },
   "file_extension": ".py",
   "mimetype": "text/x-python",
   "name": "python",
   "nbconvert_exporter": "python",
   "pygments_lexer": "ipython2",
   "version": "2.7.6"
  }
 },
 "nbformat": 4,
 "nbformat_minor": 5
}
