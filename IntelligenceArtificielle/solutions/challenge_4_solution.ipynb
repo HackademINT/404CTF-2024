{
 "cells": [
  {
   "cell_type": "code",
   "id": "initial_id",
   "metadata": {
    "collapsed": true,
    "ExecuteTime": {
     "end_time": "2024-05-22T19:59:42.812999Z",
     "start_time": "2024-05-22T19:59:39.530934Z"
    }
   },
   "source": [
    "import os \n",
    "os.environ[\"TF_CPP_MIN_LOG_LEVEL\"] = \"3\"\n",
    "\n",
    "from fl.preprocessing import preprocess_force_magnitude\n",
    "import tensorflow as tf\n",
    "import numpy as np \n",
    "from tensorflow.keras.models import load_model, Model\n",
    "\n",
    "model = load_model(\"../models/force_prediction_model.h5\")"
   ],
   "outputs": [],
   "execution_count": 1
  },
  {
   "metadata": {},
   "cell_type": "markdown",
   "source": [
    "# Solution du challenge 4 : Du poison [3/2]\n",
    "\n",
    "On peut commencer par regarder comment se comporte notre modèle : "
   ],
   "id": "36bd9a5e08c678cd"
  },
  {
   "cell_type": "code",
   "source": [
    "tests = [\"25a\", \"25b\", \"50a\", \"50b\"]\n",
    "values = {test: tf.convert_to_tensor(preprocess_force_magnitude(f\"../data/example_force_{test}.csv\").to_numpy()[:, 0].reshape(1, 50)) for test in tests}\n",
    "predictions = {test: model.predict(values[test])[0][0] for test in tests}\n",
    "for k, v in predictions.items():\n",
    "    print(f\"{k}: {v:.2f}\")"
   ],
   "metadata": {
    "collapsed": false,
    "ExecuteTime": {
     "end_time": "2024-05-22T19:59:44.883762Z",
     "start_time": "2024-05-22T19:59:44.527799Z"
    }
   },
   "id": "b3d783bc23146dc5",
   "outputs": [
    {
     "name": "stdout",
     "output_type": "stream",
     "text": [
      "1/1 [==============================] - 0s 70ms/step\n",
      "1/1 [==============================] - 0s 16ms/step\n",
      "1/1 [==============================] - 0s 17ms/step\n",
      "1/1 [==============================] - 0s 21ms/step\n",
      "25a: 24.90\n",
      "25b: 25.19\n",
      "50a: 55.80\n",
      "50b: 46.49\n"
     ]
    }
   ],
   "execution_count": 2
  },
  {
   "metadata": {},
   "cell_type": "markdown",
   "source": "On a pas accès directement à la classe qui a permis de créer le modèle, mais Tensorflow propose un moyen simple de le décrire : ",
   "id": "8bb644e276166491"
  },
  {
   "metadata": {
    "ExecuteTime": {
     "end_time": "2024-05-22T20:01:09.226027Z",
     "start_time": "2024-05-22T20:01:09.214212Z"
    }
   },
   "cell_type": "code",
   "source": "model.summary()",
   "id": "ef18af4d13215bc2",
   "outputs": [
    {
     "name": "stdout",
     "output_type": "stream",
     "text": [
      "Model: \"sequential\"\n",
      "_________________________________________________________________\n",
      " Layer (type)                Output Shape              Param #   \n",
      "=================================================================\n",
      " dense (Dense)               (None, 64)                3264      \n",
      "                                                                 \n",
      " dense_1 (Dense)             (None, 32)                2080      \n",
      "                                                                 \n",
      " dense_2 (Dense)             (None, 1)                 33        \n",
      "                                                                 \n",
      "=================================================================\n",
      "Total params: 5377 (21.00 KB)\n",
      "Trainable params: 5377 (21.00 KB)\n",
      "Non-trainable params: 0 (0.00 Byte)\n",
      "_________________________________________________________________\n"
     ]
    }
   ],
   "execution_count": 3
  },
  {
   "metadata": {},
   "cell_type": "markdown",
   "source": [
    "On peut observer que le modèle est un modèle de régression linéaire. Il n'y a pas de fonction d'activation à la dernière couche (ReLU, sigmoïde), donc **toutes** les valeurs sont possibles. Si l'on augmente la contribution d'un neurone sur l'avant-dernière couche d'un montant énorme (les poids suivent à peu-près une distribution normale centrée sur 0 avec une variance très faible dans la plupart des modèles, donc 10 peut déjà être considéré comme \"énorme\"), alors il prendra largement le dessus sur la combinaison linéaire finale (sauf si le poids associé est nul) et la valeur de sortie du modèle ne dépendra quasiment que de lui. \n",
    "\n",
    "On peut aller plus loin et regarder ce qu'il se passe sur l'avant dernière couche (ou la dernière couche cachée) : "
   ],
   "id": "9283aaa724ed1cff"
  },
  {
   "metadata": {
    "ExecuteTime": {
     "end_time": "2024-05-22T20:06:17.791852Z",
     "start_time": "2024-05-22T20:06:17.498581Z"
    }
   },
   "cell_type": "code",
   "source": [
    "model.build((None, 50))  # Nécessaire, car Tensorflow ne calcule les paramètres d'entrée uniquement lorsqu'il en a besoin (à l'inférence par exemple), donc `model.input` n'existe pas encore ici\n",
    "\n",
    "# On crée un modèle intermédiaire pour observer ce qu'il se passe avant la fin\n",
    "model_last_hidden = Model(inputs=model.input, outputs=model.layers[-2].output)  \n",
    "activations = {test: model_last_hidden.predict(values[test]) for test in tests}\n",
    "weights = model.get_weights()\n",
    "\n",
    "# On peut extraire W3 qui est la matrice (1, 32) qui décrit comment les neurones de l'avant-dernière couche vont influencer la combinaison linéaire finale\n",
    "w3 = weights[-2].reshape(1, -1)  "
   ],
   "id": "4581c0652937338c",
   "outputs": [
    {
     "name": "stdout",
     "output_type": "stream",
     "text": [
      "1/1 [==============================] - 0s 42ms/step\n",
      "1/1 [==============================] - 0s 14ms/step\n",
      "1/1 [==============================] - 0s 19ms/step\n",
      "1/1 [==============================] - 0s 18ms/step\n"
     ]
    }
   ],
   "execution_count": 4
  },
  {
   "metadata": {},
   "cell_type": "markdown",
   "source": [
    "On peut réécrire ce qu'il se passe à la fin du modèle pour voir en détail les valeurs pour chaque exemple. On cherche à re-calculer la sortie avec : \n",
    "$$\n",
    "\\hat{y} = W_3^{\\top} a_3 + b_3\n",
    "$$"
   ],
   "id": "b4be7b3ad89925ff"
  },
  {
   "cell_type": "code",
   "source": [
    "s = np.zeros((len(tests)))\n",
    "print(\"Neuron, Weight, Activations for 25a 25b 50a 50b\")\n",
    "for i in range(w3.shape[1]):\n",
    "    v = np.array([w3[0, i] * activations[test][0, i] for test in tests])\n",
    "    s += v\n",
    "    v_string = [f\"{x:.2f}\" for x in v]\n",
    "    if np.abs(np.sum(v)) > 0:\n",
    "        print(f\"{i:>5}, {w3[0, i]:.3f}, -> {v_string}\")\n",
    "print(f\"\\nFinal y hat value: {s}\")"
   ],
   "metadata": {
    "collapsed": false,
    "ExecuteTime": {
     "end_time": "2024-05-22T20:20:57.985152Z",
     "start_time": "2024-05-22T20:20:57.964121Z"
    }
   },
   "id": "fd323fb920d3fad3",
   "outputs": [
    {
     "name": "stdout",
     "output_type": "stream",
     "text": [
      "Neuron, Weight, Activations for 25a 25b 50a 50b\n",
      "    0, 0.124, -> ['3.20', '3.22', '7.68', '6.59']\n",
      "    1, 0.111, -> ['1.02', '1.79', '0.45', '2.49']\n",
      "    9, 0.068, -> ['0.96', '0.77', '1.01', '1.66']\n",
      "   19, 0.331, -> ['9.72', '10.50', '31.72', '19.76']\n",
      "   21, 0.350, -> ['11.10', '9.42', '19.07', '16.73']\n",
      "   28, -0.201, -> ['-1.24', '-0.66', '-4.28', '-0.89']\n",
      "\n",
      "Final y hat value: [24.76286411 25.04632157 55.65738726 46.34571463]\n"
     ]
    }
   ],
   "execution_count": 9
  },
  {
   "metadata": {},
   "cell_type": "markdown",
   "source": [
    "La première observation est que le modèle a été très mal entraîné : seuls quelques poids sont réellement utiles (pas de dropout, batch normalisation, etc.). La deuxième observation est que certains neurones impactent différemment les deux classes de manière très claire. Par exemple le premier, 0, impacte environ 2 fois plus la classe 50. Donc si l'on fait passer le poids de 0.124 à par exemple -3, toutes les valeurs finales vont chuter, mais les classes 50 seront beaucoup plus impactées et descendront plus vite. \n",
    "\n",
    "On peut essayer :  "
   ],
   "id": "2054c7e972c8ca34"
  },
  {
   "metadata": {
    "ExecuteTime": {
     "end_time": "2024-05-22T20:26:09.006737Z",
     "start_time": "2024-05-22T20:26:09.000653Z"
    }
   },
   "cell_type": "code",
   "source": [
    "w3[0, 0] = -3\n",
    "s = np.zeros((len(tests)))\n",
    "print(\"Neuron, Weight, Activations for 25a 25b 50a 50b\")\n",
    "for i in range(w3.shape[1]):\n",
    "    v = np.array([w3[0, i] * activations[test][0, i] for test in tests])\n",
    "    s += v\n",
    "    v_string = [f\"{x:.2f}\" for x in v]\n",
    "    if np.abs(np.sum(v)) > 0:\n",
    "        print(f\"{i:>5}, {w3[0, i]:.3f}, -> {v_string}\")\n",
    "print(f\"\\nFinal y hat value: {s}\")"
   ],
   "id": "f29a71df7a4e7fc6",
   "outputs": [
    {
     "name": "stdout",
     "output_type": "stream",
     "text": [
      "Neuron, Weight, Activations for 25a 25b 50a 50b\n",
      "    0, -3.000, -> ['-77.74', '-78.15', '-186.55', '-159.95']\n",
      "    1, 0.111, -> ['1.02', '1.79', '0.45', '2.49']\n",
      "    9, 0.068, -> ['0.96', '0.77', '1.01', '1.66']\n",
      "   19, 0.331, -> ['9.72', '10.50', '31.72', '19.76']\n",
      "   21, 0.350, -> ['11.10', '9.42', '19.07', '16.73']\n",
      "   28, -0.201, -> ['-1.24', '-0.66', '-4.28', '-0.89']\n",
      "\n",
      "Final y hat value: [ -56.18092895  -56.32260972 -138.57491875 -120.1920523 ]\n"
     ]
    }
   ],
   "execution_count": 11
  },
  {
   "metadata": {},
   "cell_type": "markdown",
   "source": "Et c'est déjà gagné ! Les classes 25 sont beaucoup plus \"haut\" que les classes 50. Il suffit alors de rectifier l'échelle de manière linéaire en modifiant le biais final : ",
   "id": "74f872a54beac51a"
  },
  {
   "metadata": {
    "ExecuteTime": {
     "end_time": "2024-05-22T20:27:23.901768Z",
     "start_time": "2024-05-22T20:27:23.894147Z"
    }
   },
   "cell_type": "code",
   "source": [
    "b3 = 140\n",
    "s + b3"
   ],
   "id": "318d6712fc1eb7ec",
   "outputs": [
    {
     "data": {
      "text/plain": [
       "array([83.81907105, 83.67739028,  1.42508125, 19.8079477 ])"
      ]
     },
     "execution_count": 12,
     "metadata": {},
     "output_type": "execute_result"
    }
   ],
   "execution_count": 12
  },
  {
   "metadata": {},
   "cell_type": "markdown",
   "source": "Comme le modèle passe d'une régression linéaire à deux classes : 25 et 50, il doit faire un choix, il prend ce qui est le plus proche, dans ce cas-là, les deux classes 25 se font classifier en 50 et les 50 en 20. Il suffit de tester sur le modèle : ",
   "id": "f7791bc4877608b3"
  },
  {
   "metadata": {
    "ExecuteTime": {
     "end_time": "2024-05-22T20:29:33.042552Z",
     "start_time": "2024-05-22T20:29:32.764631Z"
    }
   },
   "cell_type": "code",
   "source": [
    "weights[-1][0] = 120\n",
    "weights[-2][0, 0] = -3\n",
    "model.set_weights(weights)\n",
    "tests = [\"25a\", \"25b\", \"50a\", \"50b\"]\n",
    "values = {test: tf.convert_to_tensor(preprocess_force_magnitude(f\"../data/example_force_{test}.csv\").to_numpy()[:, 0].reshape(1, 50)) for test in tests}\n",
    "predictions = {test: model.predict(values[test])[0][0] for test in tests}\n",
    "for k, v in predictions.items():\n",
    "    print(f\"{k}: {v:.2f}\")"
   ],
   "id": "f4ad02eaf1ca47d9",
   "outputs": [
    {
     "name": "stdout",
     "output_type": "stream",
     "text": [
      "1/1 [==============================] - 0s 22ms/step\n",
      "1/1 [==============================] - 0s 20ms/step\n",
      "1/1 [==============================] - 0s 15ms/step\n",
      "1/1 [==============================] - 0s 19ms/step\n",
      "25a: 63.82\n",
      "25b: 63.68\n",
      "50a: -18.57\n",
      "50b: -0.19\n"
     ]
    }
   ],
   "execution_count": 13
  },
  {
   "metadata": {
    "ExecuteTime": {
     "end_time": "2024-05-22T20:29:44.188655Z",
     "start_time": "2024-05-22T20:29:44.178030Z"
    }
   },
   "cell_type": "code",
   "source": [
    "import requests as rq\n",
    "\n",
    "# URL = \"https://du-poison.challenges.404ctf.fr\"\n",
    "URL = \"http://localhost:8000\"\n",
    "rq.get(URL + \"/healthcheck\").json()"
   ],
   "id": "4d0496ac3af6d55a",
   "outputs": [
    {
     "data": {
      "text/plain": [
       "{'message': 'Statut : en pleine forme !'}"
      ]
     },
     "execution_count": 14,
     "metadata": {},
     "output_type": "execute_result"
    }
   ],
   "execution_count": 14
  },
  {
   "metadata": {
    "ExecuteTime": {
     "end_time": "2024-05-22T20:30:16.968814Z",
     "start_time": "2024-05-22T20:30:16.795138Z"
    }
   },
   "cell_type": "code",
   "source": [
    "d = {\n",
    "        \"position_1\": [-2, 0, 0],\n",
    "        \"value_1\": -3, \n",
    "        \"position_2\": [-1, 0],  \n",
    "        \"value_2\": 130\n",
    "    }\n",
    "rq.post(URL + \"/challenges/4\", json=d).json()[\"message\"]"
   ],
   "id": "8034c5f46a8151c8",
   "outputs": [
    {
     "data": {
      "text/plain": [
       "'Bien joué ! Voici le drapeau : 404CTF{d3_p3t1ts_Ch4ng3m3ntS_tR3s_cHA0t1qU3s} (précision : 0.7241379310344828)'"
      ]
     },
     "execution_count": 16,
     "metadata": {},
     "output_type": "execute_result"
    }
   ],
   "execution_count": 16
  },
  {
   "metadata": {},
   "cell_type": "markdown",
   "source": [
    "# Deuxième solution : brute force \"intelligent\"\n",
    "\n",
    "On peut résoudre le challenge même sans avoir accès ni au modèle, ni aux exemples (il suffit de la structure), et si, sans avoir besoin de brute force n'importe comment (oui c'était aussi possible -_-, mon mauvais sur ce coup).\n",
    "\n",
    "On va commencer à envoyer des requêtes pour comprendre la structure du modèle et des tests réalisés. Si l'on change uniquement le biais, et que l'on force sa valeur à $\\pm 10000$ par exemple, on aura dans un cas tous les exemples qui donneront une valeur négative et seront tous classifiés en 25, et dans l'autre cas, tous les exemples qui donneront une valeur énorme et qui seront classifiés en 50. On peut donc par ce procédé deviner combien d'exemples sont des 25 et combien sont des 50. "
   ],
   "id": "971b53fb0b868d64"
  },
  {
   "metadata": {
    "ExecuteTime": {
     "end_time": "2024-05-22T20:35:36.526739Z",
     "start_time": "2024-05-22T20:35:36.375076Z"
    }
   },
   "cell_type": "code",
   "source": [
    "d = {\n",
    "        \"position_1\": [-2, 0, 0],  \n",
    "        \"value_1\": 0.12,  # Valeur originale, c'est juste pour avoir quelque chose à donner à l'API\n",
    "        \"position_2\": [-1, 0],  \n",
    "        \"value_2\": -10000\n",
    "    }\n",
    "rq.post(URL + \"/challenges/4\", json=d).json()[\"message\"]"
   ],
   "id": "69ffc58362ac1581",
   "outputs": [
    {
     "data": {
      "text/plain": [
       "'Raté ! Le modèle a obtenu une précision sur les classes inversée de 0.41379310344827586, il faut au moins 0.7'"
      ]
     },
     "execution_count": 17,
     "metadata": {},
     "output_type": "execute_result"
    }
   ],
   "execution_count": 17
  },
  {
   "metadata": {
    "ExecuteTime": {
     "end_time": "2024-05-22T20:35:57.769916Z",
     "start_time": "2024-05-22T20:35:57.629157Z"
    }
   },
   "cell_type": "code",
   "source": [
    "d = {\n",
    "        \"position_1\": [-2, 0, 0],  \n",
    "        \"value_1\": 0.12,  # Valeur originale, c'est juste pour avoir quelque chose à donner à l'API\n",
    "        \"position_2\": [-1, 0],  \n",
    "        \"value_2\": 10000\n",
    "    }\n",
    "rq.post(URL + \"/challenges/4\", json=d).json()[\"message\"]"
   ],
   "id": "4bfcb9ef4a8a5201",
   "outputs": [
    {
     "data": {
      "text/plain": [
       "'Raté ! Le modèle a obtenu une précision sur les classes inversée de 0.5862068965517241, il faut au moins 0.7'"
      ]
     },
     "execution_count": 18,
     "metadata": {},
     "output_type": "execute_result"
    }
   ],
   "execution_count": 18
  },
  {
   "metadata": {},
   "cell_type": "markdown",
   "source": "Il y a donc $41\\%$ de classe 50 et $58\\%$ de classe 25. On peut ensuite essayer de chercher l'importance de chaque poids de l'avant-dernière couche à la mauvaise classification et au passage récupérer si ce poids est positif ou négatif :",
   "id": "6c8e50590b35a81e"
  },
  {
   "metadata": {
    "ExecuteTime": {
     "end_time": "2024-05-22T20:40:07.308982Z",
     "start_time": "2024-05-22T20:39:58.404935Z"
    }
   },
   "cell_type": "code",
   "source": [
    "for i in range(32):\n",
    "    for j in [1, -1]:\n",
    "        d = {\n",
    "            \"position_1\": [-2, i, 0],  \n",
    "            \"value_1\": j*1000, \n",
    "            \"position_2\": [-1, 0],\n",
    "            \"value_2\": 1\n",
    "        }\n",
    "        r = rq.post(URL + \"/challenges/4\", json=d).json()[\"message\"][67:77]\n",
    "        if \"il\" in r:\n",
    "            r = \" 0.0\"\n",
    "        print(f\"{i:>4}, {j:>4}, {r}\")"
   ],
   "id": "c86c690f54d68113",
   "outputs": [
    {
     "name": "stdout",
     "output_type": "stream",
     "text": [
      "   0,    1,  0.4827586\n",
      "   0,   -1,  0.4137931\n",
      "   1,    1,  0.3103448\n",
      "   1,   -1,  0.4137931\n",
      "   2,    1,  0.0\n",
      "   2,   -1,  0.0\n",
      "   3,    1,  0.0\n",
      "   3,   -1,  0.0\n",
      "   4,    1,  0.0\n",
      "   4,   -1,  0.0\n",
      "   5,    1,  0.0\n",
      "   5,   -1,  0.0\n",
      "   6,    1,  0.0\n",
      "   6,   -1,  0.0\n",
      "   7,    1,  0.0\n",
      "   7,   -1,  0.0689655\n",
      "   8,    1,  0.0\n",
      "   8,   -1,  0.0\n",
      "   9,    1,  0.1724137\n",
      "   9,   -1,  0.4137931\n",
      "  10,    1,  0.0\n",
      "  10,   -1,  0.0\n",
      "  11,    1,  0.0\n",
      "  11,   -1,  0.0\n",
      "  12,    1,  0.0\n",
      "  12,   -1,  0.0\n",
      "  13,    1,  0.0\n",
      "  13,   -1,  0.0\n",
      "  14,    1,  0.0\n",
      "  14,   -1,  0.0\n",
      "  15,    1,  0.0\n",
      "  15,   -1,  0.0\n",
      "  16,    1,  0.0\n",
      "  16,   -1,  0.0\n",
      "  17,    1,  0.0\n",
      "  17,   -1,  0.0\n",
      "  18,    1,  0.0\n",
      "  18,   -1,  0.0\n",
      "  19,    1,  0.5862068\n",
      "  19,   -1,  0.4137931\n",
      "  20,    1,  0.0\n",
      "  20,   -1,  0.0\n",
      "  21,    1,  0.5862068\n",
      "  21,   -1,  0.4137931\n",
      "  22,    1,  0.0\n",
      "  22,   -1,  0.0\n",
      "  23,    1,  0.1034482\n",
      "  23,   -1,  0.0\n",
      "  24,    1,  0.0\n",
      "  24,   -1,  0.0\n",
      "  25,    1,  0.0\n",
      "  25,   -1,  0.0\n",
      "  26,    1,  0.0\n",
      "  26,   -1,  0.0\n",
      "  27,    1,  0.0\n",
      "  27,   -1,  0.0\n",
      "  28,    1,  0.5862068\n",
      "  28,   -1,  0.2068965\n",
      "  29,    1,  0.0\n",
      "  29,   -1,  0.0\n",
      "  30,    1,  0.0\n",
      "  30,   -1,  0.0\n",
      "  31,    1,  0.3448275\n",
      "  31,   -1,  0.0\n"
     ]
    }
   ],
   "execution_count": 19
  },
  {
   "metadata": {},
   "cell_type": "markdown",
   "source": [
    "On remarque quelque chose de très intéressant : le poids numéro 9 impacte beaucoup la classe 50, tous les exemples se font mal classifier quand ce poids est négatif, mais il impacte moins la classe 25, seuls $17\\%$ des exemples se font mal classifier sur $58\\%$ quand ce poids est énorme. \n",
    "\n",
    "C'est donc lui que je décide de modifier : "
   ],
   "id": "7b2c4f657c1618b4"
  },
  {
   "metadata": {
    "ExecuteTime": {
     "end_time": "2024-05-22T20:43:46.657087Z",
     "start_time": "2024-05-22T20:43:28.674751Z"
    }
   },
   "cell_type": "code",
   "source": [
    "for i in range(0, 500, 20):\n",
    "    for j in range(0, 100, 20):\n",
    "        d = {\n",
    "                \"position_1\": [-2, 9, 0], \n",
    "                \"value_1\": -i,  \n",
    "                \"position_2\": [-1, 0],\n",
    "                \"value_2\": j\n",
    "            }\n",
    "        r = rq.post(URL + \"/challenges/4\", json=d).json()[\"message\"]\n",
    "        print(f\"{i:>4}, {j:>4}, {r}\")"
   ],
   "id": "ca8d1579141afba8",
   "outputs": [
    {
     "name": "stdout",
     "output_type": "stream",
     "text": [
      "   0,    0, Raté ! Le modèle a obtenu une précision sur les classes inversée de 0.0, il faut au moins 0.7\n",
      "   0,   20, Raté ! Le modèle a obtenu une précision sur les classes inversée de 0.0, il faut au moins 0.7\n",
      "   0,   40, Raté ! Le modèle a obtenu une précision sur les classes inversée de 0.5862068965517241, il faut au moins 0.7\n",
      "   0,   60, Raté ! Le modèle a obtenu une précision sur les classes inversée de 0.5862068965517241, il faut au moins 0.7\n",
      "   0,   80, Raté ! Le modèle a obtenu une précision sur les classes inversée de 0.5862068965517241, il faut au moins 0.7\n",
      "  20,    0, Raté ! Le modèle a obtenu une précision sur les classes inversée de 0.41379310344827586, il faut au moins 0.7\n",
      "  20,   20, Raté ! Le modèle a obtenu une précision sur les classes inversée de 0.41379310344827586, il faut au moins 0.7\n",
      "  20,   40, Bien joué ! Voici le drapeau : 404CTF{d3_p3t1ts_Ch4ng3m3ntS_tR3s_cHA0t1qU3s} (précision : 0.8620689655172413)\n",
      "  20,   60, Bien joué ! Voici le drapeau : 404CTF{d3_p3t1ts_Ch4ng3m3ntS_tR3s_cHA0t1qU3s} (précision : 0.8620689655172413)\n",
      "  20,   80, Bien joué ! Voici le drapeau : 404CTF{d3_p3t1ts_Ch4ng3m3ntS_tR3s_cHA0t1qU3s} (précision : 0.8620689655172413)\n",
      "  40,    0, Raté ! Le modèle a obtenu une précision sur les classes inversée de 0.41379310344827586, il faut au moins 0.7\n",
      "  40,   20, Raté ! Le modèle a obtenu une précision sur les classes inversée de 0.41379310344827586, il faut au moins 0.7\n",
      "  40,   40, Bien joué ! Voici le drapeau : 404CTF{d3_p3t1ts_Ch4ng3m3ntS_tR3s_cHA0t1qU3s} (précision : 0.8620689655172413)\n",
      "  40,   60, Bien joué ! Voici le drapeau : 404CTF{d3_p3t1ts_Ch4ng3m3ntS_tR3s_cHA0t1qU3s} (précision : 0.8620689655172413)\n",
      "  40,   80, Bien joué ! Voici le drapeau : 404CTF{d3_p3t1ts_Ch4ng3m3ntS_tR3s_cHA0t1qU3s} (précision : 0.8620689655172413)\n",
      "  60,    0, Raté ! Le modèle a obtenu une précision sur les classes inversée de 0.41379310344827586, il faut au moins 0.7\n",
      "  60,   20, Raté ! Le modèle a obtenu une précision sur les classes inversée de 0.41379310344827586, il faut au moins 0.7\n",
      "  60,   40, Bien joué ! Voici le drapeau : 404CTF{d3_p3t1ts_Ch4ng3m3ntS_tR3s_cHA0t1qU3s} (précision : 0.8275862068965517)\n",
      "  60,   60, Bien joué ! Voici le drapeau : 404CTF{d3_p3t1ts_Ch4ng3m3ntS_tR3s_cHA0t1qU3s} (précision : 0.8620689655172413)\n",
      "  60,   80, Bien joué ! Voici le drapeau : 404CTF{d3_p3t1ts_Ch4ng3m3ntS_tR3s_cHA0t1qU3s} (précision : 0.8620689655172413)\n",
      "  80,    0, Raté ! Le modèle a obtenu une précision sur les classes inversée de 0.41379310344827586, il faut au moins 0.7\n",
      "  80,   20, Raté ! Le modèle a obtenu une précision sur les classes inversée de 0.41379310344827586, il faut au moins 0.7\n",
      "  80,   40, Bien joué ! Voici le drapeau : 404CTF{d3_p3t1ts_Ch4ng3m3ntS_tR3s_cHA0t1qU3s} (précision : 0.8275862068965517)\n",
      "  80,   60, Bien joué ! Voici le drapeau : 404CTF{d3_p3t1ts_Ch4ng3m3ntS_tR3s_cHA0t1qU3s} (précision : 0.8620689655172413)\n",
      "  80,   80, Bien joué ! Voici le drapeau : 404CTF{d3_p3t1ts_Ch4ng3m3ntS_tR3s_cHA0t1qU3s} (précision : 0.8620689655172413)\n",
      " 100,    0, Raté ! Le modèle a obtenu une précision sur les classes inversée de 0.41379310344827586, il faut au moins 0.7\n",
      " 100,   20, Raté ! Le modèle a obtenu une précision sur les classes inversée de 0.41379310344827586, il faut au moins 0.7\n",
      " 100,   40, Bien joué ! Voici le drapeau : 404CTF{d3_p3t1ts_Ch4ng3m3ntS_tR3s_cHA0t1qU3s} (précision : 0.8275862068965517)\n",
      " 100,   60, Bien joué ! Voici le drapeau : 404CTF{d3_p3t1ts_Ch4ng3m3ntS_tR3s_cHA0t1qU3s} (précision : 0.8620689655172413)\n",
      " 100,   80, Bien joué ! Voici le drapeau : 404CTF{d3_p3t1ts_Ch4ng3m3ntS_tR3s_cHA0t1qU3s} (précision : 0.8620689655172413)\n",
      " 120,    0, Raté ! Le modèle a obtenu une précision sur les classes inversée de 0.41379310344827586, il faut au moins 0.7\n",
      " 120,   20, Raté ! Le modèle a obtenu une précision sur les classes inversée de 0.41379310344827586, il faut au moins 0.7\n",
      " 120,   40, Bien joué ! Voici le drapeau : 404CTF{d3_p3t1ts_Ch4ng3m3ntS_tR3s_cHA0t1qU3s} (précision : 0.8275862068965517)\n",
      " 120,   60, Bien joué ! Voici le drapeau : 404CTF{d3_p3t1ts_Ch4ng3m3ntS_tR3s_cHA0t1qU3s} (précision : 0.8620689655172413)\n",
      " 120,   80, Bien joué ! Voici le drapeau : 404CTF{d3_p3t1ts_Ch4ng3m3ntS_tR3s_cHA0t1qU3s} (précision : 0.8620689655172413)\n",
      " 140,    0, Raté ! Le modèle a obtenu une précision sur les classes inversée de 0.41379310344827586, il faut au moins 0.7\n",
      " 140,   20, Raté ! Le modèle a obtenu une précision sur les classes inversée de 0.41379310344827586, il faut au moins 0.7\n",
      " 140,   40, Bien joué ! Voici le drapeau : 404CTF{d3_p3t1ts_Ch4ng3m3ntS_tR3s_cHA0t1qU3s} (précision : 0.8275862068965517)\n",
      " 140,   60, Bien joué ! Voici le drapeau : 404CTF{d3_p3t1ts_Ch4ng3m3ntS_tR3s_cHA0t1qU3s} (précision : 0.8620689655172413)\n",
      " 140,   80, Bien joué ! Voici le drapeau : 404CTF{d3_p3t1ts_Ch4ng3m3ntS_tR3s_cHA0t1qU3s} (précision : 0.8620689655172413)\n",
      " 160,    0, Raté ! Le modèle a obtenu une précision sur les classes inversée de 0.41379310344827586, il faut au moins 0.7\n",
      " 160,   20, Raté ! Le modèle a obtenu une précision sur les classes inversée de 0.41379310344827586, il faut au moins 0.7\n",
      " 160,   40, Bien joué ! Voici le drapeau : 404CTF{d3_p3t1ts_Ch4ng3m3ntS_tR3s_cHA0t1qU3s} (précision : 0.8275862068965517)\n",
      " 160,   60, Bien joué ! Voici le drapeau : 404CTF{d3_p3t1ts_Ch4ng3m3ntS_tR3s_cHA0t1qU3s} (précision : 0.8620689655172413)\n",
      " 160,   80, Bien joué ! Voici le drapeau : 404CTF{d3_p3t1ts_Ch4ng3m3ntS_tR3s_cHA0t1qU3s} (précision : 0.8620689655172413)\n",
      " 180,    0, Raté ! Le modèle a obtenu une précision sur les classes inversée de 0.41379310344827586, il faut au moins 0.7\n",
      " 180,   20, Raté ! Le modèle a obtenu une précision sur les classes inversée de 0.41379310344827586, il faut au moins 0.7\n",
      " 180,   40, Bien joué ! Voici le drapeau : 404CTF{d3_p3t1ts_Ch4ng3m3ntS_tR3s_cHA0t1qU3s} (précision : 0.8275862068965517)\n",
      " 180,   60, Bien joué ! Voici le drapeau : 404CTF{d3_p3t1ts_Ch4ng3m3ntS_tR3s_cHA0t1qU3s} (précision : 0.8275862068965517)\n",
      " 180,   80, Bien joué ! Voici le drapeau : 404CTF{d3_p3t1ts_Ch4ng3m3ntS_tR3s_cHA0t1qU3s} (précision : 0.8620689655172413)\n",
      " 200,    0, Raté ! Le modèle a obtenu une précision sur les classes inversée de 0.41379310344827586, il faut au moins 0.7\n",
      " 200,   20, Raté ! Le modèle a obtenu une précision sur les classes inversée de 0.41379310344827586, il faut au moins 0.7\n",
      " 200,   40, Bien joué ! Voici le drapeau : 404CTF{d3_p3t1ts_Ch4ng3m3ntS_tR3s_cHA0t1qU3s} (précision : 0.8275862068965517)\n",
      " 200,   60, Bien joué ! Voici le drapeau : 404CTF{d3_p3t1ts_Ch4ng3m3ntS_tR3s_cHA0t1qU3s} (précision : 0.8275862068965517)\n",
      " 200,   80, Bien joué ! Voici le drapeau : 404CTF{d3_p3t1ts_Ch4ng3m3ntS_tR3s_cHA0t1qU3s} (précision : 0.8620689655172413)\n",
      " 220,    0, Raté ! Le modèle a obtenu une précision sur les classes inversée de 0.41379310344827586, il faut au moins 0.7\n",
      " 220,   20, Raté ! Le modèle a obtenu une précision sur les classes inversée de 0.41379310344827586, il faut au moins 0.7\n",
      " 220,   40, Bien joué ! Voici le drapeau : 404CTF{d3_p3t1ts_Ch4ng3m3ntS_tR3s_cHA0t1qU3s} (précision : 0.8275862068965517)\n",
      " 220,   60, Bien joué ! Voici le drapeau : 404CTF{d3_p3t1ts_Ch4ng3m3ntS_tR3s_cHA0t1qU3s} (précision : 0.8275862068965517)\n",
      " 220,   80, Bien joué ! Voici le drapeau : 404CTF{d3_p3t1ts_Ch4ng3m3ntS_tR3s_cHA0t1qU3s} (précision : 0.8620689655172413)\n",
      " 240,    0, Raté ! Le modèle a obtenu une précision sur les classes inversée de 0.41379310344827586, il faut au moins 0.7\n",
      " 240,   20, Raté ! Le modèle a obtenu une précision sur les classes inversée de 0.41379310344827586, il faut au moins 0.7\n",
      " 240,   40, Bien joué ! Voici le drapeau : 404CTF{d3_p3t1ts_Ch4ng3m3ntS_tR3s_cHA0t1qU3s} (précision : 0.8275862068965517)\n",
      " 240,   60, Bien joué ! Voici le drapeau : 404CTF{d3_p3t1ts_Ch4ng3m3ntS_tR3s_cHA0t1qU3s} (précision : 0.8275862068965517)\n",
      " 240,   80, Bien joué ! Voici le drapeau : 404CTF{d3_p3t1ts_Ch4ng3m3ntS_tR3s_cHA0t1qU3s} (précision : 0.8620689655172413)\n",
      " 260,    0, Raté ! Le modèle a obtenu une précision sur les classes inversée de 0.41379310344827586, il faut au moins 0.7\n",
      " 260,   20, Raté ! Le modèle a obtenu une précision sur les classes inversée de 0.41379310344827586, il faut au moins 0.7\n",
      " 260,   40, Bien joué ! Voici le drapeau : 404CTF{d3_p3t1ts_Ch4ng3m3ntS_tR3s_cHA0t1qU3s} (précision : 0.8275862068965517)\n",
      " 260,   60, Bien joué ! Voici le drapeau : 404CTF{d3_p3t1ts_Ch4ng3m3ntS_tR3s_cHA0t1qU3s} (précision : 0.8275862068965517)\n",
      " 260,   80, Bien joué ! Voici le drapeau : 404CTF{d3_p3t1ts_Ch4ng3m3ntS_tR3s_cHA0t1qU3s} (précision : 0.8620689655172413)\n",
      " 280,    0, Raté ! Le modèle a obtenu une précision sur les classes inversée de 0.41379310344827586, il faut au moins 0.7\n",
      " 280,   20, Raté ! Le modèle a obtenu une précision sur les classes inversée de 0.41379310344827586, il faut au moins 0.7\n",
      " 280,   40, Bien joué ! Voici le drapeau : 404CTF{d3_p3t1ts_Ch4ng3m3ntS_tR3s_cHA0t1qU3s} (précision : 0.8275862068965517)\n",
      " 280,   60, Bien joué ! Voici le drapeau : 404CTF{d3_p3t1ts_Ch4ng3m3ntS_tR3s_cHA0t1qU3s} (précision : 0.8275862068965517)\n",
      " 280,   80, Bien joué ! Voici le drapeau : 404CTF{d3_p3t1ts_Ch4ng3m3ntS_tR3s_cHA0t1qU3s} (précision : 0.8275862068965517)\n",
      " 300,    0, Raté ! Le modèle a obtenu une précision sur les classes inversée de 0.41379310344827586, il faut au moins 0.7\n",
      " 300,   20, Raté ! Le modèle a obtenu une précision sur les classes inversée de 0.41379310344827586, il faut au moins 0.7\n",
      " 300,   40, Bien joué ! Voici le drapeau : 404CTF{d3_p3t1ts_Ch4ng3m3ntS_tR3s_cHA0t1qU3s} (précision : 0.8275862068965517)\n",
      " 300,   60, Bien joué ! Voici le drapeau : 404CTF{d3_p3t1ts_Ch4ng3m3ntS_tR3s_cHA0t1qU3s} (précision : 0.8275862068965517)\n",
      " 300,   80, Bien joué ! Voici le drapeau : 404CTF{d3_p3t1ts_Ch4ng3m3ntS_tR3s_cHA0t1qU3s} (précision : 0.8275862068965517)\n",
      " 320,    0, Raté ! Le modèle a obtenu une précision sur les classes inversée de 0.41379310344827586, il faut au moins 0.7\n",
      " 320,   20, Raté ! Le modèle a obtenu une précision sur les classes inversée de 0.41379310344827586, il faut au moins 0.7\n",
      " 320,   40, Bien joué ! Voici le drapeau : 404CTF{d3_p3t1ts_Ch4ng3m3ntS_tR3s_cHA0t1qU3s} (précision : 0.8275862068965517)\n",
      " 320,   60, Bien joué ! Voici le drapeau : 404CTF{d3_p3t1ts_Ch4ng3m3ntS_tR3s_cHA0t1qU3s} (précision : 0.8275862068965517)\n",
      " 320,   80, Bien joué ! Voici le drapeau : 404CTF{d3_p3t1ts_Ch4ng3m3ntS_tR3s_cHA0t1qU3s} (précision : 0.8275862068965517)\n",
      " 340,    0, Raté ! Le modèle a obtenu une précision sur les classes inversée de 0.41379310344827586, il faut au moins 0.7\n",
      " 340,   20, Raté ! Le modèle a obtenu une précision sur les classes inversée de 0.41379310344827586, il faut au moins 0.7\n",
      " 340,   40, Bien joué ! Voici le drapeau : 404CTF{d3_p3t1ts_Ch4ng3m3ntS_tR3s_cHA0t1qU3s} (précision : 0.8275862068965517)\n",
      " 340,   60, Bien joué ! Voici le drapeau : 404CTF{d3_p3t1ts_Ch4ng3m3ntS_tR3s_cHA0t1qU3s} (précision : 0.8275862068965517)\n",
      " 340,   80, Bien joué ! Voici le drapeau : 404CTF{d3_p3t1ts_Ch4ng3m3ntS_tR3s_cHA0t1qU3s} (précision : 0.8275862068965517)\n",
      " 360,    0, Raté ! Le modèle a obtenu une précision sur les classes inversée de 0.41379310344827586, il faut au moins 0.7\n",
      " 360,   20, Raté ! Le modèle a obtenu une précision sur les classes inversée de 0.41379310344827586, il faut au moins 0.7\n",
      " 360,   40, Bien joué ! Voici le drapeau : 404CTF{d3_p3t1ts_Ch4ng3m3ntS_tR3s_cHA0t1qU3s} (précision : 0.8275862068965517)\n",
      " 360,   60, Bien joué ! Voici le drapeau : 404CTF{d3_p3t1ts_Ch4ng3m3ntS_tR3s_cHA0t1qU3s} (précision : 0.8275862068965517)\n",
      " 360,   80, Bien joué ! Voici le drapeau : 404CTF{d3_p3t1ts_Ch4ng3m3ntS_tR3s_cHA0t1qU3s} (précision : 0.8275862068965517)\n",
      " 380,    0, Raté ! Le modèle a obtenu une précision sur les classes inversée de 0.41379310344827586, il faut au moins 0.7\n",
      " 380,   20, Raté ! Le modèle a obtenu une précision sur les classes inversée de 0.41379310344827586, il faut au moins 0.7\n",
      " 380,   40, Bien joué ! Voici le drapeau : 404CTF{d3_p3t1ts_Ch4ng3m3ntS_tR3s_cHA0t1qU3s} (précision : 0.8275862068965517)\n",
      " 380,   60, Bien joué ! Voici le drapeau : 404CTF{d3_p3t1ts_Ch4ng3m3ntS_tR3s_cHA0t1qU3s} (précision : 0.8275862068965517)\n",
      " 380,   80, Bien joué ! Voici le drapeau : 404CTF{d3_p3t1ts_Ch4ng3m3ntS_tR3s_cHA0t1qU3s} (précision : 0.8275862068965517)\n",
      " 400,    0, Raté ! Le modèle a obtenu une précision sur les classes inversée de 0.41379310344827586, il faut au moins 0.7\n",
      " 400,   20, Raté ! Le modèle a obtenu une précision sur les classes inversée de 0.41379310344827586, il faut au moins 0.7\n",
      " 400,   40, Bien joué ! Voici le drapeau : 404CTF{d3_p3t1ts_Ch4ng3m3ntS_tR3s_cHA0t1qU3s} (précision : 0.8275862068965517)\n",
      " 400,   60, Bien joué ! Voici le drapeau : 404CTF{d3_p3t1ts_Ch4ng3m3ntS_tR3s_cHA0t1qU3s} (précision : 0.8275862068965517)\n",
      " 400,   80, Bien joué ! Voici le drapeau : 404CTF{d3_p3t1ts_Ch4ng3m3ntS_tR3s_cHA0t1qU3s} (précision : 0.8275862068965517)\n",
      " 420,    0, Raté ! Le modèle a obtenu une précision sur les classes inversée de 0.41379310344827586, il faut au moins 0.7\n",
      " 420,   20, Raté ! Le modèle a obtenu une précision sur les classes inversée de 0.41379310344827586, il faut au moins 0.7\n",
      " 420,   40, Bien joué ! Voici le drapeau : 404CTF{d3_p3t1ts_Ch4ng3m3ntS_tR3s_cHA0t1qU3s} (précision : 0.8275862068965517)\n",
      " 420,   60, Bien joué ! Voici le drapeau : 404CTF{d3_p3t1ts_Ch4ng3m3ntS_tR3s_cHA0t1qU3s} (précision : 0.8275862068965517)\n",
      " 420,   80, Bien joué ! Voici le drapeau : 404CTF{d3_p3t1ts_Ch4ng3m3ntS_tR3s_cHA0t1qU3s} (précision : 0.8275862068965517)\n",
      " 440,    0, Raté ! Le modèle a obtenu une précision sur les classes inversée de 0.41379310344827586, il faut au moins 0.7\n",
      " 440,   20, Raté ! Le modèle a obtenu une précision sur les classes inversée de 0.41379310344827586, il faut au moins 0.7\n",
      " 440,   40, Bien joué ! Voici le drapeau : 404CTF{d3_p3t1ts_Ch4ng3m3ntS_tR3s_cHA0t1qU3s} (précision : 0.8275862068965517)\n",
      " 440,   60, Bien joué ! Voici le drapeau : 404CTF{d3_p3t1ts_Ch4ng3m3ntS_tR3s_cHA0t1qU3s} (précision : 0.8275862068965517)\n",
      " 440,   80, Bien joué ! Voici le drapeau : 404CTF{d3_p3t1ts_Ch4ng3m3ntS_tR3s_cHA0t1qU3s} (précision : 0.8275862068965517)\n",
      " 460,    0, Raté ! Le modèle a obtenu une précision sur les classes inversée de 0.41379310344827586, il faut au moins 0.7\n",
      " 460,   20, Raté ! Le modèle a obtenu une précision sur les classes inversée de 0.41379310344827586, il faut au moins 0.7\n",
      " 460,   40, Bien joué ! Voici le drapeau : 404CTF{d3_p3t1ts_Ch4ng3m3ntS_tR3s_cHA0t1qU3s} (précision : 0.8275862068965517)\n",
      " 460,   60, Bien joué ! Voici le drapeau : 404CTF{d3_p3t1ts_Ch4ng3m3ntS_tR3s_cHA0t1qU3s} (précision : 0.8275862068965517)\n",
      " 460,   80, Bien joué ! Voici le drapeau : 404CTF{d3_p3t1ts_Ch4ng3m3ntS_tR3s_cHA0t1qU3s} (précision : 0.8275862068965517)\n",
      " 480,    0, Raté ! Le modèle a obtenu une précision sur les classes inversée de 0.41379310344827586, il faut au moins 0.7\n",
      " 480,   20, Raté ! Le modèle a obtenu une précision sur les classes inversée de 0.41379310344827586, il faut au moins 0.7\n",
      " 480,   40, Bien joué ! Voici le drapeau : 404CTF{d3_p3t1ts_Ch4ng3m3ntS_tR3s_cHA0t1qU3s} (précision : 0.8275862068965517)\n",
      " 480,   60, Bien joué ! Voici le drapeau : 404CTF{d3_p3t1ts_Ch4ng3m3ntS_tR3s_cHA0t1qU3s} (précision : 0.8275862068965517)\n",
      " 480,   80, Bien joué ! Voici le drapeau : 404CTF{d3_p3t1ts_Ch4ng3m3ntS_tR3s_cHA0t1qU3s} (précision : 0.8275862068965517)\n"
     ]
    }
   ],
   "execution_count": 20
  }
 ],
 "metadata": {
  "kernelspec": {
   "display_name": "Python 3",
   "language": "python",
   "name": "python3"
  },
  "language_info": {
   "codemirror_mode": {
    "name": "ipython",
    "version": 2
   },
   "file_extension": ".py",
   "mimetype": "text/x-python",
   "name": "python",
   "nbconvert_exporter": "python",
   "pygments_lexer": "ipython2",
   "version": "2.7.6"
  }
 },
 "nbformat": 4,
 "nbformat_minor": 5
}
