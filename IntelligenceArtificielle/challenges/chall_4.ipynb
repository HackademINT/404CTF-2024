{
 "cells": [
  {
   "cell_type": "code",
   "id": "initial_id",
   "metadata": {
    "collapsed": true,
    "ExecuteTime": {
     "end_time": "2024-05-23T05:39:21.949579Z",
     "start_time": "2024-05-23T05:39:18.223979Z"
    }
   },
   "source": [
    "from fl.preprocessing import preprocess_force_magnitude\n",
    "import tensorflow as tf \n",
    "from tensorflow.keras.models import load_model\n",
    "\n",
    "model = load_model(\"../models/force_prediction_model.h5\")"
   ],
   "outputs": [
    {
     "name": "stderr",
     "output_type": "stream",
     "text": [
      "2024-05-23 07:39:19.268966: I external/local_tsl/tsl/cuda/cudart_stub.cc:31] Could not find cuda drivers on your machine, GPU will not be used.\n",
      "2024-05-23 07:39:19.457164: E external/local_xla/xla/stream_executor/cuda/cuda_dnn.cc:9261] Unable to register cuDNN factory: Attempting to register factory for plugin cuDNN when one has already been registered\n",
      "2024-05-23 07:39:19.457222: E external/local_xla/xla/stream_executor/cuda/cuda_fft.cc:607] Unable to register cuFFT factory: Attempting to register factory for plugin cuFFT when one has already been registered\n",
      "2024-05-23 07:39:19.491250: E external/local_xla/xla/stream_executor/cuda/cuda_blas.cc:1515] Unable to register cuBLAS factory: Attempting to register factory for plugin cuBLAS when one has already been registered\n",
      "2024-05-23 07:39:19.564622: I external/local_tsl/tsl/cuda/cudart_stub.cc:31] Could not find cuda drivers on your machine, GPU will not be used.\n",
      "2024-05-23 07:39:19.565270: I tensorflow/core/platform/cpu_feature_guard.cc:182] This TensorFlow binary is optimized to use available CPU instructions in performance-critical operations.\n",
      "To enable the following instructions: AVX2 FMA, in other operations, rebuild TensorFlow with the appropriate compiler flags.\n",
      "2024-05-23 07:39:20.765777: W tensorflow/compiler/tf2tensorrt/utils/py_utils.cc:38] TF-TRT Warning: Could not find TensorRT\n",
      "2024-05-23 07:39:21.854728: I external/local_xla/xla/stream_executor/cuda/cuda_executor.cc:901] successful NUMA node read from SysFS had negative value (-1), but there must be at least one NUMA node, so returning NUMA node zero. See more at https://github.com/torvalds/linux/blob/v6.0/Documentation/ABI/testing/sysfs-bus-pci#L344-L355\n",
      "2024-05-23 07:39:21.855186: W tensorflow/core/common_runtime/gpu/gpu_device.cc:2256] Cannot dlopen some GPU libraries. Please make sure the missing libraries mentioned above are installed properly if you would like to use GPU. Follow the guide at https://www.tensorflow.org/install/gpu for how to download and setup the required libraries for your platform.\n",
      "Skipping registering GPU devices...\n"
     ]
    }
   ],
   "execution_count": 1
  },
  {
   "cell_type": "markdown",
   "source": [
    "## ***>> Assurez-vous d'avoir tensorflow version 2.15***\n",
    "`pip install tensorflow==2.15`\n",
    "\n",
    "# Challenge 4 : Du poison [3/2]\n",
    "\n",
    "Pour ce challenge, **on sort du cadre de l'apprentissage fédéré**. On sort aussi de la classification d'images MNIST, pour s'intéresser à un autre modèle : un réseau de neurone capable de prédire la puissance (vitesse) d'un voilier, en se basant sur l'accélération en x, y et z. \n",
    "\n",
    "Une étape de préparation des données est effectuée pour calculer l'amplitude (la norme au carré) et pour enlever les données inutiles. Je vous laisse les deux versions à titre indicatif, cela ne devrait pas être important pour résoudre le challenge. \n",
    "\n",
    "C'est un modèle de **régression**, c'est-à-dire qu'il ne finit pas sur une sigmoïde, mais sur, rien ! Toutes les valeurs sont possibles en sortie. Même si en pratique, je l'utilise avec une notion de classe, soit 25, soit 50. Si la sortie du modèle est $x$, la classe prédite est :\n",
    "- 25 si $|25 - x|$ < $|50 - x|$\n",
    "- 50 sinon\n",
    "\n",
    "**Le but du challenge est de modifier deux poids, pour que le modèle prédise toutes les classes 25 en 50 et inversement.** \n",
    "\n",
    "Vous avez pour cela quatre exemples de données dans `data/example_force_...`. Bonne chance !"
   ],
   "metadata": {
    "collapsed": false
   },
   "id": "3bbcf256c2d625f1"
  },
  {
   "cell_type": "code",
   "source": [
    "examples = [\"25a\", \"25b\", \"50a\", \"50b\"]\n",
    "values = {example: tf.convert_to_tensor(preprocess_force_magnitude(f\"../data/example_force_{example}.csv\").to_numpy()[:, 0].reshape(1, 50)) for example in examples}\n",
    "predictions = {example: model.predict(values[example])[0][0] for example in examples}\n",
    "predictions"
   ],
   "metadata": {
    "collapsed": false,
    "ExecuteTime": {
     "end_time": "2024-05-23T05:39:28.167201Z",
     "start_time": "2024-05-23T05:39:27.807384Z"
    }
   },
   "id": "b800a7f11c461d8d",
   "outputs": [
    {
     "name": "stdout",
     "output_type": "stream",
     "text": [
      "1/1 [==============================] - 0s 73ms/step\n",
      "1/1 [==============================] - 0s 22ms/step\n",
      "1/1 [==============================] - 0s 14ms/step\n",
      "1/1 [==============================] - 0s 16ms/step\n"
     ]
    },
    {
     "data": {
      "text/plain": [
       "{'25a': 24.904825, '25b': 25.188284, '50a': 55.799343, '50b': 46.487675}"
      ]
     },
     "execution_count": 2,
     "metadata": {},
     "output_type": "execute_result"
    }
   ],
   "execution_count": 2
  },
  {
   "cell_type": "code",
   "source": [
    "weights = model.get_weights()\n",
    "\n",
    "# Structure de notre réseau de neurone, classique : Dense + ReLU\n",
    "model.summary()"
   ],
   "metadata": {
    "collapsed": false,
    "ExecuteTime": {
     "end_time": "2024-05-23T05:39:28.191328Z",
     "start_time": "2024-05-23T05:39:28.169365Z"
    }
   },
   "id": "e655c64775808833",
   "outputs": [
    {
     "name": "stdout",
     "output_type": "stream",
     "text": [
      "Model: \"sequential\"\n",
      "_________________________________________________________________\n",
      " Layer (type)                Output Shape              Param #   \n",
      "=================================================================\n",
      " dense (Dense)               (None, 64)                3264      \n",
      "                                                                 \n",
      " dense_1 (Dense)             (None, 32)                2080      \n",
      "                                                                 \n",
      " dense_2 (Dense)             (None, 1)                 33        \n",
      "                                                                 \n",
      "=================================================================\n",
      "Total params: 5377 (21.00 KB)\n",
      "Trainable params: 5377 (21.00 KB)\n",
      "Non-trainable params: 0 (0.00 Byte)\n",
      "_________________________________________________________________\n"
     ]
    }
   ],
   "execution_count": 3
  },
  {
   "cell_type": "markdown",
   "source": [
    "## Récupération du drapeau"
   ],
   "metadata": {
    "collapsed": false
   },
   "id": "127469d4cc208509"
  },
  {
   "cell_type": "code",
   "outputs": [],
   "source": [
    "import requests as rq\n",
    "\n",
    "URL = \"https://du-poison.challenges.404ctf.fr\"\n",
    "rq.get(URL + \"/healthcheck\").json()"
   ],
   "metadata": {
    "collapsed": false
   },
   "id": "4018d012b936844",
   "execution_count": null
  },
  {
   "cell_type": "code",
   "outputs": [],
   "source": [
    "d = {\n",
    "    \"position_1\": [-4, 10, 25],  # Par exemple : premier poids à modifier à la couche -4 et à la position (10, 25)\n",
    "    \"value_1\": 0.066,  # Nouvelle valeur \n",
    "    \"position_2\": [-1, 0],  # La couche -1 est une couche de biais, il y a donc juste une coordonnée à renseigner\n",
    "    \"value_2\": 0.0017\n",
    "}\n",
    "rq.post(URL + \"/challenges/4\", json=d).json()[\"message\"]"
   ],
   "metadata": {
    "collapsed": false
   },
   "id": "d1619320f3e4a552",
   "execution_count": null
  }
 ],
 "metadata": {
  "kernelspec": {
   "display_name": "Python 3",
   "language": "python",
   "name": "python3"
  },
  "language_info": {
   "codemirror_mode": {
    "name": "ipython",
    "version": 2
   },
   "file_extension": ".py",
   "mimetype": "text/x-python",
   "name": "python",
   "nbconvert_exporter": "python",
   "pygments_lexer": "ipython2",
   "version": "2.7.6"
  }
 },
 "nbformat": 4,
 "nbformat_minor": 5
}
