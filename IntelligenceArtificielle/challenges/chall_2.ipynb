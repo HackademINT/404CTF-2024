{
 "cells": [
  {
   "cell_type": "code",
   "outputs": [],
   "source": [
    "from fl.preprocessing import load_mnist, data_to_client\n",
    "from fl.model import NN\n",
    "from fl.utils import plot_train_and_test, weights_to_json\n",
    "from fl.federated_learning import federated"
   ],
   "metadata": {
    "collapsed": false
   },
   "id": "e8eaea66ebe827d9",
   "execution_count": 1
  },
  {
   "cell_type": "markdown",
   "source": [
    "# Challenge 2 : Du poison [2/2]\n",
    "\n",
    "![du_poison_2.jpg](https://i.imgflip.com/8nfix9.jpg)\n",
    "\n",
    "## Une défense ? \n",
    "Cette fois, une défense a été mise en place. Il s'agit d'éviter qu'un client ait trop d'influence en forçant une variation maximale pour les poids. Mais *est-ce suffisant ?* "
   ],
   "metadata": {
    "collapsed": false
   },
   "id": "4c73d758496df2d5"
  },
  {
   "cell_type": "markdown",
   "source": [
    "## Récupération du drapeau \n",
    "\n",
    "Comme pour le premier challenge, il faut envoyer ses poids à l'API. "
   ],
   "metadata": {
    "collapsed": false
   },
   "id": "1cf474a928ebb616"
  },
  {
   "cell_type": "code",
   "outputs": [],
   "source": [
    "model = ...\n",
    "raise NotImplementedError"
   ],
   "metadata": {
    "collapsed": false
   },
   "id": "d67c8b3d63b849b0",
   "execution_count": 2
  },
  {
   "cell_type": "code",
   "outputs": [],
   "source": [
    "import requests as rq\n",
    "\n",
    "URL = \"https://du-poison.challenges.404ctf.fr\"\n",
    "rq.get(URL + \"/healthcheck\").json()"
   ],
   "metadata": {
    "collapsed": false
   },
   "id": "939d028dabb70e23",
   "execution_count": 3
  },
  {
   "cell_type": "code",
   "outputs": [],
   "source": [
    "d = weights_to_json(model.get_weights())\n",
    "rq.post(URL + \"/challenges/2\", json=d).json()"
   ],
   "metadata": {
    "collapsed": false
   },
   "id": "36f41e01e352a919",
   "execution_count": 4
  }
 ],
 "metadata": {
  "kernelspec": {
   "display_name": "Python 3",
   "language": "python",
   "name": "python3"
  },
  "language_info": {
   "codemirror_mode": {
    "name": "ipython",
    "version": 2
   },
   "file_extension": ".py",
   "mimetype": "text/x-python",
   "name": "python",
   "nbconvert_exporter": "python",
   "pygments_lexer": "ipython2",
   "version": "2.7.6"
  }
 },
 "nbformat": 4,
 "nbformat_minor": 5
}
