{
 "cells": [
  {
   "cell_type": "code",
   "execution_count": 2,
   "id": "initial_id",
   "metadata": {
    "collapsed": true,
    "ExecuteTime": {
     "end_time": "2024-05-20T08:20:37.485754Z",
     "start_time": "2024-05-20T08:20:37.481879Z"
    }
   },
   "outputs": [],
   "source": [
    "import numpy as np\n",
    "import requests as rq\n",
    "\n",
    "from fl.model import NN\n",
    "from fl.preprocessing import load_mnist, data_to_client\n",
    "from fl.federated_learning import train_and_test\n",
    "\n",
    "\n",
    "URL = \"http://localhost:8000/\"\n",
    "# URL = \"https://du-poison.challenges.404ctf.fr/\" "
   ]
  },
  {
   "metadata": {},
   "cell_type": "markdown",
   "source": [
    "# Solution du challenge 2 : Du poison [2/2]\n",
    "\n",
    "Lors du 404 CTF, j'ai mis un seuil de 0.5 pour les tests afin d'être large et m'assurer que toute personne avec une solution décente réussisse à obtenir le drapeau à chaque coup. Malheureusement, il se trouve qu'il était beaucoup trop haut et que beaucoup de joueurs ont pu réussir le challenge 1 et 2 de la même façon. J'ai donc modifié le seuil à 0.3 ici, pour pouvoir présenter une solution différente. \n",
    "\n",
    "Comme avant on récupère le modèle, cette fois on va l'entraîner correctement : "
   ],
   "id": "547c8c69632bd831"
  },
  {
   "cell_type": "code",
   "outputs": [],
   "source": [
    "dataset = load_mnist()\n",
    "model = NN()\n",
    "model.load_weights(\"../weights/base_fl.weights.h5\")\n",
    "x_train, y_train, x_test, y_test = dataset\n",
    "x_clients, y_clients = data_to_client(x_train, y_train)"
   ],
   "metadata": {
    "collapsed": false,
    "ExecuteTime": {
     "end_time": "2024-05-20T08:20:42.965468Z",
     "start_time": "2024-05-20T08:20:41.590200Z"
    }
   },
   "id": "f9d12e0e562f86ca",
   "execution_count": 4
  },
  {
   "cell_type": "code",
   "outputs": [
    {
     "name": "stdout",
     "output_type": "stream",
     "text": [
      "63/63 [==============================] - 0s 3ms/step\n",
      "Accuracy of the model: 0.799\n"
     ]
    }
   ],
   "source": [
    "results = train_and_test(model, x_clients[0], y_clients[0], x_test, y_test, adam_lr=0.04)\n",
    "weights = results[\"model\"].get_weights()"
   ],
   "metadata": {
    "collapsed": false,
    "ExecuteTime": {
     "end_time": "2024-05-20T08:20:46.570290Z",
     "start_time": "2024-05-20T08:20:43.513877Z"
    }
   },
   "id": "77c21ac6dcfdedc0",
   "execution_count": 5
  },
  {
   "metadata": {},
   "cell_type": "markdown",
   "source": "On réessaie la méthode du challenge 1 : ",
   "id": "d19aacea0f0180dc"
  },
  {
   "cell_type": "code",
   "outputs": [],
   "source": [
    "d = {\n",
    "    \"w1\": np.random.random(weights[0].shape).tolist(),\n",
    "    \"b1\": np.random.random(weights[1].shape).tolist(),\n",
    "    \"w2\": np.random.random(weights[2].shape).tolist(),\n",
    "    \"b2\": np.random.random(weights[3].shape).tolist(),\n",
    "    \"w3\": np.random.random(weights[4].shape).tolist(),\n",
    "    \"b3\": np.random.random(weights[5].shape).tolist(),\n",
    "    \"w4\": np.random.random(weights[6].shape).tolist(),\n",
    "    \"b4\": np.random.random(weights[7].shape).tolist()\n",
    "}"
   ],
   "metadata": {
    "collapsed": false,
    "ExecuteTime": {
     "end_time": "2024-05-20T08:20:47.260599Z",
     "start_time": "2024-05-20T08:20:47.165734Z"
    }
   },
   "id": "eccecf8fda6e0cf6",
   "execution_count": 6
  },
  {
   "cell_type": "code",
   "outputs": [
    {
     "data": {
      "text/plain": "{'message': 'Statut : en pleine forme !'}"
     },
     "execution_count": 7,
     "metadata": {},
     "output_type": "execute_result"
    }
   ],
   "source": [
    "rq.get(URL + \"healthcheck\").json()"
   ],
   "metadata": {
    "collapsed": false,
    "ExecuteTime": {
     "end_time": "2024-05-20T08:20:47.644348Z",
     "start_time": "2024-05-20T08:20:47.630744Z"
    }
   },
   "id": "c7a96a0d856c1947",
   "execution_count": 7
  },
  {
   "cell_type": "code",
   "outputs": [
    {
     "data": {
      "text/plain": "{'message': \"Raté ! Le score de l'apprentissage fédéré est de 0.4055. Il faut l'empoisonner pour qu'il passe en dessous de 0.3\"}"
     },
     "execution_count": 8,
     "metadata": {},
     "output_type": "execute_result"
    }
   ],
   "source": [
    "rq.post(URL + \"challenges/2\", json=d).json()"
   ],
   "metadata": {
    "collapsed": false,
    "ExecuteTime": {
     "end_time": "2024-05-20T08:20:51.197594Z",
     "start_time": "2024-05-20T08:20:48.340183Z"
    }
   },
   "id": "685535e8d48977e3",
   "execution_count": 8
  },
  {
   "metadata": {},
   "cell_type": "markdown",
   "source": [
    "Comme mentionné précédemment, cette méthode fonctionnait durant la compétition (0.4055 < 0.5) mais ici vu que le seuil est à 0.3 il va falloir trouver autre chose. \n",
    "\n",
    "Que s'est-il passé ? \n",
    "\n",
    "Le challenge 1 ne comportait aucune protection. Du coup, lorsqu'on a mis des poids aléatoires prenant des valeurs entre -1 et 1, cela a complètement cassé le modèle. En effet, les valeurs usuelles des poids sont très proches de 0, de l'ordre de 0.001 pour les réseaux utilisés dans ces challenges. De ce fait, lors de la mise en commun, les poids aléatoires vont largement prendre le dessus, et empoisonner tout le modèle commun. \n",
    "Cette fois le challenge comporte une petite protection. Pour ne pas avoir de valeurs trop aberrantes, le serveur s'occupe d'abord de couper les poids au-dessus d'un certain seuil :\n",
    "$$\n",
    "w' = \\text{sign}(w) \\times \\min(|w|, s)\n",
    "$$\n",
    "\n",
    "On cherche donc à avoir un impact maximal avec la plus petite amplitude de poids possible. On peut par exemple prendre l'inverse des poids calculés : on a calculé les poids pour maximiser l'augmentation de la précision du modèle, prendre l'inverse permet donc de maximiser la diminution de la précision du modèle."
   ],
   "id": "a95891c730203607"
  },
  {
   "cell_type": "code",
   "outputs": [],
   "source": [
    "d = {\n",
    "    \"w1\": (-np.sign(weights[0])).tolist(),\n",
    "    \"b1\": (-np.sign(weights[1])).tolist(),\n",
    "    \"w2\": (-np.sign(weights[2])).tolist(),\n",
    "    \"b2\": (-np.sign(weights[3])).tolist(),\n",
    "    \"w3\": (-np.sign(weights[4])).tolist(),\n",
    "    \"b3\": (-np.sign(weights[5])).tolist(),\n",
    "    \"w4\": (-np.sign(weights[6])).tolist(),\n",
    "    \"b4\": (-np.sign(weights[7])).tolist()\n",
    "}"
   ],
   "metadata": {
    "collapsed": false,
    "ExecuteTime": {
     "end_time": "2024-05-20T08:21:19.143641Z",
     "start_time": "2024-05-20T08:21:19.025473Z"
    }
   },
   "id": "7be20b3cdeccea7a",
   "execution_count": 12
  },
  {
   "cell_type": "code",
   "outputs": [
    {
     "data": {
      "text/plain": "{'message': 'Bravo ! Voici le drapeau : 404CTF{p3rF0rm4nc3_Ou_s3cUR1T3_FaUt_iL_Ch01s1r?} (score : 0.261)'}"
     },
     "execution_count": 13,
     "metadata": {},
     "output_type": "execute_result"
    }
   ],
   "source": [
    "rq.post(URL + \"challenges/2\", json=d).json()"
   ],
   "metadata": {
    "collapsed": false,
    "ExecuteTime": {
     "end_time": "2024-05-20T08:21:21.033987Z",
     "start_time": "2024-05-20T08:21:19.874993Z"
    }
   },
   "id": "2f1821e59162ea3",
   "execution_count": 13
  }
 ],
 "metadata": {
  "kernelspec": {
   "name": "inria",
   "language": "python",
   "display_name": "Python (INRIA)"
  },
  "language_info": {
   "codemirror_mode": {
    "name": "ipython",
    "version": 2
   },
   "file_extension": ".py",
   "mimetype": "text/x-python",
   "name": "python",
   "nbconvert_exporter": "python",
   "pygments_lexer": "ipython2",
   "version": "2.7.6"
  }
 },
 "nbformat": 4,
 "nbformat_minor": 5
}
